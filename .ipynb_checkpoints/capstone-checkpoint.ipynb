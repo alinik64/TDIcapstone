{
 "cells": [
  {
   "cell_type": "markdown",
   "id": "9c3a3cb3",
   "metadata": {},
   "source": [
    "## Executive Summary FLIGHT DELAYS"
   ]
  },
  {
   "cell_type": "markdown",
   "id": "ea33c5ca",
   "metadata": {},
   "source": [
    "In this project, I intend to produce a tool that can predict the status of your next flight and help you prepare for the possible delays.\n",
    "This tool will take some information about your next flight as input (<b>origin</b>, <b>destination</b>, <b>day of the week</b>, <b>time of the day</b>, and <b>airline</b>), and predicts whether or not it will be delayed, and by how much.\n",
    "\n",
    "In order to build the required datasets, flight delay data were downloaded from Department Of Transportation flight delay portal. Zipped files are later read and merged into one dataframe. This Datafram, among trained models,\n",
    "are all pickled for convenience.\n",
    "The user of this tool is the passanger who is planning his/her trip to the airport. The outcome of this binary classification is status of the flight (ONTIME/DELAYED). Since the cost of incorrectly predicting an ontime or delayed flights are not the same, for the sake of this project it is assumed that the user, in the event of incorrectly classifying the DELAYED flight as ONTIME, incurrs a loss equal to three times as much compared to when the tool incorrectly classifies a DELAYED flight as ONTIME.\n",
    "\n",
    "User is given ability to select among 6 different pre-trained models for the predictions. AUC calculations however have shown that <b>Random Forest</b> model is more accurate across all classification thresholds. For the current asymmetric cost of mis-classficiation, it is shown that the correct threshold is about 20% (Any flight with higher than 20% likelihood of delay is going to be classified as DELAYED)\n",
    "\n",
    "Finally, the user is provided with an interactive tool to predict the status of his/her flight along with the predicted amount of delay.\n",
    "\n",
    "<b> Data Portals and References </b><br>\n",
    "[1] https://www.transtats.bts.gov<br>\n",
    "[2] Data Mining For business Analytics, Schmueli et al"
   ]
  },
  {
   "cell_type": "markdown",
   "id": "b5c7f1f9",
   "metadata": {
    "heading_collapsed": true
   },
   "source": [
    "# 0. Downloading and preparing data"
   ]
  },
  {
   "cell_type": "markdown",
   "id": "3a9c2ee9",
   "metadata": {
    "hidden": true
   },
   "source": [
    "In the first part of the notebook, I have written the code that downloads the data from department of transportation for every month of every year separately"
   ]
  },
  {
   "cell_type": "code",
   "execution_count": 1,
   "id": "74a3c556",
   "metadata": {
    "hidden": true
   },
   "outputs": [],
   "source": [
    "import requests"
   ]
  },
  {
   "cell_type": "code",
   "execution_count": null,
   "id": "7a50902d",
   "metadata": {
    "hidden": true,
    "scrolled": true
   },
   "outputs": [],
   "source": [
    "url = 'https://www.transtats.bts.gov/DL_SelectFields.aspx?gnoyr_VQ=FGJ&QO_fu146_anzr=b0-gvzr'\n",
    "\n",
    "header = {\n",
    "    \"Host\": \"www.transtats.bts.gov\",\n",
    "    \"Accept\" : \"text/html,application/xhtml+xml,application/xml;q=0.9,image/avif,image/webp,*/*;q=0.8\",\n",
    "    \"Accept-Encoding\" : \"gzip, deflate, br\",\n",
    "    \"Accept-Language\" : \"en-US,en;q=0.5\",\n",
    "    \"Connection\" : \"keep-alive\",\n",
    "    \"Content-Length\" : \"12342\",\n",
    "    \"Content-Type\" : \"application/x-www-form-urlencoded\",\n",
    "    \"Cookie\" : \"_ga_NQ5ZN114SB=GS1.1.1655303685.4.1.1655303879.0; _ga=GA1.2.643660820.1654890174; _ga=GA1.3.643660820.1654890174; __utma=261918792.643660820.1654890174.1654897216.1655303687.3; __utmz=261918792.1654890174.1.1.utmcsr=(direct)|utmccn=(direct)|utmcmd=(none); QSI_SI_e8TSnTOxZxScWdT_intercept=true; ASP.NET_SessionId=3xleeotckvsvzerscz5wadts; f5avraaaaaaaaaaaaaaaa_session_=DAFBDEAAAHEADMLHOGCPHHOCJIDHHLABLOCOPBHOAMPBACOALCHGGPIFCMJGNPNLNEGDJLKJENAHAKEEPNOAGCPPLOMEMJJMDPECALABHPCIBAGDKKBBKJHMGACDAAJI; has_js=1; _gid=GA1.2.1742897216.1655303687; _gid=GA1.3.1742897216.1655303687; __utmb=261918792.1.10.1655303687; __utmc=261918792; __utmt_GSA_CP=1; QSI_HistorySession=https%3A%2F%2Fwww.transtats.bts.gov%2FDL_SelectFields.aspx%3Fgnoyr_VQ%3DFGJ%26QO_fu146_anzr%3Db0-gvzr~1655303688624\",\n",
    "    \"Host\" : \"www.transtats.bts.gov\",\n",
    "    \"Origin\" : \"https://www.transtats.bts.gov\",\n",
    "    \"Referer\" : \"https://www.transtats.bts.gov/DL_SelectFields.aspx?gnoyr_VQ=FGJ&QO_fu146_anzr=b0-gvzr\",\n",
    "    \"Sec-Fetch-Dest\" : \"document\",\n",
    "    \"Sec-Fetch-Mode\" : \"navigate\",\n",
    "    \"Sec-Fetch-Site\" : \"same-origin\",\n",
    "    \"Sec-Fetch-User\" : \"?1\",\n",
    "    \"Upgrade-Insecure-Requests\" : \"1\",\n",
    "    \"User-Agent\" : \"Mozilla/5.0 (Windows NT 10.0; Win64; x64; rv:101.0) Gecko/20100101 Firefox/101.0\"\n",
    "}     \n",
    "\n",
    "\n",
    "data = \"__EVENTTARGET=&__EVENTARGUMENT=&__LASTFOCUS=&__VIEWSTATE=cKJJssr9%2FAKL5pkFEmbxWsMbHp454%2B2oEbSTZklWcXdytQE7%2Bk0rUL7Wl4ioq1%2FtQz7sfoXyupivdDw3aGTHsduWqInpNmkBO9qC1MOh0sqg%2BIPRaHwGhhsW4yWcjR0oF87NJ0ZHYjNZWroPq4lDi%2Bce1UjwOYec82KIWe%2FGp%2F%2BdngibG%2B9RdaM62wFQ2stXOskOI8l76do0OG8oyLiIs2i4IhjRzlefbMumCVrUFn1hx8Vw6i3eLKKe8e3ZJOueYeRsNijh%2B4waGiIAhOBb7fG9eLhM0c%2BH4R6LjykP9e4bnB37lsORZxyWxj1bKcgfyeSfWlB4Sb9ZneDLKg8CvSEDultK5DadXdJxBc%2FlUGoSvZH54Ott%2BdI074pjsMPLV%2FmdIfwjbhpFHk%2FBIZ4LP261HV3N%2B2ZwkUOCBeOccyoSNuwkSfNAyrxfpWvNZbVrnWGIK2316rRzIZqxHM6x6oTS41Elgd4shsZb9PezIUU9A%2FrHHkS12iG%2F8ebI82PJeljQ9d95KnaxZbk2t%2Bj6aVtq%2FQhy94d6dwzVQeXQYXI5q%2FsynrO3XSnb%2FL%2BTloYcSbOi0CdrigUbTuLnWE478dVs4JcNuPWOSkQTjHrlIjcXeB82h4q1sszF1wHB9Dwh6rlvL44rkiY%2F%2BFd2rVhFOOnfMcJLESnilIMDSqbXDVw6nFZOsh7Lo3vmmJqx7W4PCf9i8sbDjqfGSLjiWMU0%2BSx3K6yJf32Gum3c1yZsH8WAGvmHvIC2l0jvKOsWj7umXOsRGf14rgXWF5hTQHvlx26OJvUR2%2BWZEqBxDYwX9NtkW23QAUYWQK5Qw6EU5NlgwVmfv1BZ3IS5IIFrY9Bxa4Dq2nYwxiDep0RKRcVKjA3iSq3ju%2FQJko2cb2fWTGsob5NmwpgYB3B89DADeRH7pHf81JTPxB8iiQDW8y5yt3nFb0UP9BXM4XwJR%2BSILWABXaF8VbomA9RoEcLAAHx4B%2FvptsK6ByxgKpOvNaHmbWPYmdU7g9LajXHODuV2E2b9QFPydit7CH3yL8iB3rg0kup5vsC3pSTgJ61dOPD%2B44xcgHy%2Bi5YD%2FZa8UHYuDggIWqfiDgF7KMkLyg89Lk2tAslKAIPjWA77CQQUj2n8sfxbR1UP3zEP84%2B8NTsS%2F1zlnEUR4bfON2hzKIgvKn2O1LOVCHtUHPnByp3IbAmFjZTjYjEa2Ima5H1rWPC0%2FkSLmZ9v9VwmvWs0I%2BPlUvf2UCt9htxje7PTCRBKX8ACv9MsqwACJwPdFNzVpByR%2BBEwbQhOMkZjc3TzCS5WF%2FGXjWVU7B%2B5Aws1g%2BtEkWLmidB06rjUnMeB%2FFt2%2FkpeBhtGe0Ma3gRsNehFCDjJvXGOc33xDMW4kF6ieDTUV6o3HupFYIYjWbEoe84wI%2BK2eUqJJLbt4HC9nGLRhhAy4kQ9oT7AKFOARBX6ljwES12OT7WPhaN%2FMKsNz%2F9F3OLbRMkDXz7W6SjL0FQp2WZw9k9z4RJhZFwLGPNI6yb4zk4zX1JGFe7KrDKTkjiHQYw0W2NHmghnMC%2BTtxd3CTJ%2FG0v%2B6utA89lI56TuKTulaI9Wx7vuxaUPVluB6gUN3pN2p%2BFhsaTJyxlzTyrkx8PqPFHbjLzWgpwtTMgQlNotZwXitSxm1DtmLg%2F7kDDGTLDKlJldChBbyMwqxB%2BL1bpVrLJ88qHfIZwCCpff8CqQ4qwhl0bYYwJlZBfkj8TDAzOmJltN%2B4vqBw7CtfaQLGzHLFbLIhiIQZbR5XVOfvu4sZw%2BjcB2Zowax3kuarywCrNIDqPK5X2hTO9PZlE1W5ch%2FvV4cRfTzDLnrstIyppVsjZSMF2drgg%2B848oCXPw9hRjxrfVrwY3QO33VwenN30d6%2BCj21EBn5D4MW8%2FLEUO1aFK4Kn%2Fe7QUWQue63fT53CpJ486KupHA%2BKBrWVRPgWLbtJvV4ltcO6FITewJde5mFblyhu5B7Ygsm00fheF5xzCwYlOiADhgqxPpPcus1EAwAFtd0XspcrQXP2ghbM%2Fc06wi3RexlHAY%2BKFAtJ2KDH4D3sT6%2FzgmxMTcioeIFyU9aYccP8OUPGzu%2Fo%2FSJwdJ8DZdrOvlGwz6ViJAI96ocPEbiMC293nce%2FIQ4gpgb3hnvmqU%2FkmDleht6IwUu59RxAcWUvYYzuC%2FIFp3vpcKjxsneEMKktMxnMkitS1hYLVeMfCIxuLuKgFXMKBn3QwBYjB7tyUDz0Wd0N7f0iGuxDNczHMWJsJRrvxru32F4muCgKeL9%2FFX%2BBmKDDwB6sjOkJ%2F1hQtI%2ByHHEmyF2YnUCZB13zS19%2BZ3QCxLe%2FMAu8w8cYHCBAUPB%2FCE%2FmlFh%2FJO5X0zhxhUm2HHAb6RfxKmLADYs45DUHFf%2FXEVPUynBdvqdjQCwEThdNLNOfYil8sK6xM%2FEbVuJ250m3qPkULlAZ6wkhYRHmPtyki8q5yF2usxqZcaMCDctVD0pcjrdPDYsjDhOUgbJIP%2FdX8GvZvYF2GF4BMdnsZxId7Of2WBwJCY%2FxISOwph2RCuEomdzT0QonDXmUyQPNgwKWUPmOn2rQ3hkUUImkaeXzbP6%2F8pUMY%2Fu7y4mFxyye0TjX1UPSxz6XLXcrDgR2LF0cKkDZ9yy0NANzKJhlvXbtNoPjErurPfVJ%2Fw1RB5skZFFoWIpd9WVEfkWhtP1kr8dUecuZESweFMi8YJwKhh9tGQz%2B589gyH3sYrMPzgr3yY4MfwCTCRbvDNuthLU9now%2Bs%2FLN0SO9dyeX8RWtSRXOzAB%2F%2BCEWDboixHl5lR1gcqLRrHwIGAlqGIxdfuYLK%2FxUmvyTmqVICOZPQRUyRe25zBFtfr45ERlI8EKAUmEVId36YzAiLmV%2FrIdjHhyu%2BiYtQ1%2BPQ1pmHW5Bc7cLI0JHqTcavpeW%2FHr4PajtlRB7s5bLd6pggaks2nPJRzTLF%2FrYawXAzumqJmk4C%2FdTw7LDk0s3lnz%2F1wJ9Rxaph%2Fq%2BK1kA98XQqb0h9YJHqey0o%2BHpOxSV5IbDqVQQ2Pe%2BE4m2y5bmSjga9rYK3cBsYO9r2gCA7XPQuoT5C9DnMQwDROB2VqMKHOe47j3iywK9F0K%2Bisz9DCl%2BMA1pcXI9xp5SYYKEiXUIRz3mv9detaS03qmvLGmpNnGhJ9SmosMpdMWCOcEDMXLNhv5My1xyvwAVjAeiqaXTTuI8bzDMIJlpvDkCvBbnYxKCRe67v6iAmFCvQmLOlkMveyYffxm2LyJtK3q2XcEbhz6uTNHXC32efbcI32qiOOXuY9eYBBTZ6ai960xhx6jyJ57Gz4TKnTOGt1LCYwvsCZtzGboBYnze04K6ZXXF8DW4TxeFl71u281spr%2B97sntLoHeR96%2FdBz3IoWRM4cbb4R0b7tjtvSgbg3HhCYI1ffzZFiqZ9HpcLYtmRuUlROav%2FkLf8QBmcsz2q2PpTG52eO6qk5R5%2Fzz5jph5cv%2BCQZSTIT3%2BUEwS2aerf5GOkZ07oVnjBMlntVmgIvrVVdXnyaW07NhxNhCoNXRBboZpQGxTTR%2FPncqxmeQUjCIGjDj%2FUwMnNnkJYuf8h959C2cS1EFTCg3vxiM46s7bHtcaO1bCs60whqgPwDg5iPvC%2F0l7XUO%2Fj2QNSKMBzLaW92LKTzjgeYUyrjpODhmvuVP0KkUzIE4%2FT8pe87AAz1ImJLuKDPc0JgjunihKtzFixN6RJNPYyJsBspZdND%2FaRoQlIhAt%2B7y8%2BAPHnABvp%2FqUh9INab7tUGw0L6ou9QVTiUOQ0n1mWvnWVPqPT%2Bg0ybs5VEAuTJyBmRzIuIzyxrqVrys2JvXkLf06edo%2Bwx6rILOcfBFYgA1aUKvgK8XVAeEmoPFE9SJmrBigvkdWsAg9DQZ2j3h1TLNo9NEYIszfPgmleXUr6TQvAznyCY2doOdj%2Btd8p4UTWrjsrvkxMn8IbehYJlS%2B5jnGHQN%2FJg2mAmzViTJUFhreJfbeACqNBqdtvQj%2BTfQDsooCroxQvG7tCbOEYI2tN0VN%2FKOp%2FO58ZzKH0ZSc9ppNysQC4mr75EbcKZkBZMKevhJEZW5qC8IxRDREaVFMOuGEbZ3zZ76K7TNvO0be%2B74ar%2FyF1Xn9%2Fcz8KvK0EnNfVE5F7jwrtlO0AvESqGe4DV7hVcCY15HUiwXBwfwum8iJftcpQbl7O%2F0Z1b8JUzj0xSFFMfd%2BU7mWKNHAGR4Z0DKD7GRSHFdev%2BNNZHokDW6yzCF3NhPNMpYwHLvUw74Z5fthABux1xCPJE7sDkxcF%2Fr0k8FNRLdvo0b26arDSHGZRctorFxavmwo1o2QdzxZU46mam3I%2Fe%2FGciogs%2BSKKucUu1d6%2BIiJA2Rc7fzNDPZBSNZs9Sc4jGt0LL8G%2FH208zord3LM%2FbMMKfP%2Bn9L7PzdbS8VxxakTpeyOs3IouM5nNlTJn6CBRYpnppjNYY10wbK%2BLn4OINSemjwK6ECvC3EtaXYCAunz%2FbJ1q3%2BCqwkDi2pwDzoX%2Fk%2BXEY3XHY0olIqTS%2FiCYuOLW49xIEUKXdN41RDj11TVcZFNdmo1zaQsLvWhlRzJu1amm0iF3X9EbEDnQwWudYLK5gXpR5sZ25ozfqpiMR3sCCEHnmRbvj00dweWoupmQqezoLYtFfvO73QVslBnotfpLohztF9ki5B2CUk0VbrnOg0LnqpnPgNqmT9eeytOqhw3cyrICkQcqhaDxY6d2XgtQXlvyqhCCD1mOf3%2FT%2BrWKL6SS8omkR7IdbnCwRKxIlhgkv1rY0SpcYtVnSWPNcB90IGVqMGvI%2B1c8iDofeKNZSRwpJ0ii4oLj5vsH9nDACQYm%2Fa%2BFUrDLc0soqZ8VjtLIDppWhD6T7XgMU%2BVJc9x9MTFZBgjl%2BMWbASvKTuDbdfgzcdS0RdRap32UgXOF9m8003%2Fl93xyNz3tgWcdj1oLBbhtLg8waCza6nqitheRsRn80Q%2Bb8VCb5e9z2ZNT5Pi4rl%2BqYQOUOgHcdRE%2BtgwtA5%2Fd95bY79bd1u1nLpImIEf0IK9UU1s6FohTv8bHUwkYIBUcBtUcshIl%2FdpytZ3a0%2F27DsDgk8tHPjoPmZy827hNrLfOQ6HyNForZmUUU18xXXA%2FnOz6%2FhCXYjpLymkiEemUKbDnMoklOvxOIdQPBfoqTJZWuIQdclyfowAQAsQ%2FB77ikuwcIGFJtKlliEnLL88u7jlnmac3ING6oTHa9kVDZhSVcbrE2f5Oi1gJWHzZI1JowKHYZ997XjOCi%2FfKIy997T%2F5cges%2FJXqiqKl6A0BEvK%2BMWGYjbRx4aD6HhoIRxt6UhrPyg%2BL4W%2BBLfFFpu6bO1UHeH8eS0r0J0hfHcGcnKxWFsdEipNiH%2BgsaLBQumOxIxSqYsqUz4a5BfLa%2FDkJUS32xFYwy5yYvzOPRPYV0VFFjTI%2B6pBi1Tn0Rxp3uY%2FxwfyCx4tL5%2B5uFo6GiV1Mi3Zv7sRv9wG41MhGth2pmmrdxWWtHo09dNhYj8wdHe0IaNmhr9CkcY9K4Fhybb0x2g%2BwA4%2BK6pupEVOGAVQiZclPvxNm%2FDheea%2FpOfH7wLnCp69qJ71ZUJ%2FTqc1Z94NrwahkBxu9UjVz%2BccUwaLuV3hEF0qrBxR7uifi7Boh0%2FARFPyOkHHtNNI9Q9BbEpKXvkgtKgl7xvW0thy9nI3ALVIdZojspnFTPirlWLA1%2BM8zHqa%2FmShHq2y8oEqjbB4ZLGKoZJbEFsh5yuU8ZxFUgF9I7QHOKbeARhjVTuqHpL70NQaejEfgOlbuzABylWHKj3afc2rUicChaXBV%2FAHMPUqofTAWh7s3moKh6Cw3htndVdcF3YdtRLmSP63HvT5%2FsrVk%2F0AvCH5%2BoVRtmzDwLcAdWgdHy8WoUxxwDprwY4xdH6Bii6xHCSM2lNw5LXEXAf%2F6NVWGbKGlk1tjEP%2BpCxgRxajXODHGBMFDlBGW7SVBEpxSR5FLodLI4EDUZJzoAUpIXfDfhs7XV5Nti2kaCxLGDFdwJTEV%2BjM1H5pGARCHU1Nmgkv33YQqfO2yjyf3o1Aigf%2Fb9IjgGu6nWy3y2cec0ZzHqFRp12mQXpRSszUp%2FfhvIniCwTeqDzIpNTD3wi8B4DeUoJKJANPtBeg%2FY%2Fy0CVdMN4qICFXC1azoYDQ%2BzboN1oMhugPjx3WjRIaM8%2BxTj2EeEOBnNbjRT1wZFMzFi1rqNDqsEbCfBtFk5KLWI4HQT6rQVOjueZmPUsgeTpMlE6UKA3ND9I36uv%2FQhdglXpQsDx02dhMhzB1KaxUrCmN2tTGK150RsAl%2BxJQd89l2BvKTxuGUMrVxOZdYaBB0Y0Ha5dXWW6NpvqfyvdE3XpQa6mpJdID3NoaYl0B0yJ0zzq%2BNPBnb7F%2BQRgYYTNDKbnWRfAKR1K8AcWfzWB8aq9lbhDe%2BjW1QLhw0JsD4hNMYb44bNAYhAodN8eLULn7Y2vAIRPfPEg0Y4F4lJsogs1y1qzmkiK0DpbV6kkFmCkT3Aw0HMATK%2BrV5r5Avjb0r7Y0uccV2rom6T%2F71r%2F2mgi0kg%3D%3D&__VIEWSTATEGENERATOR=82CE8F70&__EVENTVALIDATION=BZP0AVCcW%2FFkrH1SjgA8y%2Bw1XDn962fE%2FLKA7Zh0e9WZ2FkQXpPjY6nWVTZ1%2BJrGg14vyynFT5RB6OmrapfdK6cviydHtAHYxB83ek3RGxzQ9HwVTGvdRlKGorO2mAWLP4Gr0%2BnbzRW9vKTDQhmxoqzpf0dPxeKNGiMFd1F2FwFnU6MjeSGWHUoiSjfPuDnP%2BqrNBGvPcd3KzQgtQVZMEBzArHc%2BTuAeQJQAX8h3u1Ikr5r8AuGvYJZUpGuwGGA1GztisvHbb2tepZMdokRg71XMJ2IOIyvq24eErpCeTcdPyMrpwQTbyh%2Fphy9kjwngx7ywIgh1Fz8LmVwY7fI63YVS7cIi6z2%2FBcTV9DOuMzzWh19t9KalGvIFx5UBRvrurqGNv6iaTwQA1t9F%2FWGcq6JCzka6B2I%2B8Tb4d9FDFi%2B5sZK8bXlo%2F9ysYqwKHTYZE5QNNeOPpUA4J6Xp62YorhIvmJExyCLNnyKmFYGsY9E9v2bO6VXcX3MGSDijCXVQplsW1fIJW8z7zSHOn8gSyGPvTjwZ7A2D%2FE3q7%2B12ib14BcupayqZyVfHXVIwfrj3YA1DQhDkMwW1U76gZbITgYVcntyCV0U2PRLRuQ%2Bgu4qChNxqGuI52VfEQ6YJS7cXHEH3o72lFRSMcVwzyVGcfGBZdiO9Kx40OBp0mFmvqdHICKzRPSxor%2ByObOvx6R2CHN1fYXtFubCDIGoXWn08aktY%2BRo4k%2FHlvw4ocrMdYhXqrc39499oF%2FemnYxVK%2Bkr6GP%2BG4AHgPF6v8F9drBByfUmoLUO%2BUUDTui%2FQXM6O5VE52SZ4k3lg3%2BLLTmnggzhfPp%2BlZjAhFKHZVUlX9LJSxkVc67Nucg9aQ0n8RRsBJOp8me1PAEosFcz2T%2BNO8UVwa4IP2IMxYtfzq81YKJPlemmIQrVNsKJZxzVal8681DoEjgKVE1AapAzVLXAHXJYuE9h6zzZsgb9QpvL1G2gc1gPNAm81L%2FCfJyuvdzJ0nNpwcRVwX52rdbQcb2pm9Hy1tCjos7Z3zzYHQyt5wg7Vi3%2FyLgyhTnQOpm3UVaq8jl9v5%2BptwU8%2B9I60pbjdIoBPLanPISofRETAC9bLfxpOMyw%2FpMOTs%2FvpYJNUIxhoe0LLiFSGYLvoIYnsLq%2FfxG%2Fui6JyOhGR9tzE5773NpnrZGCGkSQapMWDIJnn6kPtupKrbjG%2FXg7Lb5TmtPlJPYcFN2fvlhuNpM2kVcUpu3bNEIgiyIb4xwGpXnMoUJGf1yACpZJUYgYR1ZOuoagQ36%2Bqkr3P%2BewFIYD1jSwPF5ebpfLkHUL8mMBLL8BZs%2FLp2HLAQ7Y9HxVAzm90bMBSY9bcRwO4k30YN85Aelg6GAV6NUnVbJVsKJi%2Fq8u9w4xRawC%2BhxyoDJedNNAo%2B%2BxTlgLOL4cs9wuRnpOyf8p5hyQQcehIZ%2BGyFAksV8oYk80GPNHXyciZWmlwdciTIBk0JEacPU%2BInN6qRPUeb%2BDl8dXlIuxCj1lG97QxZTabeRtBYZuIn%2FCujRNvO93yiJDfQucpy3RltEVqKldc7SKBxgopwv5kTb5IxOpjlPB2WEOpmekRSNMln4xrkSow6XLhYOXg5F1TQcuZpQ75l6tWTIy6e%2FzAVUiG0PWH2UN8i3bZ5MLItPVMDfktlY5Bv361tnboILjWTCvrjmZksxB6a5kQ4p3uu%2B%2Bxyd5g2jVuJIApzhFexgccwxAoTYLzhvuO3MPAJztgfezwRg6AILsZahjBSUDaUSU5a3RCH3oAD2MUBQbyu%2BYnSZe8AzU3nSG9KEAXQizbbK7fjERC7FfSV4p%2FGhdlg14lpaUrlIq7ULHhEeRkCz5P0D2phP80QHLydruSknfjMzuVSCcdg9Gvl0h4lKnU2lF5VoNIixC%2BK99Omo2DOvO8KkrNr4UMq1ABMY9TtEVgwT0obJP%2FIQLrHSTCwPCF9BpD6PJu2LNzZGvSBALWWRJO588cAml81L04V%2FbeeO698CdxLmAJxY1hDYmvqOmCh9NV76NukBGkMXtTGfr3MOsSW9NUq0xg7Hzjt7n5txXZJOmvnEqz5%2FBzi99Lnv0XPuf1AMN7p3jMcygub%2FhDOB1u4hL6flbYZlj5smhcxmOvFrCvtwjwIf9PbfRRFInwJF%2F8l2zFnJ7WlGrRpNFPaqUuYMEMjZJimBREM5zQtakdAICEuodRTzGatO8Cgd1eLLWjB15rND%2FoBnuLkyjwXOC8sHK3xAj3rfeVwkY8VNVIgye844oUfE8Usoc0oxZJWURMSu26IT5Kw7CEK4zP4D9b94uo9QnpO0t%2BU6RliivKnxEVY9x7YRQHQlBr5ibNXxLJs1fSreBfh%2F3xa72quJDsbXwPmK3isamfK6suIUZRjoHAkl5rPvZLQaArnH0Td8RLGCu3vWYirqZbRAWE4M9XPgK7VVQHvV6jqINYjXEgYZPkm29wwxgdOzzhmGSvnHR%2FUE7j3vHBp0qZvWliOTAIIAX4znk%2Bd4seQMBwocB37I9pgo1QoLobODCsz5UeqriqKDOH8hExMwF6LOjZC85gctK3B%2BF2IGEYnT6DVa1btqBPGOX2exwkQFCzAK%2FdErUm6cYjP4vvSDSFzf1LiJpMkrwYYjwA70k1qAb1zvsMOMpIGm3q9b2uT%2BFv6HBZfMobn025PaRrGXSNtVeEqKCPC0POPgBWpSWqVjFELlvhz3W0SMuT%2F8p0Xp%2F%2BeCIf2uhK78s%2F7NFvSwd31o4eaCAGd1Xmo56YQiEDwT1H0%2FdkmSwUk0oj1CFRbBNxWdsOUSY7Gi%2B050yDFcp%2Bu3%2B%2FQSiMvjahJagW3yrE8xhBsW4F2sGhlAMJzXML%2BXwOzxKhWL9hCwlJnOgw86Ba5%2BhF2KC8QLOjiku4MLl1sUq%2F82uRPVyrUvO3AUlqFd28%2Bwi5I5OteGkN20sogNzkv%2FFQg67VxWy17j5mcAcUfs8DB9ZzwoadDNDgaU1yfKJiJ2otjjD72Krp64ZV8xNK8dddD5JNEq14m47hW3pkBelQsGZUckW8DK36093zb6H23eOC0rgqPwAgjpKf0iIdncx9GKXM63E6oNAAcNPQlkilPo2B3fVEzts8aOje2CUw7%2Bzm87tVhoCWe14MwaTwn7N9SZBh6Gmdsfafd31DBxKofHfNfcaRSeIqN2ESN2qAn7wYC8F%2F5hzVVQ4A%2BproV70FONXMLOwo%2FyHIYjz70is3iye9sY6lY7IOc62trw6yke0cVLWAtGSnDyKkNCG2yqn3WbivRCJ6AtU6NmhfwDSqGijt9tD1CnqzLMKvY3UfHL7neEyRjCWko5Uf6pejmbNOoV4BMu5RWfXeTEJ1F3W260esn7bb%2FN%2BW6YUftabxhrsKVvZWyNkBChQEiszpwo6%2FL96vZmgEIpXj%2FBWrcMypa9tdujOGtrBbPanFEbqOO5thFP8uBGbS%2BFDvqbik6r67%2Fz2Ar2Z8ZXXWS8SJVlyOP28GXawpy49zcEkumGn95eeAmtbk4rwgbzxiEcAYVGWTKTBIk3JBwKG9DyR81QrmSOeSF0ypxlqhN105M8zLc784PdYSLNtdK09Eginx2DwQNs2wSOAHMtk67J5wrNJSy0CcnKthJWQW%2Bxc9Ye7tw%2B%2Bj5zRjL%2F5GhD4MAGPnT7I9YE6RmE6dG7NJRLytWgKG6AQ54mSnWpYXomYk12dK6EaAMt8YWd5o0JxYA14FsHOFZGZpx1G81DXEt%2FS3JRa894VdHnWqr7D7BAEo8QkpljOgpxUlry6Z2jMdTw0r%2BeJD%2BzOkxikwzRatqNfT6J9l4UeCIPDHLemY1r5zHsHkolizmAUP%2F0xth9jXTVOG1WuIAN0Ctb02rRV%2B6SvkWUFPTxI1jdqZ%2BSbJ2wXaOEaCiUFM812Ps5GIMYe4t9rxqEbWHgJoGgzuRL648a27iFLXTqs9el%2FhUl%2B1hjIsbrEtKIagUgjWmobuZ3C%2ByHu83bHuNTU2xVNGV52J5WWibg0PDtpDsa6jF1l%2BcN%2FJNAIYRQKrq4wo66UsqE6Lj2olD0MSnDUkJTUaIe%2FHamGVxNiTMnfmh5B%2BxeujhcXXLE70kB1LtAKNGnO9HXqOwf8iHyV8h0CdmeEBCGzgo2A2eNjQIk7cuNiBs%2Fu6FyoYacRl4G5qQjfIHcJlyWnoTmCUxtO1IPqA0XYM%2BUFUBAIOuVbn0oE%2FpC4YpVwTB8oI3Ieu5sLi%2FiibDM79HzYsbsePWQiyTqpeM3Fhi7rA%2FXVpySwul8N21oU6TVB5SZNJaKsnSkDJ%2FgsyRInIH8eGH35O0rDdEIBH0xTqc491NYN4vw7jlHpMvaiCcLVrFyrK%2Bg0K18HZdjVi1yrwWlVoyXFMNxCy00MtQMKLcKY1DY%2Fmc8gcIIhhOAVqA282r%2FG2vCKS%2F90erSt1Gj%2FQLDxpoJgXqgwd7Mr1PxYXO1BRu4UAiDoWrXnUdZaRsM76kSOQZZBIWN7apw%2Fy5mPhlvxlSzZC20PK1eQy1p5wJHCSilpAdCG8TpOGs7OQf%2FVTfZz1%2Bdpfsywxd%2BYbcDKfDesBzjMlSaArCaO1wA5X%2BWO28BFxhjlaMzPpEWM5FWDC%2FGSoPvyfUy7%2BPz1tFSFKk1geGPuDUJpTgLp2nbnT4W8YT0VyigmrLPu0pT2iWyKXbEa2fDm3Sx3taG3YycQrZG0bMe0vHlKkL022U7yK4EjLTcgQxl7ohcKLOfroSDpxjzsYkN%2FU5DAiOzJS1rBjjJ4z0sppDfdZgHokmQPqTi8jqspb4YcVnRxStGo5QdNbQzi4cozuPZ1BjdJQ4Fxdbw5xCg21lI%3D&txtSearch=&cboGeography=All&cboYear=2022&cboPeriod=1&btnDownload=Download&YEAR=on&QUARTER=on&MONTH=on&DAY_OF_MONTH=on&DAY_OF_WEEK=on&FL_DATE=on&OP_UNIQUE_CARRIER=on&ORIGIN_AIRPORT_ID=on&ORIGIN_AIRPORT_SEQ_ID=on&ORIGIN_CITY_MARKET_ID=on&ORIGIN=on&ORIGIN_CITY_NAME=on&ORIGIN_STATE_ABR=on&DEST_AIRPORT_ID=on&DEST_AIRPORT_SEQ_ID=on&DEST_CITY_MARKET_ID=on&DEST=on&DEST_CITY_NAME=on&DEST_STATE_ABR=on&DEP_TIME=on&DEP_DELAY=on&CRS_ARR_TIME=on&ARR_TIME=on&ARR_DELAY=on&CANCELLED=on&CANCELLATION_CODE=on&DIVERTED=on&CARRIER_DELAY=on&WEATHER_DELAY=on&NAS_DELAY=on&SECURITY_DELAY=on&LATE_AIRCRAFT_DELAY=on&DIV_AIRPORT_LANDINGS=on&DIV_REACHED_DEST=on&DIV_ARR_DELAY=on&DIV1_AIRPORT=on&DIV1_AIRPORT_ID=on&DIV2_AIRPORT=on&DIV2_AIRPORT_ID=on&DIV3_AIRPORT=on&DIV3_AIRPORT_ID=on&DIV4_AIRPORT=on&DIV4_AIRPORT_ID=on&DIV5_AIRPORT=on&DIV5_AIRPORT_ID=on\"\n",
    "x = requests.post(url, headers = header, data = data, verify = False )"
   ]
  },
  {
   "cell_type": "code",
   "execution_count": null,
   "id": "fdd90982",
   "metadata": {
    "hidden": true
   },
   "outputs": [],
   "source": [
    "x.headers"
   ]
  },
  {
   "cell_type": "code",
   "execution_count": null,
   "id": "b1d57913",
   "metadata": {
    "hidden": true
   },
   "outputs": [],
   "source": [
    "flag = 0\n",
    "\n",
    "for y in range(2014,2021):\n",
    "    if flag == 1:\n",
    "        break\n",
    "    for m in range(1,13):\n",
    "        print(\"year = {yy}, month = {mm}\".format(yy = y, mm = m))\n",
    "        data = '__EVENTTARGET=&__EVENTARGUMENT=&__LASTFOCUS=&__VIEWSTATE=cKJJssr9%2FAKL5pkFEmbxWsMbHp454%2B2oEbSTZklWcXdytQE7%2Bk0rUL7Wl4ioq1%2FtQz7sfoXyupivdDw3aGTHsduWqInpNmkBO9qC1MOh0sqg%2BIPRaHwGhhsW4yWcjR0oF87NJ0ZHYjNZWroPq4lDi%2Bce1UjwOYec82KIWe%2FGp%2F%2BdngibG%2B9RdaM62wFQ2stXOskOI8l76do0OG8oyLiIs2i4IhjRzlefbMumCVrUFn1hx8Vw6i3eLKKe8e3ZJOueYeRsNijh%2B4waGiIAhOBb7fG9eLhM0c%2BH4R6LjykP9e4bnB37lsORZxyWxj1bKcgfyeSfWlB4Sb9ZneDLKg8CvSEDultK5DadXdJxBc%2FlUGoSvZH54Ott%2BdI074pjsMPLV%2FmdIfwjbhpFHk%2FBIZ4LP261HV3N%2B2ZwkUOCBeOccyoSNuwkSfNAyrxfpWvNZbVrnWGIK2316rRzIZqxHM6x6oTS41Elgd4shsZb9PezIUU9A%2FrHHkS12iG%2F8ebI82PJeljQ9d95KnaxZbk2t%2Bj6aVtq%2FQhy94d6dwzVQeXQYXI5q%2FsynrO3XSnb%2FL%2BTloYcSbOi0CdrigUbTuLnWE478dVs4JcNuPWOSkQTjHrlIjcXeB82h4q1sszF1wHB9Dwh6rlvL44rkiY%2F%2BFd2rVhFOOnfMcJLESnilIMDSqbXDVw6nFZOsh7Lo3vmmJqx7W4PCf9i8sbDjqfGSLjiWMU0%2BSx3K6yJf32Gum3c1yZsH8WAGvmHvIC2l0jvKOsWj7umXOsRGf14rgXWF5hTQHvlx26OJvUR2%2BWZEqBxDYwX9NtkW23QAUYWQK5Qw6EU5NlgwVmfv1BZ3IS5IIFrY9Bxa4Dq2nYwxiDep0RKRcVKjA3iSq3ju%2FQJko2cb2fWTGsob5NmwpgYB3B89DADeRH7pHf81JTPxB8iiQDW8y5yt3nFb0UP9BXM4XwJR%2BSILWABXaF8VbomA9RoEcLAAHx4B%2FvptsK6ByxgKpOvNaHmbWPYmdU7g9LajXHODuV2E2b9QFPydit7CH3yL8iB3rg0kup5vsC3pSTgJ61dOPD%2B44xcgHy%2Bi5YD%2FZa8UHYuDggIWqfiDgF7KMkLyg89Lk2tAslKAIPjWA77CQQUj2n8sfxbR1UP3zEP84%2B8NTsS%2F1zlnEUR4bfON2hzKIgvKn2O1LOVCHtUHPnByp3IbAmFjZTjYjEa2Ima5H1rWPC0%2FkSLmZ9v9VwmvWs0I%2BPlUvf2UCt9htxje7PTCRBKX8ACv9MsqwACJwPdFNzVpByR%2BBEwbQhOMkZjc3TzCS5WF%2FGXjWVU7B%2B5Aws1g%2BtEkWLmidB06rjUnMeB%2FFt2%2FkpeBhtGe0Ma3gRsNehFCDjJvXGOc33xDMW4kF6ieDTUV6o3HupFYIYjWbEoe84wI%2BK2eUqJJLbt4HC9nGLRhhAy4kQ9oT7AKFOARBX6ljwES12OT7WPhaN%2FMKsNz%2F9F3OLbRMkDXz7W6SjL0FQp2WZw9k9z4RJhZFwLGPNI6yb4zk4zX1JGFe7KrDKTkjiHQYw0W2NHmghnMC%2BTtxd3CTJ%2FG0v%2B6utA89lI56TuKTulaI9Wx7vuxaUPVluB6gUN3pN2p%2BFhsaTJyxlzTyrkx8PqPFHbjLzWgpwtTMgQlNotZwXitSxm1DtmLg%2F7kDDGTLDKlJldChBbyMwqxB%2BL1bpVrLJ88qHfIZwCCpff8CqQ4qwhl0bYYwJlZBfkj8TDAzOmJltN%2B4vqBw7CtfaQLGzHLFbLIhiIQZbR5XVOfvu4sZw%2BjcB2Zowax3kuarywCrNIDqPK5X2hTO9PZlE1W5ch%2FvV4cRfTzDLnrstIyppVsjZSMF2drgg%2B848oCXPw9hRjxrfVrwY3QO33VwenN30d6%2BCj21EBn5D4MW8%2FLEUO1aFK4Kn%2Fe7QUWQue63fT53CpJ486KupHA%2BKBrWVRPgWLbtJvV4ltcO6FITewJde5mFblyhu5B7Ygsm00fheF5xzCwYlOiADhgqxPpPcus1EAwAFtd0XspcrQXP2ghbM%2Fc06wi3RexlHAY%2BKFAtJ2KDH4D3sT6%2FzgmxMTcioeIFyU9aYccP8OUPGzu%2Fo%2FSJwdJ8DZdrOvlGwz6ViJAI96ocPEbiMC293nce%2FIQ4gpgb3hnvmqU%2FkmDleht6IwUu59RxAcWUvYYzuC%2FIFp3vpcKjxsneEMKktMxnMkitS1hYLVeMfCIxuLuKgFXMKBn3QwBYjB7tyUDz0Wd0N7f0iGuxDNczHMWJsJRrvxru32F4muCgKeL9%2FFX%2BBmKDDwB6sjOkJ%2F1hQtI%2ByHHEmyF2YnUCZB13zS19%2BZ3QCxLe%2FMAu8w8cYHCBAUPB%2FCE%2FmlFh%2FJO5X0zhxhUm2HHAb6RfxKmLADYs45DUHFf%2FXEVPUynBdvqdjQCwEThdNLNOfYil8sK6xM%2FEbVuJ250m3qPkULlAZ6wkhYRHmPtyki8q5yF2usxqZcaMCDctVD0pcjrdPDYsjDhOUgbJIP%2FdX8GvZvYF2GF4BMdnsZxId7Of2WBwJCY%2FxISOwph2RCuEomdzT0QonDXmUyQPNgwKWUPmOn2rQ3hkUUImkaeXzbP6%2F8pUMY%2Fu7y4mFxyye0TjX1UPSxz6XLXcrDgR2LF0cKkDZ9yy0NANzKJhlvXbtNoPjErurPfVJ%2Fw1RB5skZFFoWIpd9WVEfkWhtP1kr8dUecuZESweFMi8YJwKhh9tGQz%2B589gyH3sYrMPzgr3yY4MfwCTCRbvDNuthLU9now%2Bs%2FLN0SO9dyeX8RWtSRXOzAB%2F%2BCEWDboixHl5lR1gcqLRrHwIGAlqGIxdfuYLK%2FxUmvyTmqVICOZPQRUyRe25zBFtfr45ERlI8EKAUmEVId36YzAiLmV%2FrIdjHhyu%2BiYtQ1%2BPQ1pmHW5Bc7cLI0JHqTcavpeW%2FHr4PajtlRB7s5bLd6pggaks2nPJRzTLF%2FrYawXAzumqJmk4C%2FdTw7LDk0s3lnz%2F1wJ9Rxaph%2Fq%2BK1kA98XQqb0h9YJHqey0o%2BHpOxSV5IbDqVQQ2Pe%2BE4m2y5bmSjga9rYK3cBsYO9r2gCA7XPQuoT5C9DnMQwDROB2VqMKHOe47j3iywK9F0K%2Bisz9DCl%2BMA1pcXI9xp5SYYKEiXUIRz3mv9detaS03qmvLGmpNnGhJ9SmosMpdMWCOcEDMXLNhv5My1xyvwAVjAeiqaXTTuI8bzDMIJlpvDkCvBbnYxKCRe67v6iAmFCvQmLOlkMveyYffxm2LyJtK3q2XcEbhz6uTNHXC32efbcI32qiOOXuY9eYBBTZ6ai960xhx6jyJ57Gz4TKnTOGt1LCYwvsCZtzGboBYnze04K6ZXXF8DW4TxeFl71u281spr%2B97sntLoHeR96%2FdBz3IoWRM4cbb4R0b7tjtvSgbg3HhCYI1ffzZFiqZ9HpcLYtmRuUlROav%2FkLf8QBmcsz2q2PpTG52eO6qk5R5%2Fzz5jph5cv%2BCQZSTIT3%2BUEwS2aerf5GOkZ07oVnjBMlntVmgIvrVVdXnyaW07NhxNhCoNXRBboZpQGxTTR%2FPncqxmeQUjCIGjDj%2FUwMnNnkJYuf8h959C2cS1EFTCg3vxiM46s7bHtcaO1bCs60whqgPwDg5iPvC%2F0l7XUO%2Fj2QNSKMBzLaW92LKTzjgeYUyrjpODhmvuVP0KkUzIE4%2FT8pe87AAz1ImJLuKDPc0JgjunihKtzFixN6RJNPYyJsBspZdND%2FaRoQlIhAt%2B7y8%2BAPHnABvp%2FqUh9INab7tUGw0L6ou9QVTiUOQ0n1mWvnWVPqPT%2Bg0ybs5VEAuTJyBmRzIuIzyxrqVrys2JvXkLf06edo%2Bwx6rILOcfBFYgA1aUKvgK8XVAeEmoPFE9SJmrBigvkdWsAg9DQZ2j3h1TLNo9NEYIszfPgmleXUr6TQvAznyCY2doOdj%2Btd8p4UTWrjsrvkxMn8IbehYJlS%2B5jnGHQN%2FJg2mAmzViTJUFhreJfbeACqNBqdtvQj%2BTfQDsooCroxQvG7tCbOEYI2tN0VN%2FKOp%2FO58ZzKH0ZSc9ppNysQC4mr75EbcKZkBZMKevhJEZW5qC8IxRDREaVFMOuGEbZ3zZ76K7TNvO0be%2B74ar%2FyF1Xn9%2Fcz8KvK0EnNfVE5F7jwrtlO0AvESqGe4DV7hVcCY15HUiwXBwfwum8iJftcpQbl7O%2F0Z1b8JUzj0xSFFMfd%2BU7mWKNHAGR4Z0DKD7GRSHFdev%2BNNZHokDW6yzCF3NhPNMpYwHLvUw74Z5fthABux1xCPJE7sDkxcF%2Fr0k8FNRLdvo0b26arDSHGZRctorFxavmwo1o2QdzxZU46mam3I%2Fe%2FGciogs%2BSKKucUu1d6%2BIiJA2Rc7fzNDPZBSNZs9Sc4jGt0LL8G%2FH208zord3LM%2FbMMKfP%2Bn9L7PzdbS8VxxakTpeyOs3IouM5nNlTJn6CBRYpnppjNYY10wbK%2BLn4OINSemjwK6ECvC3EtaXYCAunz%2FbJ1q3%2BCqwkDi2pwDzoX%2Fk%2BXEY3XHY0olIqTS%2FiCYuOLW49xIEUKXdN41RDj11TVcZFNdmo1zaQsLvWhlRzJu1amm0iF3X9EbEDnQwWudYLK5gXpR5sZ25ozfqpiMR3sCCEHnmRbvj00dweWoupmQqezoLYtFfvO73QVslBnotfpLohztF9ki5B2CUk0VbrnOg0LnqpnPgNqmT9eeytOqhw3cyrICkQcqhaDxY6d2XgtQXlvyqhCCD1mOf3%2FT%2BrWKL6SS8omkR7IdbnCwRKxIlhgkv1rY0SpcYtVnSWPNcB90IGVqMGvI%2B1c8iDofeKNZSRwpJ0ii4oLj5vsH9nDACQYm%2Fa%2BFUrDLc0soqZ8VjtLIDppWhD6T7XgMU%2BVJc9x9MTFZBgjl%2BMWbASvKTuDbdfgzcdS0RdRap32UgXOF9m8003%2Fl93xyNz3tgWcdj1oLBbhtLg8waCza6nqitheRsRn80Q%2Bb8VCb5e9z2ZNT5Pi4rl%2BqYQOUOgHcdRE%2BtgwtA5%2Fd95bY79bd1u1nLpImIEf0IK9UU1s6FohTv8bHUwkYIBUcBtUcshIl%2FdpytZ3a0%2F27DsDgk8tHPjoPmZy827hNrLfOQ6HyNForZmUUU18xXXA%2FnOz6%2FhCXYjpLymkiEemUKbDnMoklOvxOIdQPBfoqTJZWuIQdclyfowAQAsQ%2FB77ikuwcIGFJtKlliEnLL88u7jlnmac3ING6oTHa9kVDZhSVcbrE2f5Oi1gJWHzZI1JowKHYZ997XjOCi%2FfKIy997T%2F5cges%2FJXqiqKl6A0BEvK%2BMWGYjbRx4aD6HhoIRxt6UhrPyg%2BL4W%2BBLfFFpu6bO1UHeH8eS0r0J0hfHcGcnKxWFsdEipNiH%2BgsaLBQumOxIxSqYsqUz4a5BfLa%2FDkJUS32xFYwy5yYvzOPRPYV0VFFjTI%2B6pBi1Tn0Rxp3uY%2FxwfyCx4tL5%2B5uFo6GiV1Mi3Zv7sRv9wG41MhGth2pmmrdxWWtHo09dNhYj8wdHe0IaNmhr9CkcY9K4Fhybb0x2g%2BwA4%2BK6pupEVOGAVQiZclPvxNm%2FDheea%2FpOfH7wLnCp69qJ71ZUJ%2FTqc1Z94NrwahkBxu9UjVz%2BccUwaLuV3hEF0qrBxR7uifi7Boh0%2FARFPyOkHHtNNI9Q9BbEpKXvkgtKgl7xvW0thy9nI3ALVIdZojspnFTPirlWLA1%2BM8zHqa%2FmShHq2y8oEqjbB4ZLGKoZJbEFsh5yuU8ZxFUgF9I7QHOKbeARhjVTuqHpL70NQaejEfgOlbuzABylWHKj3afc2rUicChaXBV%2FAHMPUqofTAWh7s3moKh6Cw3htndVdcF3YdtRLmSP63HvT5%2FsrVk%2F0AvCH5%2BoVRtmzDwLcAdWgdHy8WoUxxwDprwY4xdH6Bii6xHCSM2lNw5LXEXAf%2F6NVWGbKGlk1tjEP%2BpCxgRxajXODHGBMFDlBGW7SVBEpxSR5FLodLI4EDUZJzoAUpIXfDfhs7XV5Nti2kaCxLGDFdwJTEV%2BjM1H5pGARCHU1Nmgkv33YQqfO2yjyf3o1Aigf%2Fb9IjgGu6nWy3y2cec0ZzHqFRp12mQXpRSszUp%2FfhvIniCwTeqDzIpNTD3wi8B4DeUoJKJANPtBeg%2FY%2Fy0CVdMN4qICFXC1azoYDQ%2BzboN1oMhugPjx3WjRIaM8%2BxTj2EeEOBnNbjRT1wZFMzFi1rqNDqsEbCfBtFk5KLWI4HQT6rQVOjueZmPUsgeTpMlE6UKA3ND9I36uv%2FQhdglXpQsDx02dhMhzB1KaxUrCmN2tTGK150RsAl%2BxJQd89l2BvKTxuGUMrVxOZdYaBB0Y0Ha5dXWW6NpvqfyvdE3XpQa6mpJdID3NoaYl0B0yJ0zzq%2BNPBnb7F%2BQRgYYTNDKbnWRfAKR1K8AcWfzWB8aq9lbhDe%2BjW1QLhw0JsD4hNMYb44bNAYhAodN8eLULn7Y2vAIRPfPEg0Y4F4lJsogs1y1qzmkiK0DpbV6kkFmCkT3Aw0HMATK%2BrV5r5Avjb0r7Y0uccV2rom6T%2F71r%2F2mgi0kg%3D%3D&__VIEWSTATEGENERATOR=82CE8F70&__EVENTVALIDATION=BZP0AVCcW%2FFkrH1SjgA8y%2Bw1XDn962fE%2FLKA7Zh0e9WZ2FkQXpPjY6nWVTZ1%2BJrGg14vyynFT5RB6OmrapfdK6cviydHtAHYxB83ek3RGxzQ9HwVTGvdRlKGorO2mAWLP4Gr0%2BnbzRW9vKTDQhmxoqzpf0dPxeKNGiMFd1F2FwFnU6MjeSGWHUoiSjfPuDnP%2BqrNBGvPcd3KzQgtQVZMEBzArHc%2BTuAeQJQAX8h3u1Ikr5r8AuGvYJZUpGuwGGA1GztisvHbb2tepZMdokRg71XMJ2IOIyvq24eErpCeTcdPyMrpwQTbyh%2Fphy9kjwngx7ywIgh1Fz8LmVwY7fI63YVS7cIi6z2%2FBcTV9DOuMzzWh19t9KalGvIFx5UBRvrurqGNv6iaTwQA1t9F%2FWGcq6JCzka6B2I%2B8Tb4d9FDFi%2B5sZK8bXlo%2F9ysYqwKHTYZE5QNNeOPpUA4J6Xp62YorhIvmJExyCLNnyKmFYGsY9E9v2bO6VXcX3MGSDijCXVQplsW1fIJW8z7zSHOn8gSyGPvTjwZ7A2D%2FE3q7%2B12ib14BcupayqZyVfHXVIwfrj3YA1DQhDkMwW1U76gZbITgYVcntyCV0U2PRLRuQ%2Bgu4qChNxqGuI52VfEQ6YJS7cXHEH3o72lFRSMcVwzyVGcfGBZdiO9Kx40OBp0mFmvqdHICKzRPSxor%2ByObOvx6R2CHN1fYXtFubCDIGoXWn08aktY%2BRo4k%2FHlvw4ocrMdYhXqrc39499oF%2FemnYxVK%2Bkr6GP%2BG4AHgPF6v8F9drBByfUmoLUO%2BUUDTui%2FQXM6O5VE52SZ4k3lg3%2BLLTmnggzhfPp%2BlZjAhFKHZVUlX9LJSxkVc67Nucg9aQ0n8RRsBJOp8me1PAEosFcz2T%2BNO8UVwa4IP2IMxYtfzq81YKJPlemmIQrVNsKJZxzVal8681DoEjgKVE1AapAzVLXAHXJYuE9h6zzZsgb9QpvL1G2gc1gPNAm81L%2FCfJyuvdzJ0nNpwcRVwX52rdbQcb2pm9Hy1tCjos7Z3zzYHQyt5wg7Vi3%2FyLgyhTnQOpm3UVaq8jl9v5%2BptwU8%2B9I60pbjdIoBPLanPISofRETAC9bLfxpOMyw%2FpMOTs%2FvpYJNUIxhoe0LLiFSGYLvoIYnsLq%2FfxG%2Fui6JyOhGR9tzE5773NpnrZGCGkSQapMWDIJnn6kPtupKrbjG%2FXg7Lb5TmtPlJPYcFN2fvlhuNpM2kVcUpu3bNEIgiyIb4xwGpXnMoUJGf1yACpZJUYgYR1ZOuoagQ36%2Bqkr3P%2BewFIYD1jSwPF5ebpfLkHUL8mMBLL8BZs%2FLp2HLAQ7Y9HxVAzm90bMBSY9bcRwO4k30YN85Aelg6GAV6NUnVbJVsKJi%2Fq8u9w4xRawC%2BhxyoDJedNNAo%2B%2BxTlgLOL4cs9wuRnpOyf8p5hyQQcehIZ%2BGyFAksV8oYk80GPNHXyciZWmlwdciTIBk0JEacPU%2BInN6qRPUeb%2BDl8dXlIuxCj1lG97QxZTabeRtBYZuIn%2FCujRNvO93yiJDfQucpy3RltEVqKldc7SKBxgopwv5kTb5IxOpjlPB2WEOpmekRSNMln4xrkSow6XLhYOXg5F1TQcuZpQ75l6tWTIy6e%2FzAVUiG0PWH2UN8i3bZ5MLItPVMDfktlY5Bv361tnboILjWTCvrjmZksxB6a5kQ4p3uu%2B%2Bxyd5g2jVuJIApzhFexgccwxAoTYLzhvuO3MPAJztgfezwRg6AILsZahjBSUDaUSU5a3RCH3oAD2MUBQbyu%2BYnSZe8AzU3nSG9KEAXQizbbK7fjERC7FfSV4p%2FGhdlg14lpaUrlIq7ULHhEeRkCz5P0D2phP80QHLydruSknfjMzuVSCcdg9Gvl0h4lKnU2lF5VoNIixC%2BK99Omo2DOvO8KkrNr4UMq1ABMY9TtEVgwT0obJP%2FIQLrHSTCwPCF9BpD6PJu2LNzZGvSBALWWRJO588cAml81L04V%2FbeeO698CdxLmAJxY1hDYmvqOmCh9NV76NukBGkMXtTGfr3MOsSW9NUq0xg7Hzjt7n5txXZJOmvnEqz5%2FBzi99Lnv0XPuf1AMN7p3jMcygub%2FhDOB1u4hL6flbYZlj5smhcxmOvFrCvtwjwIf9PbfRRFInwJF%2F8l2zFnJ7WlGrRpNFPaqUuYMEMjZJimBREM5zQtakdAICEuodRTzGatO8Cgd1eLLWjB15rND%2FoBnuLkyjwXOC8sHK3xAj3rfeVwkY8VNVIgye844oUfE8Usoc0oxZJWURMSu26IT5Kw7CEK4zP4D9b94uo9QnpO0t%2BU6RliivKnxEVY9x7YRQHQlBr5ibNXxLJs1fSreBfh%2F3xa72quJDsbXwPmK3isamfK6suIUZRjoHAkl5rPvZLQaArnH0Td8RLGCu3vWYirqZbRAWE4M9XPgK7VVQHvV6jqINYjXEgYZPkm29wwxgdOzzhmGSvnHR%2FUE7j3vHBp0qZvWliOTAIIAX4znk%2Bd4seQMBwocB37I9pgo1QoLobODCsz5UeqriqKDOH8hExMwF6LOjZC85gctK3B%2BF2IGEYnT6DVa1btqBPGOX2exwkQFCzAK%2FdErUm6cYjP4vvSDSFzf1LiJpMkrwYYjwA70k1qAb1zvsMOMpIGm3q9b2uT%2BFv6HBZfMobn025PaRrGXSNtVeEqKCPC0POPgBWpSWqVjFELlvhz3W0SMuT%2F8p0Xp%2F%2BeCIf2uhK78s%2F7NFvSwd31o4eaCAGd1Xmo56YQiEDwT1H0%2FdkmSwUk0oj1CFRbBNxWdsOUSY7Gi%2B050yDFcp%2Bu3%2B%2FQSiMvjahJagW3yrE8xhBsW4F2sGhlAMJzXML%2BXwOzxKhWL9hCwlJnOgw86Ba5%2BhF2KC8QLOjiku4MLl1sUq%2F82uRPVyrUvO3AUlqFd28%2Bwi5I5OteGkN20sogNzkv%2FFQg67VxWy17j5mcAcUfs8DB9ZzwoadDNDgaU1yfKJiJ2otjjD72Krp64ZV8xNK8dddD5JNEq14m47hW3pkBelQsGZUckW8DK36093zb6H23eOC0rgqPwAgjpKf0iIdncx9GKXM63E6oNAAcNPQlkilPo2B3fVEzts8aOje2CUw7%2Bzm87tVhoCWe14MwaTwn7N9SZBh6Gmdsfafd31DBxKofHfNfcaRSeIqN2ESN2qAn7wYC8F%2F5hzVVQ4A%2BproV70FONXMLOwo%2FyHIYjz70is3iye9sY6lY7IOc62trw6yke0cVLWAtGSnDyKkNCG2yqn3WbivRCJ6AtU6NmhfwDSqGijt9tD1CnqzLMKvY3UfHL7neEyRjCWko5Uf6pejmbNOoV4BMu5RWfXeTEJ1F3W260esn7bb%2FN%2BW6YUftabxhrsKVvZWyNkBChQEiszpwo6%2FL96vZmgEIpXj%2FBWrcMypa9tdujOGtrBbPanFEbqOO5thFP8uBGbS%2BFDvqbik6r67%2Fz2Ar2Z8ZXXWS8SJVlyOP28GXawpy49zcEkumGn95eeAmtbk4rwgbzxiEcAYVGWTKTBIk3JBwKG9DyR81QrmSOeSF0ypxlqhN105M8zLc784PdYSLNtdK09Eginx2DwQNs2wSOAHMtk67J5wrNJSy0CcnKthJWQW%2Bxc9Ye7tw%2B%2Bj5zRjL%2F5GhD4MAGPnT7I9YE6RmE6dG7NJRLytWgKG6AQ54mSnWpYXomYk12dK6EaAMt8YWd5o0JxYA14FsHOFZGZpx1G81DXEt%2FS3JRa894VdHnWqr7D7BAEo8QkpljOgpxUlry6Z2jMdTw0r%2BeJD%2BzOkxikwzRatqNfT6J9l4UeCIPDHLemY1r5zHsHkolizmAUP%2F0xth9jXTVOG1WuIAN0Ctb02rRV%2B6SvkWUFPTxI1jdqZ%2BSbJ2wXaOEaCiUFM812Ps5GIMYe4t9rxqEbWHgJoGgzuRL648a27iFLXTqs9el%2FhUl%2B1hjIsbrEtKIagUgjWmobuZ3C%2ByHu83bHuNTU2xVNGV52J5WWibg0PDtpDsa6jF1l%2BcN%2FJNAIYRQKrq4wo66UsqE6Lj2olD0MSnDUkJTUaIe%2FHamGVxNiTMnfmh5B%2BxeujhcXXLE70kB1LtAKNGnO9HXqOwf8iHyV8h0CdmeEBCGzgo2A2eNjQIk7cuNiBs%2Fu6FyoYacRl4G5qQjfIHcJlyWnoTmCUxtO1IPqA0XYM%2BUFUBAIOuVbn0oE%2FpC4YpVwTB8oI3Ieu5sLi%2FiibDM79HzYsbsePWQiyTqpeM3Fhi7rA%2FXVpySwul8N21oU6TVB5SZNJaKsnSkDJ%2FgsyRInIH8eGH35O0rDdEIBH0xTqc491NYN4vw7jlHpMvaiCcLVrFyrK%2Bg0K18HZdjVi1yrwWlVoyXFMNxCy00MtQMKLcKY1DY%2Fmc8gcIIhhOAVqA282r%2FG2vCKS%2F90erSt1Gj%2FQLDxpoJgXqgwd7Mr1PxYXO1BRu4UAiDoWrXnUdZaRsM76kSOQZZBIWN7apw%2Fy5mPhlvxlSzZC20PK1eQy1p5wJHCSilpAdCG8TpOGs7OQf%2FVTfZz1%2Bdpfsywxd%2BYbcDKfDesBzjMlSaArCaO1wA5X%2BWO28BFxhjlaMzPpEWM5FWDC%2FGSoPvyfUy7%2BPz1tFSFKk1geGPuDUJpTgLp2nbnT4W8YT0VyigmrLPu0pT2iWyKXbEa2fDm3Sx3taG3YycQrZG0bMe0vHlKkL022U7yK4EjLTcgQxl7ohcKLOfroSDpxjzsYkN%2FU5DAiOzJS1rBjjJ4z0sppDfdZgHokmQPqTi8jqspb4YcVnRxStGo5QdNbQzi4cozuPZ1BjdJQ4Fxdbw5xCg21lI%3D&txtSearch=&cboGeography=All&cboYear='+str(y)+'&cboPeriod='+str(m)+'&btnDownload=Download&YEAR=on&QUARTER=on&MONTH=on&DAY_OF_MONTH=on&DAY_OF_WEEK=on&FL_DATE=on&OP_UNIQUE_CARRIER=on&ORIGIN_AIRPORT_ID=on&ORIGIN_AIRPORT_SEQ_ID=on&ORIGIN_CITY_MARKET_ID=on&ORIGIN=on&ORIGIN_CITY_NAME=on&ORIGIN_STATE_ABR=on&DEST_AIRPORT_ID=on&DEST_AIRPORT_SEQ_ID=on&DEST_CITY_MARKET_ID=on&DEST=on&DEST_CITY_NAME=on&DEST_STATE_ABR=on&DEP_TIME=on&DEP_DELAY=on&CRS_ARR_TIME=on&ARR_TIME=on&ARR_DELAY=on&CANCELLED=on&CANCELLATION_CODE=on&DIVERTED=on&CARRIER_DELAY=on&WEATHER_DELAY=on&NAS_DELAY=on&SECURITY_DELAY=on&LATE_AIRCRAFT_DELAY=on&DIV_AIRPORT_LANDINGS=on&DIV_REACHED_DEST=on&DIV_ARR_DELAY=on&DIV1_AIRPORT=on&DIV1_AIRPORT_ID=on&DIV2_AIRPORT=on&DIV2_AIRPORT_ID=on&DIV3_AIRPORT=on&DIV3_AIRPORT_ID=on&DIV4_AIRPORT=on&DIV4_AIRPORT_ID=on&DIV5_AIRPORT=on&DIV5_AIRPORT_ID=on'\n",
    "        x = requests.post(url, headers = header, data = data, verify = False )\n",
    "        if x.headers['Content-Type'] ==  'application/zip':\n",
    "            with open('foo'+str(y)+str(m)+'.zip','wb') as file:\n",
    "                file.write(x.content)\n",
    "                \n",
    "        else: \n",
    "            flag = 1\n",
    "            break"
   ]
  },
  {
   "cell_type": "markdown",
   "id": "0f30e30e",
   "metadata": {
    "hidden": true
   },
   "source": [
    "different zip files are getting merged together to produce one large master dataframe"
   ]
  },
  {
   "cell_type": "code",
   "execution_count": null,
   "id": "a2d83dae",
   "metadata": {
    "hidden": true
   },
   "outputs": [],
   "source": [
    "import glob\n",
    "import zipfile\n",
    "\n",
    "zip_files = glob.glob(r'C:\\Users\\nikpara\\Desktop\\test' + '/*.zip')\n",
    "df_list = (pd.read_csv(file, compression = 'zip') for file in zip_files)\n",
    "\n",
    "big_df = pd.concat(df_list, ignore_index=True)\n"
   ]
  },
  {
   "cell_type": "code",
   "execution_count": null,
   "id": "7f750391",
   "metadata": {
    "hidden": true
   },
   "outputs": [],
   "source": [
    "big_df.to_pickle(r\"C:\\Users\\nikpara\\Desktop\\TDICprj\\dummy.pkl\")"
   ]
  },
  {
   "cell_type": "markdown",
   "id": "47da5d7f",
   "metadata": {
    "hidden": true
   },
   "source": [
    "reading the pickled data"
   ]
  },
  {
   "cell_type": "code",
   "execution_count": null,
   "id": "828c1b81",
   "metadata": {
    "hidden": true,
    "scrolled": true
   },
   "outputs": [],
   "source": [
    "import pandas as pd\n",
    "big_df = pd.read_pickle(r\"C:\\Users\\nikpara\\Desktop\\TDICprj\\dummy.pkl\")"
   ]
  },
  {
   "cell_type": "code",
   "execution_count": 2,
   "id": "da68d990",
   "metadata": {
    "hidden": true
   },
   "outputs": [],
   "source": [
    "big_df = big_df[big_df['DEP_TIME'].notnull()]\n",
    "big_df = big_df[big_df['DEST'].notnull()]\n",
    "big_df = big_df[big_df['ORIGIN'].notnull()]\n",
    "big_df = big_df[big_df['OP_UNIQUE_CARRIER'].notnull()]"
   ]
  },
  {
   "cell_type": "code",
   "execution_count": 3,
   "id": "0d339989",
   "metadata": {
    "hidden": true
   },
   "outputs": [],
   "source": [
    "big_df['STATUS'] = ['DELAYED' if delay>15 else 'ONTIME'for delay in big_df['DEP_DELAY']]"
   ]
  },
  {
   "cell_type": "code",
   "execution_count": 4,
   "id": "6285a585",
   "metadata": {
    "hidden": true
   },
   "outputs": [],
   "source": [
    "big_df['STATUS'] = big_df['STATUS'].astype('category')"
   ]
  },
  {
   "cell_type": "code",
   "execution_count": 5,
   "id": "843fec66",
   "metadata": {
    "hidden": true
   },
   "outputs": [],
   "source": [
    "big_df.DEP_TIME = [round(t/100) for t in big_df.DEP_TIME]\n",
    "big_df.DEP_TIME = big_df.DEP_TIME.astype('category')"
   ]
  },
  {
   "cell_type": "code",
   "execution_count": 6,
   "id": "72ba0e2b",
   "metadata": {
    "hidden": true
   },
   "outputs": [],
   "source": [
    "#convert to categorical\n",
    "big_df.DAY_OF_WEEK = big_df.DAY_OF_WEEK.astype('category')\n",
    "big_df.ORIGIN = big_df.ORIGIN.astype('category')\n",
    "big_df.DEST = big_df.DEST.astype('category')\n",
    "big_df.OP_UNIQUE_CARRIER = big_df.OP_UNIQUE_CARRIER.astype('category')"
   ]
  },
  {
   "cell_type": "code",
   "execution_count": 8,
   "id": "32eb5500",
   "metadata": {
    "hidden": true
   },
   "outputs": [],
   "source": [
    "big_df.to_pickle(r\"C:\\Users\\nikpara\\Desktop\\TDICprj\\dummy2.pkl\")"
   ]
  },
  {
   "cell_type": "markdown",
   "id": "b45753bc",
   "metadata": {
    "heading_collapsed": true
   },
   "source": [
    "# 1. Un-pickling all models and data"
   ]
  },
  {
   "cell_type": "markdown",
   "id": "17b5e750",
   "metadata": {
    "hidden": true
   },
   "source": [
    "Using the code <u>below</u> you can read the already pickled dataframe "
   ]
  },
  {
   "cell_type": "code",
   "execution_count": 1,
   "id": "85c22617",
   "metadata": {
    "hidden": true
   },
   "outputs": [],
   "source": [
    "import pandas as pd\n",
    "big_df = pd.read_pickle(r\"C:\\Users\\nikpara\\Desktop\\TDICprj\\dummy2.pkl\")"
   ]
  },
  {
   "cell_type": "code",
   "execution_count": 2,
   "id": "f32b25c5",
   "metadata": {
    "hidden": true
   },
   "outputs": [],
   "source": [
    "predictors = ['DAY_OF_WEEK', 'DEP_TIME', 'ORIGIN', 'DEST', 'OP_UNIQUE_CARRIER']\n",
    "predicted_status = ['STATUS']\n",
    "\n",
    "from sklearn.preprocessing import OneHotEncoder\n",
    "ohe = OneHotEncoder()\n",
    "X = ohe.fit_transform(big_df[predictors])\n",
    "Y = big_df['STATUS'].astype('category')\n",
    "\n",
    "from sklearn.model_selection import train_test_split\n",
    "\n",
    "X_train, X_test, Y_train, Y_test = train_test_split(X, Y, test_size=0.4, random_state=1)"
   ]
  },
  {
   "cell_type": "markdown",
   "id": "2f1c580d",
   "metadata": {
    "hidden": true
   },
   "source": [
    "Using the code <u>below</u> you can read all pickled models and their corresponding datasets already pickled dataframe "
   ]
  },
  {
   "cell_type": "markdown",
   "id": "82491aba",
   "metadata": {
    "hidden": true
   },
   "source": [
    "previously trained <b>naive model</b> can be un-pickled here"
   ]
  },
  {
   "cell_type": "code",
   "execution_count": 3,
   "id": "167c5007",
   "metadata": {
    "hidden": true
   },
   "outputs": [],
   "source": [
    "import pickle\n",
    "\n",
    "filename = 'Naive_model.sav'\n",
    "naive_model = pickle.load(open(filename, 'rb'))"
   ]
  },
  {
   "cell_type": "markdown",
   "id": "aed6ccff",
   "metadata": {
    "hidden": true
   },
   "source": [
    "Reading the <b>undersampled data</b> for <b>naive model undersampled</b>"
   ]
  },
  {
   "cell_type": "code",
   "execution_count": 4,
   "id": "b66563e6",
   "metadata": {
    "hidden": true
   },
   "outputs": [],
   "source": [
    "import numpy as np\n",
    "usx = np.load(\"usx.npy\", allow_pickle=True)\n",
    "usy = np.load(\"usy.npy\", allow_pickle=True)"
   ]
  },
  {
   "cell_type": "markdown",
   "id": "68aa21e2",
   "metadata": {
    "hidden": true
   },
   "source": [
    "Reading the <b>undersample Naive model</b>"
   ]
  },
  {
   "cell_type": "code",
   "execution_count": 5,
   "id": "8079b3ba",
   "metadata": {
    "hidden": true
   },
   "outputs": [],
   "source": [
    "import pickle\n",
    "\n",
    "filename = 'Naive_undersampled_model.sav'\n",
    "naive_model_us = pickle.load(open(filename, 'rb'))"
   ]
  },
  {
   "cell_type": "markdown",
   "id": "cab36371",
   "metadata": {
    "hidden": true
   },
   "source": [
    "<b>Synthetically augmented data</b> for <b>naive model sda</b> can be read below"
   ]
  },
  {
   "cell_type": "code",
   "execution_count": 6,
   "id": "f3ac6731",
   "metadata": {
    "hidden": true
   },
   "outputs": [],
   "source": [
    "import numpy as np\n",
    "smox = np.load(\"smox.npy\", allow_pickle=True)\n",
    "smoy = np.load(\"smoy.npy\", allow_pickle=True)"
   ]
  },
  {
   "cell_type": "markdown",
   "id": "7e3ff545",
   "metadata": {
    "hidden": true
   },
   "source": [
    "Reading the pickled <b>naive model sda</b> model"
   ]
  },
  {
   "cell_type": "code",
   "execution_count": 7,
   "id": "7594afc1",
   "metadata": {
    "hidden": true
   },
   "outputs": [],
   "source": [
    "import pickle\n",
    "\n",
    "filename = 'Naive_sda_model.sav'\n",
    "naive_model_sda = pickle.load(open(filename, 'rb'))"
   ]
  },
  {
   "cell_type": "markdown",
   "id": "638902b9",
   "metadata": {
    "hidden": true
   },
   "source": [
    "Previously pickled <b>Random Forest</b> model can be unpickled below"
   ]
  },
  {
   "cell_type": "code",
   "execution_count": 8,
   "id": "96ac772c",
   "metadata": {
    "hidden": true
   },
   "outputs": [],
   "source": [
    "import pickle\n",
    "\n",
    "filename = 'rf_model.sav'\n",
    "rf = pickle.load(open(filename, 'rb'))"
   ]
  },
  {
   "cell_type": "markdown",
   "id": "1fa2eacc",
   "metadata": {
    "hidden": true
   },
   "source": [
    "Reading the <b>undersampled data</b> for <b>random forest</b>"
   ]
  },
  {
   "cell_type": "code",
   "execution_count": 9,
   "id": "8d9d79cb",
   "metadata": {
    "hidden": true
   },
   "outputs": [],
   "source": [
    "import numpy as np\n",
    "usx_rf = np.load(\"usx_rf.npy\", allow_pickle=True)\n",
    "usy_rf = np.load(\"usy_rf.npy\", allow_pickle=True)"
   ]
  },
  {
   "cell_type": "markdown",
   "id": "953033eb",
   "metadata": {
    "hidden": true
   },
   "source": [
    "Reading the pickled <b>undersample Random Forest</b> model"
   ]
  },
  {
   "cell_type": "code",
   "execution_count": 10,
   "id": "0fb18a30",
   "metadata": {
    "hidden": true
   },
   "outputs": [],
   "source": [
    "import pickle\n",
    "\n",
    "filename = 'rf_u_model.sav'\n",
    "rf_u = pickle.load(open(filename, 'rb'))"
   ]
  },
  {
   "cell_type": "markdown",
   "id": "3b55a685",
   "metadata": {
    "hidden": true
   },
   "source": [
    "Reading the previously generated <b>synthetically augmented data</b> for <b>random forest sda</b>"
   ]
  },
  {
   "cell_type": "code",
   "execution_count": 11,
   "id": "d16d53c1",
   "metadata": {
    "hidden": true
   },
   "outputs": [],
   "source": [
    "import numpy as np\n",
    "smox_rf = np.load(\"smox_rf.npy\", allow_pickle=True)\n",
    "smoy_rf = np.load(\"smoy_rf.npy\", allow_pickle=True)"
   ]
  },
  {
   "cell_type": "markdown",
   "id": "27d1a8f1",
   "metadata": {
    "hidden": true
   },
   "source": [
    "already trained and pickled <b>rondom forest sda</b> model can be read below alternatively"
   ]
  },
  {
   "cell_type": "code",
   "execution_count": 12,
   "id": "d135dc16",
   "metadata": {
    "hidden": true
   },
   "outputs": [],
   "source": [
    "import pickle\n",
    "\n",
    "filename = 'rf_sda.sav'\n",
    "rf_sda = pickle.load(open(filename, 'rb'))"
   ]
  },
  {
   "cell_type": "markdown",
   "id": "8e7921aa",
   "metadata": {
    "hidden": true
   },
   "source": [
    "unpickling the trained <b>linear regression</b> model"
   ]
  },
  {
   "cell_type": "code",
   "execution_count": 13,
   "id": "08096c39",
   "metadata": {
    "hidden": true
   },
   "outputs": [],
   "source": [
    "import pickle\n",
    "\n",
    "filename = 'lr_model.sav'\n",
    "lr = pickle.load(open(filename, 'rb'))"
   ]
  },
  {
   "cell_type": "markdown",
   "id": "4a16e86f",
   "metadata": {},
   "source": [
    "# 2. MACHINE LEARNING <font size=\"3\">(classification)</font>"
   ]
  },
  {
   "cell_type": "markdown",
   "id": "5adfcd2b",
   "metadata": {},
   "source": [
    "## 2.1 Classification"
   ]
  },
  {
   "cell_type": "markdown",
   "id": "8e0deb3a",
   "metadata": {
    "heading_collapsed": true
   },
   "source": [
    "### 2.1.1 NAIVE MODEL"
   ]
  },
  {
   "cell_type": "markdown",
   "id": "771e573d",
   "metadata": {
    "hidden": true
   },
   "source": [
    "Naive model was trained with three datasets.<br>\n",
    "> 1. Original dataset<br>\n",
    "> 2. Undersampled dataset<br>\n",
    "> 3. Synthetically augmented dataset<br>\n",
    "\n",
    "The following is built and trained using the original dataset <br>\n",
    "This model used the X_train and Y_train generated above. No undersampling or data augmentation done on it"
   ]
  },
  {
   "cell_type": "code",
   "execution_count": 235,
   "id": "036e89df",
   "metadata": {
    "hidden": true
   },
   "outputs": [
    {
     "data": {
      "text/html": [
       "<style>#sk-container-id-4 {color: black;background-color: white;}#sk-container-id-4 pre{padding: 0;}#sk-container-id-4 div.sk-toggleable {background-color: white;}#sk-container-id-4 label.sk-toggleable__label {cursor: pointer;display: block;width: 100%;margin-bottom: 0;padding: 0.3em;box-sizing: border-box;text-align: center;}#sk-container-id-4 label.sk-toggleable__label-arrow:before {content: \"▸\";float: left;margin-right: 0.25em;color: #696969;}#sk-container-id-4 label.sk-toggleable__label-arrow:hover:before {color: black;}#sk-container-id-4 div.sk-estimator:hover label.sk-toggleable__label-arrow:before {color: black;}#sk-container-id-4 div.sk-toggleable__content {max-height: 0;max-width: 0;overflow: hidden;text-align: left;background-color: #f0f8ff;}#sk-container-id-4 div.sk-toggleable__content pre {margin: 0.2em;color: black;border-radius: 0.25em;background-color: #f0f8ff;}#sk-container-id-4 input.sk-toggleable__control:checked~div.sk-toggleable__content {max-height: 200px;max-width: 100%;overflow: auto;}#sk-container-id-4 input.sk-toggleable__control:checked~label.sk-toggleable__label-arrow:before {content: \"▾\";}#sk-container-id-4 div.sk-estimator input.sk-toggleable__control:checked~label.sk-toggleable__label {background-color: #d4ebff;}#sk-container-id-4 div.sk-label input.sk-toggleable__control:checked~label.sk-toggleable__label {background-color: #d4ebff;}#sk-container-id-4 input.sk-hidden--visually {border: 0;clip: rect(1px 1px 1px 1px);clip: rect(1px, 1px, 1px, 1px);height: 1px;margin: -1px;overflow: hidden;padding: 0;position: absolute;width: 1px;}#sk-container-id-4 div.sk-estimator {font-family: monospace;background-color: #f0f8ff;border: 1px dotted black;border-radius: 0.25em;box-sizing: border-box;margin-bottom: 0.5em;}#sk-container-id-4 div.sk-estimator:hover {background-color: #d4ebff;}#sk-container-id-4 div.sk-parallel-item::after {content: \"\";width: 100%;border-bottom: 1px solid gray;flex-grow: 1;}#sk-container-id-4 div.sk-label:hover label.sk-toggleable__label {background-color: #d4ebff;}#sk-container-id-4 div.sk-serial::before {content: \"\";position: absolute;border-left: 1px solid gray;box-sizing: border-box;top: 0;bottom: 0;left: 50%;z-index: 0;}#sk-container-id-4 div.sk-serial {display: flex;flex-direction: column;align-items: center;background-color: white;padding-right: 0.2em;padding-left: 0.2em;position: relative;}#sk-container-id-4 div.sk-item {position: relative;z-index: 1;}#sk-container-id-4 div.sk-parallel {display: flex;align-items: stretch;justify-content: center;background-color: white;position: relative;}#sk-container-id-4 div.sk-item::before, #sk-container-id-4 div.sk-parallel-item::before {content: \"\";position: absolute;border-left: 1px solid gray;box-sizing: border-box;top: 0;bottom: 0;left: 50%;z-index: -1;}#sk-container-id-4 div.sk-parallel-item {display: flex;flex-direction: column;z-index: 1;position: relative;background-color: white;}#sk-container-id-4 div.sk-parallel-item:first-child::after {align-self: flex-end;width: 50%;}#sk-container-id-4 div.sk-parallel-item:last-child::after {align-self: flex-start;width: 50%;}#sk-container-id-4 div.sk-parallel-item:only-child::after {width: 0;}#sk-container-id-4 div.sk-dashed-wrapped {border: 1px dashed gray;margin: 0 0.4em 0.5em 0.4em;box-sizing: border-box;padding-bottom: 0.4em;background-color: white;}#sk-container-id-4 div.sk-label label {font-family: monospace;font-weight: bold;display: inline-block;line-height: 1.2em;}#sk-container-id-4 div.sk-label-container {text-align: center;}#sk-container-id-4 div.sk-container {/* jupyter's `normalize.less` sets `[hidden] { display: none; }` but bootstrap.min.css set `[hidden] { display: none !important; }` so we also need the `!important` here to be able to override the default hidden behavior on the sphinx rendered scikit-learn.org. See: https://github.com/scikit-learn/scikit-learn/issues/21755 */display: inline-block !important;position: relative;}#sk-container-id-4 div.sk-text-repr-fallback {display: none;}</style><div id=\"sk-container-id-4\" class=\"sk-top-container\"><div class=\"sk-text-repr-fallback\"><pre>MultinomialNB(alpha=0.01)</pre><b>In a Jupyter environment, please rerun this cell to show the HTML representation or trust the notebook. <br />On GitHub, the HTML representation is unable to render, please try loading this page with nbviewer.org.</b></div><div class=\"sk-container\" hidden><div class=\"sk-item\"><div class=\"sk-estimator sk-toggleable\"><input class=\"sk-toggleable__control sk-hidden--visually\" id=\"sk-estimator-id-4\" type=\"checkbox\" checked><label for=\"sk-estimator-id-4\" class=\"sk-toggleable__label sk-toggleable__label-arrow\">MultinomialNB</label><div class=\"sk-toggleable__content\"><pre>MultinomialNB(alpha=0.01)</pre></div></div></div></div></div>"
      ],
      "text/plain": [
       "MultinomialNB(alpha=0.01)"
      ]
     },
     "execution_count": 235,
     "metadata": {},
     "output_type": "execute_result"
    }
   ],
   "source": [
    "from sklearn.naive_bayes import MultinomialNB\n",
    "\n",
    "naive_model = MultinomialNB(alpha=0.01)\n",
    "naive_model.fit(X_train, Y_train)"
   ]
  },
  {
   "cell_type": "markdown",
   "id": "6cf6b117",
   "metadata": {
    "hidden": true
   },
   "source": [
    "trained naive model is pickled below for later use"
   ]
  },
  {
   "cell_type": "code",
   "execution_count": 240,
   "id": "80a7231c",
   "metadata": {
    "hidden": true
   },
   "outputs": [],
   "source": [
    "import pickle\n",
    "\n",
    "filename = 'Naive_model.sav'\n",
    "pickle.dump(naive_model, open(filename, 'wb'))"
   ]
  },
  {
   "cell_type": "code",
   "execution_count": 4,
   "id": "8e6f79be",
   "metadata": {
    "hidden": true
   },
   "outputs": [],
   "source": [
    "#classification\n",
    "Y_predicted = naive_model.predict(X_test)"
   ]
  },
  {
   "cell_type": "code",
   "execution_count": 5,
   "id": "fe58f07c",
   "metadata": {
    "hidden": true,
    "scrolled": true
   },
   "outputs": [
    {
     "name": "stdout",
     "output_type": "stream",
     "text": [
      "              precision    recall  f1-score   support\n",
      "\n",
      "     DELAYED       0.55      0.04      0.07    401287\n",
      "      ONTIME       0.84      0.99      0.91   1988125\n",
      "\n",
      "    accuracy                           0.83   2389412\n",
      "   macro avg       0.69      0.52      0.49   2389412\n",
      "weighted avg       0.79      0.83      0.77   2389412\n",
      "\n"
     ]
    }
   ],
   "source": [
    "from sklearn.metrics import classification_report, confusion_matrix\n",
    "\n",
    "print(classification_report(Y_test, Y_predicted))"
   ]
  },
  {
   "cell_type": "code",
   "execution_count": 6,
   "id": "73dddac2",
   "metadata": {
    "hidden": true
   },
   "outputs": [
    {
     "name": "stdout",
     "output_type": "stream",
     "text": [
      "[[  14650  386637]\n",
      " [  11949 1976176]]\n"
     ]
    }
   ],
   "source": [
    "conf_matrix = confusion_matrix(Y_test, Y_predicted)\n",
    "print(conf_matrix)"
   ]
  },
  {
   "cell_type": "code",
   "execution_count": 8,
   "id": "bf1e87ba",
   "metadata": {
    "hidden": true
   },
   "outputs": [
    {
     "data": {
      "image/png": "[encoded data removed]",
      "text/plain": [
       "<Figure size 540x540 with 1 Axes>"
      ]
     },
     "metadata": {
      "needs_background": "light"
     },
     "output_type": "display_data"
    }
   ],
   "source": [
    "import matplotlib.pyplot as plt\n",
    "\n",
    "fig, ax = plt.subplots(figsize=(7.5, 7.5))\n",
    "ax.matshow(conf_matrix, cmap=plt.cm.Blues, alpha=0.3)\n",
    "\n",
    "for i in range(conf_matrix.shape[0]):\n",
    "    for j in range(conf_matrix.shape[1]):\n",
    "        ax.text(x=j, y=i,s=conf_matrix[i, j], va='center', ha='center', size='xx-large')\n",
    " \n",
    "plt.xlabel('Predictions', fontsize=18)\n",
    "plt.ylabel('Actuals', fontsize=18)\n",
    "tickvalues = [0, 1]\n",
    "plt.xticks(ticks = tickvalues ,labels = ['DELAYED', 'ONTIME'], rotation = 'horizontal')\n",
    "plt.yticks(ticks = tickvalues ,labels = ['DELAYED', 'ONTIME'], rotation = 'horizontal')\n",
    "plt.title('Confusion Matrix', fontsize=18)\n",
    "plt.show()"
   ]
  },
  {
   "cell_type": "markdown",
   "id": "8c61603c",
   "metadata": {
    "heading_collapsed": true
   },
   "source": [
    "### 2.1.2 NAIVE MODEL undersampled"
   ]
  },
  {
   "cell_type": "markdown",
   "id": "85370e0d",
   "metadata": {
    "hidden": true
   },
   "source": [
    "This model uses undersampled data. Undersampled data and the model are pickled/saved for ease of use and can be loaded later"
   ]
  },
  {
   "cell_type": "code",
   "execution_count": 4,
   "id": "d60e3387",
   "metadata": {
    "hidden": true
   },
   "outputs": [],
   "source": [
    "from imblearn.under_sampling import RandomUnderSampler\n",
    "\n",
    "US = RandomUnderSampler(random_state=0)\n",
    "usx, usy = US.fit_resample(X_train, Y_train)"
   ]
  },
  {
   "cell_type": "markdown",
   "id": "ec7c9276",
   "metadata": {
    "hidden": true
   },
   "source": [
    "Saving the undersampled data for later use"
   ]
  },
  {
   "cell_type": "code",
   "execution_count": 5,
   "id": "97e0eea5",
   "metadata": {
    "hidden": true
   },
   "outputs": [],
   "source": [
    "import numpy as np\n",
    "np.save(\"usx\", usx)\n",
    "np.save(\"usy\", usy)"
   ]
  },
  {
   "cell_type": "markdown",
   "id": "49ad7afe",
   "metadata": {
    "hidden": true
   },
   "source": [
    "model is built below using the undersampled data generated (or read) above, or it can be unpickled from an already-pickled model (two cells below)"
   ]
  },
  {
   "cell_type": "code",
   "execution_count": 6,
   "id": "576c94e6",
   "metadata": {
    "hidden": true
   },
   "outputs": [
    {
     "data": {
      "text/html": [
       "<style>#sk-container-id-1 {color: black;background-color: white;}#sk-container-id-1 pre{padding: 0;}#sk-container-id-1 div.sk-toggleable {background-color: white;}#sk-container-id-1 label.sk-toggleable__label {cursor: pointer;display: block;width: 100%;margin-bottom: 0;padding: 0.3em;box-sizing: border-box;text-align: center;}#sk-container-id-1 label.sk-toggleable__label-arrow:before {content: \"▸\";float: left;margin-right: 0.25em;color: #696969;}#sk-container-id-1 label.sk-toggleable__label-arrow:hover:before {color: black;}#sk-container-id-1 div.sk-estimator:hover label.sk-toggleable__label-arrow:before {color: black;}#sk-container-id-1 div.sk-toggleable__content {max-height: 0;max-width: 0;overflow: hidden;text-align: left;background-color: #f0f8ff;}#sk-container-id-1 div.sk-toggleable__content pre {margin: 0.2em;color: black;border-radius: 0.25em;background-color: #f0f8ff;}#sk-container-id-1 input.sk-toggleable__control:checked~div.sk-toggleable__content {max-height: 200px;max-width: 100%;overflow: auto;}#sk-container-id-1 input.sk-toggleable__control:checked~label.sk-toggleable__label-arrow:before {content: \"▾\";}#sk-container-id-1 div.sk-estimator input.sk-toggleable__control:checked~label.sk-toggleable__label {background-color: #d4ebff;}#sk-container-id-1 div.sk-label input.sk-toggleable__control:checked~label.sk-toggleable__label {background-color: #d4ebff;}#sk-container-id-1 input.sk-hidden--visually {border: 0;clip: rect(1px 1px 1px 1px);clip: rect(1px, 1px, 1px, 1px);height: 1px;margin: -1px;overflow: hidden;padding: 0;position: absolute;width: 1px;}#sk-container-id-1 div.sk-estimator {font-family: monospace;background-color: #f0f8ff;border: 1px dotted black;border-radius: 0.25em;box-sizing: border-box;margin-bottom: 0.5em;}#sk-container-id-1 div.sk-estimator:hover {background-color: #d4ebff;}#sk-container-id-1 div.sk-parallel-item::after {content: \"\";width: 100%;border-bottom: 1px solid gray;flex-grow: 1;}#sk-container-id-1 div.sk-label:hover label.sk-toggleable__label {background-color: #d4ebff;}#sk-container-id-1 div.sk-serial::before {content: \"\";position: absolute;border-left: 1px solid gray;box-sizing: border-box;top: 0;bottom: 0;left: 50%;z-index: 0;}#sk-container-id-1 div.sk-serial {display: flex;flex-direction: column;align-items: center;background-color: white;padding-right: 0.2em;padding-left: 0.2em;position: relative;}#sk-container-id-1 div.sk-item {position: relative;z-index: 1;}#sk-container-id-1 div.sk-parallel {display: flex;align-items: stretch;justify-content: center;background-color: white;position: relative;}#sk-container-id-1 div.sk-item::before, #sk-container-id-1 div.sk-parallel-item::before {content: \"\";position: absolute;border-left: 1px solid gray;box-sizing: border-box;top: 0;bottom: 0;left: 50%;z-index: -1;}#sk-container-id-1 div.sk-parallel-item {display: flex;flex-direction: column;z-index: 1;position: relative;background-color: white;}#sk-container-id-1 div.sk-parallel-item:first-child::after {align-self: flex-end;width: 50%;}#sk-container-id-1 div.sk-parallel-item:last-child::after {align-self: flex-start;width: 50%;}#sk-container-id-1 div.sk-parallel-item:only-child::after {width: 0;}#sk-container-id-1 div.sk-dashed-wrapped {border: 1px dashed gray;margin: 0 0.4em 0.5em 0.4em;box-sizing: border-box;padding-bottom: 0.4em;background-color: white;}#sk-container-id-1 div.sk-label label {font-family: monospace;font-weight: bold;display: inline-block;line-height: 1.2em;}#sk-container-id-1 div.sk-label-container {text-align: center;}#sk-container-id-1 div.sk-container {/* jupyter's `normalize.less` sets `[hidden] { display: none; }` but bootstrap.min.css set `[hidden] { display: none !important; }` so we also need the `!important` here to be able to override the default hidden behavior on the sphinx rendered scikit-learn.org. See: https://github.com/scikit-learn/scikit-learn/issues/21755 */display: inline-block !important;position: relative;}#sk-container-id-1 div.sk-text-repr-fallback {display: none;}</style><div id=\"sk-container-id-1\" class=\"sk-top-container\"><div class=\"sk-text-repr-fallback\"><pre>MultinomialNB(alpha=0.01)</pre><b>In a Jupyter environment, please rerun this cell to show the HTML representation or trust the notebook. <br />On GitHub, the HTML representation is unable to render, please try loading this page with nbviewer.org.</b></div><div class=\"sk-container\" hidden><div class=\"sk-item\"><div class=\"sk-estimator sk-toggleable\"><input class=\"sk-toggleable__control sk-hidden--visually\" id=\"sk-estimator-id-1\" type=\"checkbox\" checked><label for=\"sk-estimator-id-1\" class=\"sk-toggleable__label sk-toggleable__label-arrow\">MultinomialNB</label><div class=\"sk-toggleable__content\"><pre>MultinomialNB(alpha=0.01)</pre></div></div></div></div></div>"
      ],
      "text/plain": [
       "MultinomialNB(alpha=0.01)"
      ]
     },
     "execution_count": 6,
     "metadata": {},
     "output_type": "execute_result"
    }
   ],
   "source": [
    "from sklearn.naive_bayes import MultinomialNB\n",
    "\n",
    "naive_model_us = MultinomialNB(alpha=0.01)\n",
    "naive_model_us.fit(usx, usy)"
   ]
  },
  {
   "cell_type": "markdown",
   "id": "867e4a6d",
   "metadata": {
    "hidden": true
   },
   "source": [
    "Model is pickled below for later use"
   ]
  },
  {
   "cell_type": "code",
   "execution_count": 7,
   "id": "ca6bd1c4",
   "metadata": {
    "hidden": true
   },
   "outputs": [],
   "source": [
    "import pickle\n",
    "\n",
    "filename = 'Naive_undersampled_model.sav'\n",
    "pickle.dump(naive_model_us, open(filename, 'wb'))"
   ]
  },
  {
   "cell_type": "code",
   "execution_count": 9,
   "id": "33c3e915",
   "metadata": {
    "hidden": true,
    "scrolled": true
   },
   "outputs": [],
   "source": [
    "#classification\n",
    "Y_predicted = naive_model_us.predict(X_test)"
   ]
  },
  {
   "cell_type": "code",
   "execution_count": 10,
   "id": "d7a6bd25",
   "metadata": {
    "hidden": true
   },
   "outputs": [
    {
     "name": "stdout",
     "output_type": "stream",
     "text": [
      "              precision    recall  f1-score   support\n",
      "\n",
      "     DELAYED       0.26      0.70      0.38    401287\n",
      "      ONTIME       0.91      0.59      0.72   1988125\n",
      "\n",
      "    accuracy                           0.61   2389412\n",
      "   macro avg       0.58      0.65      0.55   2389412\n",
      "weighted avg       0.80      0.61      0.66   2389412\n",
      "\n"
     ]
    }
   ],
   "source": [
    "from sklearn.metrics import classification_report, confusion_matrix\n",
    "\n",
    "print(classification_report(Y_test, Y_predicted))"
   ]
  },
  {
   "cell_type": "code",
   "execution_count": 11,
   "id": "04513ca5",
   "metadata": {
    "hidden": true
   },
   "outputs": [
    {
     "name": "stdout",
     "output_type": "stream",
     "text": [
      "[[ 282404  118883]\n",
      " [ 813349 1174776]]\n"
     ]
    }
   ],
   "source": [
    "conf_matrix = confusion_matrix(Y_test, Y_predicted)\n",
    "print(conf_matrix)"
   ]
  },
  {
   "cell_type": "code",
   "execution_count": 12,
   "id": "786b685b",
   "metadata": {
    "hidden": true
   },
   "outputs": [
    {
     "data": {
      "image/png": "[encoded data removed]",
      "text/plain": [
       "<Figure size 540x540 with 1 Axes>"
      ]
     },
     "metadata": {
      "needs_background": "light"
     },
     "output_type": "display_data"
    }
   ],
   "source": [
    "import matplotlib.pyplot as plt\n",
    "\n",
    "fig, ax = plt.subplots(figsize=(7.5, 7.5))\n",
    "ax.matshow(conf_matrix, cmap=plt.cm.Blues, alpha=0.3)\n",
    "\n",
    "for i in range(conf_matrix.shape[0]):\n",
    "    for j in range(conf_matrix.shape[1]):\n",
    "        ax.text(x=j, y=i,s=conf_matrix[i, j], va='center', ha='center', size='xx-large')\n",
    " \n",
    "plt.xlabel('Predictions', fontsize=18)\n",
    "plt.ylabel('Actuals', fontsize=18)\n",
    "tickvalues = [0, 1]\n",
    "plt.xticks(ticks = tickvalues ,labels = ['DELAYED', 'ONTIME'], rotation = 'horizontal')\n",
    "plt.yticks(ticks = tickvalues ,labels = ['DELAYED', 'ONTIME'], rotation = 'horizontal')\n",
    "plt.title('Confusion Matrix', fontsize=18)\n",
    "plt.show()"
   ]
  },
  {
   "cell_type": "markdown",
   "id": "59dd109e",
   "metadata": {
    "heading_collapsed": true
   },
   "source": [
    "### 2.1.3 NAIVE MODEL Sythetic Data Augmentation"
   ]
  },
  {
   "cell_type": "markdown",
   "id": "957b11dd",
   "metadata": {
    "hidden": true
   },
   "source": [
    "This model uses <u>Synthetically Augmented Data</u>. Synthetically Augmented Data and the model are saved/pickled for ease of use and can be loaded later"
   ]
  },
  {
   "cell_type": "code",
   "execution_count": 54,
   "id": "07b04e91",
   "metadata": {
    "hidden": true
   },
   "outputs": [],
   "source": [
    "from imblearn.over_sampling import SMOTE\n",
    "\n",
    "smote = SMOTE(sampling_strategy='auto', random_state=0)\n",
    "smox, smoy = smote.fit_resample(X_train, Y_train)"
   ]
  },
  {
   "cell_type": "markdown",
   "id": "934ef84c",
   "metadata": {
    "hidden": true
   },
   "source": [
    "Saving the synthetically augmented data for later use"
   ]
  },
  {
   "cell_type": "code",
   "execution_count": 55,
   "id": "f2a547f6",
   "metadata": {
    "hidden": true
   },
   "outputs": [],
   "source": [
    "import numpy as np\n",
    "np.save(\"smox\", smox)\n",
    "np.save(\"smoy\", smoy)"
   ]
  },
  {
   "cell_type": "markdown",
   "id": "b333c6f4",
   "metadata": {
    "hidden": true
   },
   "source": [
    "model is generated below. It can also be alternatively unpickled from an already-pickled model"
   ]
  },
  {
   "cell_type": "code",
   "execution_count": 56,
   "id": "e7e9637c",
   "metadata": {
    "hidden": true
   },
   "outputs": [
    {
     "data": {
      "text/html": [
       "<style>#sk-container-id-2 {color: black;background-color: white;}#sk-container-id-2 pre{padding: 0;}#sk-container-id-2 div.sk-toggleable {background-color: white;}#sk-container-id-2 label.sk-toggleable__label {cursor: pointer;display: block;width: 100%;margin-bottom: 0;padding: 0.3em;box-sizing: border-box;text-align: center;}#sk-container-id-2 label.sk-toggleable__label-arrow:before {content: \"▸\";float: left;margin-right: 0.25em;color: #696969;}#sk-container-id-2 label.sk-toggleable__label-arrow:hover:before {color: black;}#sk-container-id-2 div.sk-estimator:hover label.sk-toggleable__label-arrow:before {color: black;}#sk-container-id-2 div.sk-toggleable__content {max-height: 0;max-width: 0;overflow: hidden;text-align: left;background-color: #f0f8ff;}#sk-container-id-2 div.sk-toggleable__content pre {margin: 0.2em;color: black;border-radius: 0.25em;background-color: #f0f8ff;}#sk-container-id-2 input.sk-toggleable__control:checked~div.sk-toggleable__content {max-height: 200px;max-width: 100%;overflow: auto;}#sk-container-id-2 input.sk-toggleable__control:checked~label.sk-toggleable__label-arrow:before {content: \"▾\";}#sk-container-id-2 div.sk-estimator input.sk-toggleable__control:checked~label.sk-toggleable__label {background-color: #d4ebff;}#sk-container-id-2 div.sk-label input.sk-toggleable__control:checked~label.sk-toggleable__label {background-color: #d4ebff;}#sk-container-id-2 input.sk-hidden--visually {border: 0;clip: rect(1px 1px 1px 1px);clip: rect(1px, 1px, 1px, 1px);height: 1px;margin: -1px;overflow: hidden;padding: 0;position: absolute;width: 1px;}#sk-container-id-2 div.sk-estimator {font-family: monospace;background-color: #f0f8ff;border: 1px dotted black;border-radius: 0.25em;box-sizing: border-box;margin-bottom: 0.5em;}#sk-container-id-2 div.sk-estimator:hover {background-color: #d4ebff;}#sk-container-id-2 div.sk-parallel-item::after {content: \"\";width: 100%;border-bottom: 1px solid gray;flex-grow: 1;}#sk-container-id-2 div.sk-label:hover label.sk-toggleable__label {background-color: #d4ebff;}#sk-container-id-2 div.sk-serial::before {content: \"\";position: absolute;border-left: 1px solid gray;box-sizing: border-box;top: 0;bottom: 0;left: 50%;z-index: 0;}#sk-container-id-2 div.sk-serial {display: flex;flex-direction: column;align-items: center;background-color: white;padding-right: 0.2em;padding-left: 0.2em;position: relative;}#sk-container-id-2 div.sk-item {position: relative;z-index: 1;}#sk-container-id-2 div.sk-parallel {display: flex;align-items: stretch;justify-content: center;background-color: white;position: relative;}#sk-container-id-2 div.sk-item::before, #sk-container-id-2 div.sk-parallel-item::before {content: \"\";position: absolute;border-left: 1px solid gray;box-sizing: border-box;top: 0;bottom: 0;left: 50%;z-index: -1;}#sk-container-id-2 div.sk-parallel-item {display: flex;flex-direction: column;z-index: 1;position: relative;background-color: white;}#sk-container-id-2 div.sk-parallel-item:first-child::after {align-self: flex-end;width: 50%;}#sk-container-id-2 div.sk-parallel-item:last-child::after {align-self: flex-start;width: 50%;}#sk-container-id-2 div.sk-parallel-item:only-child::after {width: 0;}#sk-container-id-2 div.sk-dashed-wrapped {border: 1px dashed gray;margin: 0 0.4em 0.5em 0.4em;box-sizing: border-box;padding-bottom: 0.4em;background-color: white;}#sk-container-id-2 div.sk-label label {font-family: monospace;font-weight: bold;display: inline-block;line-height: 1.2em;}#sk-container-id-2 div.sk-label-container {text-align: center;}#sk-container-id-2 div.sk-container {/* jupyter's `normalize.less` sets `[hidden] { display: none; }` but bootstrap.min.css set `[hidden] { display: none !important; }` so we also need the `!important` here to be able to override the default hidden behavior on the sphinx rendered scikit-learn.org. See: https://github.com/scikit-learn/scikit-learn/issues/21755 */display: inline-block !important;position: relative;}#sk-container-id-2 div.sk-text-repr-fallback {display: none;}</style><div id=\"sk-container-id-2\" class=\"sk-top-container\"><div class=\"sk-text-repr-fallback\"><pre>MultinomialNB(alpha=0.01)</pre><b>In a Jupyter environment, please rerun this cell to show the HTML representation or trust the notebook. <br />On GitHub, the HTML representation is unable to render, please try loading this page with nbviewer.org.</b></div><div class=\"sk-container\" hidden><div class=\"sk-item\"><div class=\"sk-estimator sk-toggleable\"><input class=\"sk-toggleable__control sk-hidden--visually\" id=\"sk-estimator-id-2\" type=\"checkbox\" checked><label for=\"sk-estimator-id-2\" class=\"sk-toggleable__label sk-toggleable__label-arrow\">MultinomialNB</label><div class=\"sk-toggleable__content\"><pre>MultinomialNB(alpha=0.01)</pre></div></div></div></div></div>"
      ],
      "text/plain": [
       "MultinomialNB(alpha=0.01)"
      ]
     },
     "execution_count": 56,
     "metadata": {},
     "output_type": "execute_result"
    }
   ],
   "source": [
    "from sklearn.naive_bayes import MultinomialNB\n",
    "\n",
    "naive_model_sda = MultinomialNB(alpha=0.01)\n",
    "naive_model_sda.fit(smox, smoy)"
   ]
  },
  {
   "cell_type": "markdown",
   "id": "986612cf",
   "metadata": {
    "hidden": true
   },
   "source": [
    "Pickling the model"
   ]
  },
  {
   "cell_type": "code",
   "execution_count": 57,
   "id": "602eba44",
   "metadata": {
    "hidden": true
   },
   "outputs": [],
   "source": [
    "import pickle\n",
    "\n",
    "filename = 'Naive_sda_model.sav'\n",
    "pickle.dump(naive_model, open(filename, 'wb'))"
   ]
  },
  {
   "cell_type": "code",
   "execution_count": 17,
   "id": "73b7668f",
   "metadata": {
    "hidden": true
   },
   "outputs": [],
   "source": [
    "#classification\n",
    "Y_predicted = naive_model_sda.predict(X_test)"
   ]
  },
  {
   "cell_type": "code",
   "execution_count": 18,
   "id": "70bc0df5",
   "metadata": {
    "hidden": true
   },
   "outputs": [
    {
     "name": "stdout",
     "output_type": "stream",
     "text": [
      "              precision    recall  f1-score   support\n",
      "\n",
      "     DELAYED       0.26      0.70      0.38    401287\n",
      "      ONTIME       0.91      0.59      0.72   1988125\n",
      "\n",
      "    accuracy                           0.61   2389412\n",
      "   macro avg       0.58      0.65      0.55   2389412\n",
      "weighted avg       0.80      0.61      0.66   2389412\n",
      "\n"
     ]
    }
   ],
   "source": [
    "from sklearn.metrics import classification_report, confusion_matrix\n",
    "\n",
    "print(classification_report(Y_test, Y_predicted))"
   ]
  },
  {
   "cell_type": "code",
   "execution_count": 19,
   "id": "06bd8297",
   "metadata": {
    "hidden": true
   },
   "outputs": [
    {
     "name": "stdout",
     "output_type": "stream",
     "text": [
      "[[ 281775  119512]\n",
      " [ 807020 1181105]]\n"
     ]
    }
   ],
   "source": [
    "conf_matrix = confusion_matrix(Y_test, Y_predicted)\n",
    "print(conf_matrix)"
   ]
  },
  {
   "cell_type": "code",
   "execution_count": 20,
   "id": "c1d19631",
   "metadata": {
    "hidden": true
   },
   "outputs": [
    {
     "data": {
      "image/png": "[encoded data removed]",
      "text/plain": [
       "<Figure size 540x540 with 1 Axes>"
      ]
     },
     "metadata": {
      "needs_background": "light"
     },
     "output_type": "display_data"
    }
   ],
   "source": [
    "import matplotlib.pyplot as plt\n",
    "\n",
    "fig, ax = plt.subplots(figsize=(7.5, 7.5))\n",
    "ax.matshow(conf_matrix, cmap=plt.cm.Blues, alpha=0.3)\n",
    "\n",
    "for i in range(conf_matrix.shape[0]):\n",
    "    for j in range(conf_matrix.shape[1]):\n",
    "        ax.text(x=j, y=i,s=conf_matrix[i, j], va='center', ha='center', size='xx-large')\n",
    " \n",
    "plt.xlabel('Predictions', fontsize=18)\n",
    "plt.ylabel('Actuals', fontsize=18)\n",
    "tickvalues = [0, 1]\n",
    "plt.xticks(ticks = tickvalues ,labels = ['DELAYED', 'ONTIME'], rotation = 'horizontal')\n",
    "plt.yticks(ticks = tickvalues ,labels = ['DELAYED', 'ONTIME'], rotation = 'horizontal')\n",
    "plt.title('Confusion Matrix', fontsize=18)\n",
    "plt.show()"
   ]
  },
  {
   "cell_type": "markdown",
   "id": "ad818276",
   "metadata": {
    "heading_collapsed": true
   },
   "source": [
    "### 2.1.4 Random Forest"
   ]
  },
  {
   "cell_type": "markdown",
   "id": "8f705fac",
   "metadata": {
    "hidden": true
   },
   "source": [
    "Random Forest model was trained with three datasets.<br>\n",
    "> 1. Original dataset<br>\n",
    "> 2. Undersampled dataset<br>\n",
    "> 3. Synthetically augmented dataset<br>\n",
    "\n",
    "The following is built and trained using the original dataset"
   ]
  },
  {
   "cell_type": "code",
   "execution_count": 5,
   "id": "d7b78516",
   "metadata": {
    "hidden": true
   },
   "outputs": [],
   "source": [
    "from sklearn.ensemble import RandomForestClassifier"
   ]
  },
  {
   "cell_type": "code",
   "execution_count": 80,
   "id": "79a1118a",
   "metadata": {
    "hidden": true
   },
   "outputs": [],
   "source": [
    "from sklearn import preprocessing\n",
    "\n",
    "lb = preprocessing.LabelBinarizer()\n",
    "Y2 = lb.fit_transform(Y_train)\n",
    "#using this line of code because otherwise I will get the following error:\n",
    "# could not convert string to float: 'ONTIME'"
   ]
  },
  {
   "cell_type": "code",
   "execution_count": 8,
   "id": "ee94f3a4",
   "metadata": {
    "hidden": true,
    "scrolled": true
   },
   "outputs": [
    {
     "data": {
      "text/html": [
       "<style>#sk-container-id-1 {color: black;background-color: white;}#sk-container-id-1 pre{padding: 0;}#sk-container-id-1 div.sk-toggleable {background-color: white;}#sk-container-id-1 label.sk-toggleable__label {cursor: pointer;display: block;width: 100%;margin-bottom: 0;padding: 0.3em;box-sizing: border-box;text-align: center;}#sk-container-id-1 label.sk-toggleable__label-arrow:before {content: \"▸\";float: left;margin-right: 0.25em;color: #696969;}#sk-container-id-1 label.sk-toggleable__label-arrow:hover:before {color: black;}#sk-container-id-1 div.sk-estimator:hover label.sk-toggleable__label-arrow:before {color: black;}#sk-container-id-1 div.sk-toggleable__content {max-height: 0;max-width: 0;overflow: hidden;text-align: left;background-color: #f0f8ff;}#sk-container-id-1 div.sk-toggleable__content pre {margin: 0.2em;color: black;border-radius: 0.25em;background-color: #f0f8ff;}#sk-container-id-1 input.sk-toggleable__control:checked~div.sk-toggleable__content {max-height: 200px;max-width: 100%;overflow: auto;}#sk-container-id-1 input.sk-toggleable__control:checked~label.sk-toggleable__label-arrow:before {content: \"▾\";}#sk-container-id-1 div.sk-estimator input.sk-toggleable__control:checked~label.sk-toggleable__label {background-color: #d4ebff;}#sk-container-id-1 div.sk-label input.sk-toggleable__control:checked~label.sk-toggleable__label {background-color: #d4ebff;}#sk-container-id-1 input.sk-hidden--visually {border: 0;clip: rect(1px 1px 1px 1px);clip: rect(1px, 1px, 1px, 1px);height: 1px;margin: -1px;overflow: hidden;padding: 0;position: absolute;width: 1px;}#sk-container-id-1 div.sk-estimator {font-family: monospace;background-color: #f0f8ff;border: 1px dotted black;border-radius: 0.25em;box-sizing: border-box;margin-bottom: 0.5em;}#sk-container-id-1 div.sk-estimator:hover {background-color: #d4ebff;}#sk-container-id-1 div.sk-parallel-item::after {content: \"\";width: 100%;border-bottom: 1px solid gray;flex-grow: 1;}#sk-container-id-1 div.sk-label:hover label.sk-toggleable__label {background-color: #d4ebff;}#sk-container-id-1 div.sk-serial::before {content: \"\";position: absolute;border-left: 1px solid gray;box-sizing: border-box;top: 0;bottom: 0;left: 50%;z-index: 0;}#sk-container-id-1 div.sk-serial {display: flex;flex-direction: column;align-items: center;background-color: white;padding-right: 0.2em;padding-left: 0.2em;position: relative;}#sk-container-id-1 div.sk-item {position: relative;z-index: 1;}#sk-container-id-1 div.sk-parallel {display: flex;align-items: stretch;justify-content: center;background-color: white;position: relative;}#sk-container-id-1 div.sk-item::before, #sk-container-id-1 div.sk-parallel-item::before {content: \"\";position: absolute;border-left: 1px solid gray;box-sizing: border-box;top: 0;bottom: 0;left: 50%;z-index: -1;}#sk-container-id-1 div.sk-parallel-item {display: flex;flex-direction: column;z-index: 1;position: relative;background-color: white;}#sk-container-id-1 div.sk-parallel-item:first-child::after {align-self: flex-end;width: 50%;}#sk-container-id-1 div.sk-parallel-item:last-child::after {align-self: flex-start;width: 50%;}#sk-container-id-1 div.sk-parallel-item:only-child::after {width: 0;}#sk-container-id-1 div.sk-dashed-wrapped {border: 1px dashed gray;margin: 0 0.4em 0.5em 0.4em;box-sizing: border-box;padding-bottom: 0.4em;background-color: white;}#sk-container-id-1 div.sk-label label {font-family: monospace;font-weight: bold;display: inline-block;line-height: 1.2em;}#sk-container-id-1 div.sk-label-container {text-align: center;}#sk-container-id-1 div.sk-container {/* jupyter's `normalize.less` sets `[hidden] { display: none; }` but bootstrap.min.css set `[hidden] { display: none !important; }` so we also need the `!important` here to be able to override the default hidden behavior on the sphinx rendered scikit-learn.org. See: https://github.com/scikit-learn/scikit-learn/issues/21755 */display: inline-block !important;position: relative;}#sk-container-id-1 div.sk-text-repr-fallback {display: none;}</style><div id=\"sk-container-id-1\" class=\"sk-top-container\"><div class=\"sk-text-repr-fallback\"><pre>RandomForestClassifier(n_estimators=10, random_state=42)</pre><b>In a Jupyter environment, please rerun this cell to show the HTML representation or trust the notebook. <br />On GitHub, the HTML representation is unable to render, please try loading this page with nbviewer.org.</b></div><div class=\"sk-container\" hidden><div class=\"sk-item\"><div class=\"sk-estimator sk-toggleable\"><input class=\"sk-toggleable__control sk-hidden--visually\" id=\"sk-estimator-id-1\" type=\"checkbox\" checked><label for=\"sk-estimator-id-1\" class=\"sk-toggleable__label sk-toggleable__label-arrow\">RandomForestClassifier</label><div class=\"sk-toggleable__content\"><pre>RandomForestClassifier(n_estimators=10, random_state=42)</pre></div></div></div></div></div>"
      ],
      "text/plain": [
       "RandomForestClassifier(n_estimators=10, random_state=42)"
      ]
     },
     "execution_count": 8,
     "metadata": {},
     "output_type": "execute_result"
    }
   ],
   "source": [
    "rf = RandomForestClassifier(n_estimators = 10, random_state = 42)\n",
    "rf.fit(X_train, Y2.ravel())"
   ]
  },
  {
   "cell_type": "markdown",
   "id": "9976b839",
   "metadata": {
    "hidden": true
   },
   "source": [
    "Random Forest model is pickled below for later use"
   ]
  },
  {
   "cell_type": "code",
   "execution_count": 9,
   "id": "5ed8ea41",
   "metadata": {
    "hidden": true
   },
   "outputs": [],
   "source": [
    "import pickle\n",
    "\n",
    "filename = 'rf_model.sav'\n",
    "pickle.dump(rf, open(filename, 'wb'))"
   ]
  },
  {
   "cell_type": "code",
   "execution_count": 65,
   "id": "b06c11df",
   "metadata": {
    "hidden": true
   },
   "outputs": [],
   "source": [
    "#classification\n",
    "Y_predicted = rf.predict(X_test)\n",
    "\n",
    "y_original = lb.inverse_transform(Y_predicted)"
   ]
  },
  {
   "cell_type": "code",
   "execution_count": 66,
   "id": "4f4ade12",
   "metadata": {
    "hidden": true
   },
   "outputs": [
    {
     "name": "stdout",
     "output_type": "stream",
     "text": [
      "              precision    recall  f1-score   support\n",
      "\n",
      "     DELAYED       0.71      0.36      0.48    401287\n",
      "      ONTIME       0.88      0.97      0.92   1988125\n",
      "\n",
      "    accuracy                           0.87   2389412\n",
      "   macro avg       0.80      0.66      0.70   2389412\n",
      "weighted avg       0.85      0.87      0.85   2389412\n",
      "\n"
     ]
    }
   ],
   "source": [
    "from sklearn.metrics import classification_report, confusion_matrix\n",
    "\n",
    "print(classification_report(Y_test, y_original))"
   ]
  },
  {
   "cell_type": "code",
   "execution_count": 67,
   "id": "134be978",
   "metadata": {
    "hidden": true
   },
   "outputs": [
    {
     "name": "stdout",
     "output_type": "stream",
     "text": [
      "[[ 143027  258260]\n",
      " [  57525 1930600]]\n"
     ]
    }
   ],
   "source": [
    "conf_matrix = confusion_matrix(Y_test, y_original)\n",
    "print(conf_matrix)"
   ]
  },
  {
   "cell_type": "code",
   "execution_count": 68,
   "id": "1896f212",
   "metadata": {
    "hidden": true
   },
   "outputs": [
    {
     "data": {
      "image/png": "[encoded data removed]",
      "text/plain": [
       "<Figure size 540x540 with 1 Axes>"
      ]
     },
     "metadata": {
      "needs_background": "light"
     },
     "output_type": "display_data"
    }
   ],
   "source": [
    "import matplotlib.pyplot as plt\n",
    "\n",
    "fig, ax = plt.subplots(figsize=(7.5, 7.5))\n",
    "ax.matshow(conf_matrix, cmap=plt.cm.Blues, alpha=0.3)\n",
    "\n",
    "for i in range(conf_matrix.shape[0]):\n",
    "    for j in range(conf_matrix.shape[1]):\n",
    "        ax.text(x=j, y=i,s=conf_matrix[i, j], va='center', ha='center', size='xx-large')\n",
    " \n",
    "plt.xlabel('Predictions', fontsize=18)\n",
    "plt.ylabel('Actuals', fontsize=18)\n",
    "tickvalues = [0, 1]\n",
    "plt.xticks(ticks = tickvalues ,labels = ['DELAYED', 'ONTIME'], rotation = 'horizontal')\n",
    "plt.yticks(ticks = tickvalues ,labels = ['DELAYED', 'ONTIME'], rotation = 'horizontal')\n",
    "plt.title('Confusion Matrix', fontsize=18)\n",
    "plt.show()"
   ]
  },
  {
   "cell_type": "markdown",
   "id": "5a77483a",
   "metadata": {
    "heading_collapsed": true
   },
   "source": [
    "### 2.1.5 Random Forest undersampled"
   ]
  },
  {
   "cell_type": "code",
   "execution_count": 197,
   "id": "a18ccfc2",
   "metadata": {
    "hidden": true
   },
   "outputs": [],
   "source": [
    "from imblearn.under_sampling import RandomUnderSampler\n",
    "\n",
    "US = RandomUnderSampler(random_state=0)\n",
    "usx_rf, usy_rf = US.fit_resample(X_train, Y_train)"
   ]
  },
  {
   "cell_type": "markdown",
   "id": "eb77dd55",
   "metadata": {
    "hidden": true
   },
   "source": [
    "Saving the undersampled data for later use"
   ]
  },
  {
   "cell_type": "code",
   "execution_count": 198,
   "id": "62711efb",
   "metadata": {
    "hidden": true
   },
   "outputs": [],
   "source": [
    "import numpy as np\n",
    "np.save(\"usx_rf\", usx_rf)\n",
    "np.save(\"usy_rf\", usy_rf)"
   ]
  },
  {
   "cell_type": "code",
   "execution_count": 231,
   "id": "6eb0c5b2",
   "metadata": {
    "hidden": true
   },
   "outputs": [],
   "source": [
    "from sklearn.ensemble import RandomForestClassifier\n",
    "\n",
    "from sklearn import preprocessing\n",
    "\n",
    "lb = preprocessing.LabelBinarizer()\n",
    "Y2 = lb.fit_transform(usy_rf)"
   ]
  },
  {
   "cell_type": "markdown",
   "id": "acc200d2",
   "metadata": {
    "hidden": true
   },
   "source": [
    "Under-sampled random forest model is generated below. It can also be unpickled instead from an already-pickled model "
   ]
  },
  {
   "cell_type": "code",
   "execution_count": 200,
   "id": "edd24446",
   "metadata": {
    "hidden": true
   },
   "outputs": [
    {
     "data": {
      "text/html": [
       "<style>#sk-container-id-36 {color: black;background-color: white;}#sk-container-id-36 pre{padding: 0;}#sk-container-id-36 div.sk-toggleable {background-color: white;}#sk-container-id-36 label.sk-toggleable__label {cursor: pointer;display: block;width: 100%;margin-bottom: 0;padding: 0.3em;box-sizing: border-box;text-align: center;}#sk-container-id-36 label.sk-toggleable__label-arrow:before {content: \"▸\";float: left;margin-right: 0.25em;color: #696969;}#sk-container-id-36 label.sk-toggleable__label-arrow:hover:before {color: black;}#sk-container-id-36 div.sk-estimator:hover label.sk-toggleable__label-arrow:before {color: black;}#sk-container-id-36 div.sk-toggleable__content {max-height: 0;max-width: 0;overflow: hidden;text-align: left;background-color: #f0f8ff;}#sk-container-id-36 div.sk-toggleable__content pre {margin: 0.2em;color: black;border-radius: 0.25em;background-color: #f0f8ff;}#sk-container-id-36 input.sk-toggleable__control:checked~div.sk-toggleable__content {max-height: 200px;max-width: 100%;overflow: auto;}#sk-container-id-36 input.sk-toggleable__control:checked~label.sk-toggleable__label-arrow:before {content: \"▾\";}#sk-container-id-36 div.sk-estimator input.sk-toggleable__control:checked~label.sk-toggleable__label {background-color: #d4ebff;}#sk-container-id-36 div.sk-label input.sk-toggleable__control:checked~label.sk-toggleable__label {background-color: #d4ebff;}#sk-container-id-36 input.sk-hidden--visually {border: 0;clip: rect(1px 1px 1px 1px);clip: rect(1px, 1px, 1px, 1px);height: 1px;margin: -1px;overflow: hidden;padding: 0;position: absolute;width: 1px;}#sk-container-id-36 div.sk-estimator {font-family: monospace;background-color: #f0f8ff;border: 1px dotted black;border-radius: 0.25em;box-sizing: border-box;margin-bottom: 0.5em;}#sk-container-id-36 div.sk-estimator:hover {background-color: #d4ebff;}#sk-container-id-36 div.sk-parallel-item::after {content: \"\";width: 100%;border-bottom: 1px solid gray;flex-grow: 1;}#sk-container-id-36 div.sk-label:hover label.sk-toggleable__label {background-color: #d4ebff;}#sk-container-id-36 div.sk-serial::before {content: \"\";position: absolute;border-left: 1px solid gray;box-sizing: border-box;top: 0;bottom: 0;left: 50%;z-index: 0;}#sk-container-id-36 div.sk-serial {display: flex;flex-direction: column;align-items: center;background-color: white;padding-right: 0.2em;padding-left: 0.2em;position: relative;}#sk-container-id-36 div.sk-item {position: relative;z-index: 1;}#sk-container-id-36 div.sk-parallel {display: flex;align-items: stretch;justify-content: center;background-color: white;position: relative;}#sk-container-id-36 div.sk-item::before, #sk-container-id-36 div.sk-parallel-item::before {content: \"\";position: absolute;border-left: 1px solid gray;box-sizing: border-box;top: 0;bottom: 0;left: 50%;z-index: -1;}#sk-container-id-36 div.sk-parallel-item {display: flex;flex-direction: column;z-index: 1;position: relative;background-color: white;}#sk-container-id-36 div.sk-parallel-item:first-child::after {align-self: flex-end;width: 50%;}#sk-container-id-36 div.sk-parallel-item:last-child::after {align-self: flex-start;width: 50%;}#sk-container-id-36 div.sk-parallel-item:only-child::after {width: 0;}#sk-container-id-36 div.sk-dashed-wrapped {border: 1px dashed gray;margin: 0 0.4em 0.5em 0.4em;box-sizing: border-box;padding-bottom: 0.4em;background-color: white;}#sk-container-id-36 div.sk-label label {font-family: monospace;font-weight: bold;display: inline-block;line-height: 1.2em;}#sk-container-id-36 div.sk-label-container {text-align: center;}#sk-container-id-36 div.sk-container {/* jupyter's `normalize.less` sets `[hidden] { display: none; }` but bootstrap.min.css set `[hidden] { display: none !important; }` so we also need the `!important` here to be able to override the default hidden behavior on the sphinx rendered scikit-learn.org. See: https://github.com/scikit-learn/scikit-learn/issues/21755 */display: inline-block !important;position: relative;}#sk-container-id-36 div.sk-text-repr-fallback {display: none;}</style><div id=\"sk-container-id-36\" class=\"sk-top-container\"><div class=\"sk-text-repr-fallback\"><pre>RandomForestClassifier(n_estimators=10, random_state=42)</pre><b>In a Jupyter environment, please rerun this cell to show the HTML representation or trust the notebook. <br />On GitHub, the HTML representation is unable to render, please try loading this page with nbviewer.org.</b></div><div class=\"sk-container\" hidden><div class=\"sk-item\"><div class=\"sk-estimator sk-toggleable\"><input class=\"sk-toggleable__control sk-hidden--visually\" id=\"sk-estimator-id-36\" type=\"checkbox\" checked><label for=\"sk-estimator-id-36\" class=\"sk-toggleable__label sk-toggleable__label-arrow\">RandomForestClassifier</label><div class=\"sk-toggleable__content\"><pre>RandomForestClassifier(n_estimators=10, random_state=42)</pre></div></div></div></div></div>"
      ],
      "text/plain": [
       "RandomForestClassifier(n_estimators=10, random_state=42)"
      ]
     },
     "execution_count": 200,
     "metadata": {},
     "output_type": "execute_result"
    }
   ],
   "source": [
    "rf_u = RandomForestClassifier(n_estimators = 10, random_state = 42)\n",
    "\n",
    "rf_u.fit(usx_rf, Y2.ravel())"
   ]
  },
  {
   "cell_type": "markdown",
   "id": "6992e95c",
   "metadata": {
    "hidden": true
   },
   "source": [
    "Undersamlped random forest model is pickled below"
   ]
  },
  {
   "cell_type": "code",
   "execution_count": 28,
   "id": "84a368ef",
   "metadata": {
    "hidden": true
   },
   "outputs": [],
   "source": [
    "import pickle\n",
    "\n",
    "filename = 'rf_u_model.sav'\n",
    "pickle.dump(rf_u, open(filename, 'wb'))"
   ]
  },
  {
   "cell_type": "code",
   "execution_count": 235,
   "id": "35f7675a",
   "metadata": {
    "hidden": true
   },
   "outputs": [],
   "source": [
    "#classification\n",
    "Y_predicted = rf_u.predict(X_test)\n",
    "\n",
    "y_original = lb.inverse_transform(Y_predicted)"
   ]
  },
  {
   "cell_type": "code",
   "execution_count": 236,
   "id": "8b72479f",
   "metadata": {
    "hidden": true
   },
   "outputs": [
    {
     "name": "stdout",
     "output_type": "stream",
     "text": [
      "              precision    recall  f1-score   support\n",
      "\n",
      "     DELAYED       0.34      0.71      0.46    401287\n",
      "      ONTIME       0.92      0.72      0.81   1988125\n",
      "\n",
      "    accuracy                           0.72   2389412\n",
      "   macro avg       0.63      0.71      0.63   2389412\n",
      "weighted avg       0.83      0.72      0.75   2389412\n",
      "\n"
     ]
    }
   ],
   "source": [
    "from sklearn.metrics import classification_report, confusion_matrix\n",
    "\n",
    "print(classification_report(Y_test, y_original))"
   ]
  },
  {
   "cell_type": "code",
   "execution_count": 237,
   "id": "800b2540",
   "metadata": {
    "hidden": true
   },
   "outputs": [
    {
     "name": "stdout",
     "output_type": "stream",
     "text": [
      "[[ 282981  118306]\n",
      " [ 554834 1433291]]\n"
     ]
    }
   ],
   "source": [
    "conf_matrix = confusion_matrix(Y_test, y_original)\n",
    "print(conf_matrix)"
   ]
  },
  {
   "cell_type": "code",
   "execution_count": 238,
   "id": "92fdbca7",
   "metadata": {
    "hidden": true
   },
   "outputs": [
    {
     "data": {
      "image/png": "[encoded data removed]",
      "text/plain": [
       "<Figure size 540x540 with 1 Axes>"
      ]
     },
     "metadata": {
      "needs_background": "light"
     },
     "output_type": "display_data"
    }
   ],
   "source": [
    "import matplotlib.pyplot as plt\n",
    "\n",
    "fig, ax = plt.subplots(figsize=(7.5, 7.5))\n",
    "ax.matshow(conf_matrix, cmap=plt.cm.Blues, alpha=0.3)\n",
    "\n",
    "for i in range(conf_matrix.shape[0]):\n",
    "    for j in range(conf_matrix.shape[1]):\n",
    "        ax.text(x=j, y=i,s=conf_matrix[i, j], va='center', ha='center', size='xx-large')\n",
    " \n",
    "plt.xlabel('Predictions', fontsize=18)\n",
    "plt.ylabel('Actuals', fontsize=18)\n",
    "tickvalues = [0, 1]\n",
    "plt.xticks(ticks = tickvalues ,labels = ['DELAYED', 'ONTIME'], rotation = 'horizontal')\n",
    "plt.yticks(ticks = tickvalues ,labels = ['DELAYED', 'ONTIME'], rotation = 'horizontal')\n",
    "plt.title('Confusion Matrix', fontsize=18)\n",
    "plt.show()"
   ]
  },
  {
   "cell_type": "markdown",
   "id": "f26f6aaa",
   "metadata": {
    "heading_collapsed": true
   },
   "source": [
    "### 2.1.6 Random Forest-Synthetic Data Augmentation"
   ]
  },
  {
   "cell_type": "code",
   "execution_count": 99,
   "id": "a477c782",
   "metadata": {
    "hidden": true
   },
   "outputs": [],
   "source": [
    "from imblearn.over_sampling import SMOTE\n",
    "\n",
    "smote = SMOTE(sampling_strategy='auto', random_state=0)\n",
    "smox_rf, smoy_rf = smote.fit_resample(X_train, Y_train)"
   ]
  },
  {
   "cell_type": "markdown",
   "id": "421401db",
   "metadata": {
    "hidden": true
   },
   "source": [
    "Saving the synthetically augmented data for later use"
   ]
  },
  {
   "cell_type": "code",
   "execution_count": 100,
   "id": "9de715b9",
   "metadata": {
    "hidden": true
   },
   "outputs": [],
   "source": [
    "import numpy as np\n",
    "np.save(\"smox_rf\", smox_rf)\n",
    "np.save(\"smoy_rf\", smoy_rf)"
   ]
  },
  {
   "cell_type": "markdown",
   "id": "85f05896",
   "metadata": {
    "hidden": true
   },
   "source": [
    "model is generated and fitted below. Alternativel you can unpickle the trained model"
   ]
  },
  {
   "cell_type": "code",
   "execution_count": 102,
   "id": "9010f3f7",
   "metadata": {
    "hidden": true
   },
   "outputs": [],
   "source": [
    "from sklearn.ensemble import RandomForestClassifier\n",
    "\n",
    "from sklearn import preprocessing\n",
    "\n",
    "lb = preprocessing.LabelBinarizer()\n",
    "Y2 = lb.fit_transform(smoy_rf)"
   ]
  },
  {
   "cell_type": "code",
   "execution_count": 35,
   "id": "5c338f30",
   "metadata": {
    "hidden": true,
    "scrolled": false
   },
   "outputs": [
    {
     "data": {
      "text/html": [
       "<style>#sk-container-id-3 {color: black;background-color: white;}#sk-container-id-3 pre{padding: 0;}#sk-container-id-3 div.sk-toggleable {background-color: white;}#sk-container-id-3 label.sk-toggleable__label {cursor: pointer;display: block;width: 100%;margin-bottom: 0;padding: 0.3em;box-sizing: border-box;text-align: center;}#sk-container-id-3 label.sk-toggleable__label-arrow:before {content: \"▸\";float: left;margin-right: 0.25em;color: #696969;}#sk-container-id-3 label.sk-toggleable__label-arrow:hover:before {color: black;}#sk-container-id-3 div.sk-estimator:hover label.sk-toggleable__label-arrow:before {color: black;}#sk-container-id-3 div.sk-toggleable__content {max-height: 0;max-width: 0;overflow: hidden;text-align: left;background-color: #f0f8ff;}#sk-container-id-3 div.sk-toggleable__content pre {margin: 0.2em;color: black;border-radius: 0.25em;background-color: #f0f8ff;}#sk-container-id-3 input.sk-toggleable__control:checked~div.sk-toggleable__content {max-height: 200px;max-width: 100%;overflow: auto;}#sk-container-id-3 input.sk-toggleable__control:checked~label.sk-toggleable__label-arrow:before {content: \"▾\";}#sk-container-id-3 div.sk-estimator input.sk-toggleable__control:checked~label.sk-toggleable__label {background-color: #d4ebff;}#sk-container-id-3 div.sk-label input.sk-toggleable__control:checked~label.sk-toggleable__label {background-color: #d4ebff;}#sk-container-id-3 input.sk-hidden--visually {border: 0;clip: rect(1px 1px 1px 1px);clip: rect(1px, 1px, 1px, 1px);height: 1px;margin: -1px;overflow: hidden;padding: 0;position: absolute;width: 1px;}#sk-container-id-3 div.sk-estimator {font-family: monospace;background-color: #f0f8ff;border: 1px dotted black;border-radius: 0.25em;box-sizing: border-box;margin-bottom: 0.5em;}#sk-container-id-3 div.sk-estimator:hover {background-color: #d4ebff;}#sk-container-id-3 div.sk-parallel-item::after {content: \"\";width: 100%;border-bottom: 1px solid gray;flex-grow: 1;}#sk-container-id-3 div.sk-label:hover label.sk-toggleable__label {background-color: #d4ebff;}#sk-container-id-3 div.sk-serial::before {content: \"\";position: absolute;border-left: 1px solid gray;box-sizing: border-box;top: 0;bottom: 0;left: 50%;z-index: 0;}#sk-container-id-3 div.sk-serial {display: flex;flex-direction: column;align-items: center;background-color: white;padding-right: 0.2em;padding-left: 0.2em;position: relative;}#sk-container-id-3 div.sk-item {position: relative;z-index: 1;}#sk-container-id-3 div.sk-parallel {display: flex;align-items: stretch;justify-content: center;background-color: white;position: relative;}#sk-container-id-3 div.sk-item::before, #sk-container-id-3 div.sk-parallel-item::before {content: \"\";position: absolute;border-left: 1px solid gray;box-sizing: border-box;top: 0;bottom: 0;left: 50%;z-index: -1;}#sk-container-id-3 div.sk-parallel-item {display: flex;flex-direction: column;z-index: 1;position: relative;background-color: white;}#sk-container-id-3 div.sk-parallel-item:first-child::after {align-self: flex-end;width: 50%;}#sk-container-id-3 div.sk-parallel-item:last-child::after {align-self: flex-start;width: 50%;}#sk-container-id-3 div.sk-parallel-item:only-child::after {width: 0;}#sk-container-id-3 div.sk-dashed-wrapped {border: 1px dashed gray;margin: 0 0.4em 0.5em 0.4em;box-sizing: border-box;padding-bottom: 0.4em;background-color: white;}#sk-container-id-3 div.sk-label label {font-family: monospace;font-weight: bold;display: inline-block;line-height: 1.2em;}#sk-container-id-3 div.sk-label-container {text-align: center;}#sk-container-id-3 div.sk-container {/* jupyter's `normalize.less` sets `[hidden] { display: none; }` but bootstrap.min.css set `[hidden] { display: none !important; }` so we also need the `!important` here to be able to override the default hidden behavior on the sphinx rendered scikit-learn.org. See: https://github.com/scikit-learn/scikit-learn/issues/21755 */display: inline-block !important;position: relative;}#sk-container-id-3 div.sk-text-repr-fallback {display: none;}</style><div id=\"sk-container-id-3\" class=\"sk-top-container\"><div class=\"sk-text-repr-fallback\"><pre>RandomForestClassifier(n_estimators=10, random_state=42)</pre><b>In a Jupyter environment, please rerun this cell to show the HTML representation or trust the notebook. <br />On GitHub, the HTML representation is unable to render, please try loading this page with nbviewer.org.</b></div><div class=\"sk-container\" hidden><div class=\"sk-item\"><div class=\"sk-estimator sk-toggleable\"><input class=\"sk-toggleable__control sk-hidden--visually\" id=\"sk-estimator-id-3\" type=\"checkbox\" checked><label for=\"sk-estimator-id-3\" class=\"sk-toggleable__label sk-toggleable__label-arrow\">RandomForestClassifier</label><div class=\"sk-toggleable__content\"><pre>RandomForestClassifier(n_estimators=10, random_state=42)</pre></div></div></div></div></div>"
      ],
      "text/plain": [
       "RandomForestClassifier(n_estimators=10, random_state=42)"
      ]
     },
     "execution_count": 35,
     "metadata": {},
     "output_type": "execute_result"
    }
   ],
   "source": [
    "rf_sda = RandomForestClassifier(n_estimators = 10, random_state = 42)\n",
    "rf_sda.fit(smox_rf, Y2.ravel())"
   ]
  },
  {
   "cell_type": "markdown",
   "id": "b121dafa",
   "metadata": {
    "hidden": true
   },
   "source": [
    "trained model is pickled below"
   ]
  },
  {
   "cell_type": "code",
   "execution_count": 103,
   "id": "5dbffc3b",
   "metadata": {
    "hidden": true
   },
   "outputs": [],
   "source": [
    "import pickle\n",
    "\n",
    "filename = 'rf_sda.sav'\n",
    "pickle.dump(rf_sda, open(filename, 'wb'))"
   ]
  },
  {
   "cell_type": "code",
   "execution_count": 239,
   "id": "85692cbc",
   "metadata": {
    "hidden": true
   },
   "outputs": [],
   "source": [
    "#classification\n",
    "Y_predicted = rf_sda.predict(X_test)\n",
    "\n",
    "y_original = lb.inverse_transform(Y_predicted)"
   ]
  },
  {
   "cell_type": "code",
   "execution_count": 240,
   "id": "0125e353",
   "metadata": {
    "hidden": true
   },
   "outputs": [
    {
     "name": "stdout",
     "output_type": "stream",
     "text": [
      "              precision    recall  f1-score   support\n",
      "\n",
      "     DELAYED       0.44      0.55      0.49    401287\n",
      "      ONTIME       0.90      0.86      0.88   1988125\n",
      "\n",
      "    accuracy                           0.81   2389412\n",
      "   macro avg       0.67      0.71      0.69   2389412\n",
      "weighted avg       0.83      0.81      0.82   2389412\n",
      "\n"
     ]
    }
   ],
   "source": [
    "from sklearn.metrics import classification_report, confusion_matrix\n",
    "\n",
    "print(classification_report(Y_test, y_original))"
   ]
  },
  {
   "cell_type": "code",
   "execution_count": 242,
   "id": "cd6dcef5",
   "metadata": {
    "hidden": true
   },
   "outputs": [
    {
     "name": "stdout",
     "output_type": "stream",
     "text": [
      "[[ 221757  179530]\n",
      " [ 277890 1710235]]\n"
     ]
    }
   ],
   "source": [
    "conf_matrix = confusion_matrix(Y_test, y_original)\n",
    "print(conf_matrix)"
   ]
  },
  {
   "cell_type": "code",
   "execution_count": 243,
   "id": "a098c308",
   "metadata": {
    "hidden": true
   },
   "outputs": [
    {
     "data": {
      "image/png": "[encoded data removed]",
      "text/plain": [
       "<Figure size 540x540 with 1 Axes>"
      ]
     },
     "metadata": {
      "needs_background": "light"
     },
     "output_type": "display_data"
    }
   ],
   "source": [
    "import matplotlib.pyplot as plt\n",
    "\n",
    "fig, ax = plt.subplots(figsize=(7.5, 7.5))\n",
    "ax.matshow(conf_matrix, cmap=plt.cm.Blues, alpha=0.3)\n",
    "\n",
    "for i in range(conf_matrix.shape[0]):\n",
    "    for j in range(conf_matrix.shape[1]):\n",
    "        ax.text(x=j, y=i,s=conf_matrix[i, j], va='center', ha='center', size='xx-large')\n",
    " \n",
    "plt.xlabel('Predictions', fontsize=18)\n",
    "plt.ylabel('Actuals', fontsize=18)\n",
    "tickvalues = [0, 1]\n",
    "plt.xticks(ticks = tickvalues ,labels = ['DELAYED', 'ONTIME'], rotation = 'horizontal')\n",
    "plt.yticks(ticks = tickvalues ,labels = ['DELAYED', 'ONTIME'], rotation = 'horizontal')\n",
    "plt.title('Confusion Matrix', fontsize=18)\n",
    "plt.show()"
   ]
  },
  {
   "cell_type": "markdown",
   "id": "986eb08f",
   "metadata": {},
   "source": [
    "## 2.2 AUC and ROC"
   ]
  },
  {
   "cell_type": "markdown",
   "id": "2971fcbc",
   "metadata": {},
   "source": [
    "In the code below, the <code>y_pred_proba</code> produces two floats for each flight. <br>\n",
    "> The <u>first</u> one is the probability of the flight being <b>delayed</b> <br>\n",
    "> and the <u>second</u> one is the likeklihood of flgiht being <b>ontime</b>"
   ]
  },
  {
   "cell_type": "markdown",
   "id": "5f9a06fa",
   "metadata": {},
   "source": [
    "make sure all 6 trained models are un-pickled and loaded"
   ]
  },
  {
   "cell_type": "code",
   "execution_count": 244,
   "id": "51fc3573",
   "metadata": {
    "scrolled": true
   },
   "outputs": [
    {
     "name": "stdout",
     "output_type": "stream",
     "text": [
      "naive model\t\t 0.7042952687530448\n",
      "naive model us\t\t 0.7039431193254221\n",
      "naive model sda\t\t 0.7048063201258564\n",
      "random forest\t\t 0.802009601904677\n",
      "random forest us\t\t 0.7836858114837579\n",
      "random forest sda\t\t 0.7921834587030753\n"
     ]
    }
   ],
   "source": [
    "from sklearn import metrics \n",
    "\n",
    "models = [(\"naive model\", naive_model),\n",
    "          (\"naive model us\", naive_model_us),          \n",
    "          (\"naive model sda\", naive_model_sda), \n",
    "          (\"random forest\", rf), \n",
    "          (\"random forest us\", rf_u), \n",
    "          (\"random forest sda\", rf_sda)]\n",
    "\n",
    "for model in models:\n",
    "    y_pred_proba = model[1].predict_proba(X_test)[:,1]\n",
    "    auc = metrics.roc_auc_score(Y_test, y_pred_proba)\n",
    "    print (f\"{model[0]}\\t\\t {auc}\")\n"
   ]
  },
  {
   "cell_type": "markdown",
   "id": "1a8bb031",
   "metadata": {},
   "source": [
    "According to the numbers seen above, <b>random forest</b> model is performing better than other alternative "
   ]
  },
  {
   "cell_type": "markdown",
   "id": "479e8272",
   "metadata": {},
   "source": [
    "<b>ROC</b> curve plotted below for the best classification model that we have: Random Forest"
   ]
  },
  {
   "cell_type": "code",
   "execution_count": 24,
   "id": "77f4cd38",
   "metadata": {
    "scrolled": true
   },
   "outputs": [
    {
     "data": {
      "image/png": "[encoded data removed]",
      "text/plain": [
       "<Figure size 432x288 with 1 Axes>"
      ]
     },
     "metadata": {
      "needs_background": "light"
     },
     "output_type": "display_data"
    }
   ],
   "source": [
    "from sklearn.metrics import roc_curve\n",
    "from matplotlib import pyplot\n",
    "\n",
    "yhat = rf.predict_proba(X_test)\n",
    "\n",
    "yhat = yhat[:, 1]\n",
    "\n",
    "Y_test2 = Y_test.map({'ONTIME': 1, 'DELAYED': 0}).astype(int)\n",
    "\n",
    "fpr, tpr, thresholds = roc_curve(Y_test2, yhat)\n",
    "\n",
    "pyplot.plot([0,1], [0,1], linestyle='--', label='No Skill')\n",
    "pyplot.plot(fpr, tpr, marker='.', label='Random Forest')\n",
    "# axis labels\n",
    "pyplot.xlabel('False Positive Rate')\n",
    "pyplot.ylabel('True Positive Rate')\n",
    "pyplot.legend()\n",
    "# show the plot\n",
    "pyplot.show()"
   ]
  },
  {
   "cell_type": "markdown",
   "id": "d603af49",
   "metadata": {},
   "source": [
    "## 2.3 Cost Function"
   ]
  },
  {
   "cell_type": "markdown",
   "id": "31bddf41",
   "metadata": {},
   "source": [
    "For the sake of this project we assume that the cost of incorrectly predicting an ontime flight is <b><u>3 times</u></b> the cost of incorrectly predicting a delayed flight <br> The reasoning behind this argument is that in the case of the former, the user of this tool will miss the flight as opposed to the other way around when the passanger arrives early to the airport assuming the flight in ontime whereas it was indeed delayed"
   ]
  },
  {
   "attachments": {
    "picture1-2.PNG": {
     "image/png": "[encoded data removed]"
    }
   },
   "cell_type": "markdown",
   "id": "81989778",
   "metadata": {},
   "source": [
    "![picture1-2.PNG](attachment:picture1-2.PNG)"
   ]
  },
  {
   "cell_type": "markdown",
   "id": "50b6156b",
   "metadata": {},
   "source": [
    "\n",
    "Cost Function = 3FN + FP\n",
    "\n",
    "\n",
    "FN = FNR * (FN + TP) = FNR * actual number of ontime flights <br>\n",
    "FP = FPR * (TN + FP) = FPR * actual number of delayed flights"
   ]
  },
  {
   "cell_type": "code",
   "execution_count": 25,
   "id": "38623dcd",
   "metadata": {},
   "outputs": [],
   "source": [
    "# delyed flights\n",
    "\n",
    "delayed_counts_test = sum(Y_test.map({'ONTIME': 0, 'DELAYED': 1}).astype(int))\n",
    "ontime_counts_test = sum(Y_test.map({'ONTIME': 1, 'DELAYED': 0}).astype(int))"
   ]
  },
  {
   "cell_type": "code",
   "execution_count": 26,
   "id": "f4cdf955",
   "metadata": {},
   "outputs": [
    {
     "name": "stdout",
     "output_type": "stream",
     "text": [
      "Best Threshold for random forest model=0.200357\n"
     ]
    }
   ],
   "source": [
    "fnr = 1-tpr\n",
    "fn = fnr*ontime_counts_test\n",
    "\n",
    "fp = fpr*delayed_counts_test\n",
    "\n",
    "cost_func = 3*fn + fp\n",
    "\n",
    "# locate the index of the largest g-mean\n",
    "ix = np.argmin(cost_func)\n",
    "print('Best Threshold for random forest model=%f' % thresholds[ix])"
   ]
  },
  {
   "cell_type": "markdown",
   "id": "7382c7ea",
   "metadata": {},
   "source": [
    "## 2.4 Linear Regression"
   ]
  },
  {
   "cell_type": "markdown",
   "id": "0424d6ef",
   "metadata": {},
   "source": [
    "if <code>X_train</code> and <code>Y_train</code> are already loaded, then please skip the cells below and proceed to training the model"
   ]
  },
  {
   "cell_type": "code",
   "execution_count": 108,
   "id": "3ce4c7a2",
   "metadata": {},
   "outputs": [],
   "source": [
    "from sklearn.preprocessing import OneHotEncoder\n",
    "ohe = OneHotEncoder()\n",
    "X = ohe.fit_transform(big_df[predictors])\n",
    "Y = big_df['DEP_DELAY']"
   ]
  },
  {
   "cell_type": "code",
   "execution_count": 109,
   "id": "b41606e0",
   "metadata": {},
   "outputs": [],
   "source": [
    "from sklearn.model_selection import train_test_split\n",
    "\n",
    "X_train, Xy_test, Y_train, Y_test = train_test_split(X, Y, test_size=0.4, random_state=1)"
   ]
  },
  {
   "cell_type": "markdown",
   "id": "9ffc7332",
   "metadata": {},
   "source": [
    "model is trained below, alternatively you can unpickle the pickled model"
   ]
  },
  {
   "cell_type": "code",
   "execution_count": 111,
   "id": "d96280ab",
   "metadata": {},
   "outputs": [
    {
     "data": {
      "text/html": [
       "<style>#sk-container-id-4 {color: black;background-color: white;}#sk-container-id-4 pre{padding: 0;}#sk-container-id-4 div.sk-toggleable {background-color: white;}#sk-container-id-4 label.sk-toggleable__label {cursor: pointer;display: block;width: 100%;margin-bottom: 0;padding: 0.3em;box-sizing: border-box;text-align: center;}#sk-container-id-4 label.sk-toggleable__label-arrow:before {content: \"▸\";float: left;margin-right: 0.25em;color: #696969;}#sk-container-id-4 label.sk-toggleable__label-arrow:hover:before {color: black;}#sk-container-id-4 div.sk-estimator:hover label.sk-toggleable__label-arrow:before {color: black;}#sk-container-id-4 div.sk-toggleable__content {max-height: 0;max-width: 0;overflow: hidden;text-align: left;background-color: #f0f8ff;}#sk-container-id-4 div.sk-toggleable__content pre {margin: 0.2em;color: black;border-radius: 0.25em;background-color: #f0f8ff;}#sk-container-id-4 input.sk-toggleable__control:checked~div.sk-toggleable__content {max-height: 200px;max-width: 100%;overflow: auto;}#sk-container-id-4 input.sk-toggleable__control:checked~label.sk-toggleable__label-arrow:before {content: \"▾\";}#sk-container-id-4 div.sk-estimator input.sk-toggleable__control:checked~label.sk-toggleable__label {background-color: #d4ebff;}#sk-container-id-4 div.sk-label input.sk-toggleable__control:checked~label.sk-toggleable__label {background-color: #d4ebff;}#sk-container-id-4 input.sk-hidden--visually {border: 0;clip: rect(1px 1px 1px 1px);clip: rect(1px, 1px, 1px, 1px);height: 1px;margin: -1px;overflow: hidden;padding: 0;position: absolute;width: 1px;}#sk-container-id-4 div.sk-estimator {font-family: monospace;background-color: #f0f8ff;border: 1px dotted black;border-radius: 0.25em;box-sizing: border-box;margin-bottom: 0.5em;}#sk-container-id-4 div.sk-estimator:hover {background-color: #d4ebff;}#sk-container-id-4 div.sk-parallel-item::after {content: \"\";width: 100%;border-bottom: 1px solid gray;flex-grow: 1;}#sk-container-id-4 div.sk-label:hover label.sk-toggleable__label {background-color: #d4ebff;}#sk-container-id-4 div.sk-serial::before {content: \"\";position: absolute;border-left: 1px solid gray;box-sizing: border-box;top: 0;bottom: 0;left: 50%;z-index: 0;}#sk-container-id-4 div.sk-serial {display: flex;flex-direction: column;align-items: center;background-color: white;padding-right: 0.2em;padding-left: 0.2em;position: relative;}#sk-container-id-4 div.sk-item {position: relative;z-index: 1;}#sk-container-id-4 div.sk-parallel {display: flex;align-items: stretch;justify-content: center;background-color: white;position: relative;}#sk-container-id-4 div.sk-item::before, #sk-container-id-4 div.sk-parallel-item::before {content: \"\";position: absolute;border-left: 1px solid gray;box-sizing: border-box;top: 0;bottom: 0;left: 50%;z-index: -1;}#sk-container-id-4 div.sk-parallel-item {display: flex;flex-direction: column;z-index: 1;position: relative;background-color: white;}#sk-container-id-4 div.sk-parallel-item:first-child::after {align-self: flex-end;width: 50%;}#sk-container-id-4 div.sk-parallel-item:last-child::after {align-self: flex-start;width: 50%;}#sk-container-id-4 div.sk-parallel-item:only-child::after {width: 0;}#sk-container-id-4 div.sk-dashed-wrapped {border: 1px dashed gray;margin: 0 0.4em 0.5em 0.4em;box-sizing: border-box;padding-bottom: 0.4em;background-color: white;}#sk-container-id-4 div.sk-label label {font-family: monospace;font-weight: bold;display: inline-block;line-height: 1.2em;}#sk-container-id-4 div.sk-label-container {text-align: center;}#sk-container-id-4 div.sk-container {/* jupyter's `normalize.less` sets `[hidden] { display: none; }` but bootstrap.min.css set `[hidden] { display: none !important; }` so we also need the `!important` here to be able to override the default hidden behavior on the sphinx rendered scikit-learn.org. See: https://github.com/scikit-learn/scikit-learn/issues/21755 */display: inline-block !important;position: relative;}#sk-container-id-4 div.sk-text-repr-fallback {display: none;}</style><div id=\"sk-container-id-4\" class=\"sk-top-container\"><div class=\"sk-text-repr-fallback\"><pre>LinearRegression()</pre><b>In a Jupyter environment, please rerun this cell to show the HTML representation or trust the notebook. <br />On GitHub, the HTML representation is unable to render, please try loading this page with nbviewer.org.</b></div><div class=\"sk-container\" hidden><div class=\"sk-item\"><div class=\"sk-estimator sk-toggleable\"><input class=\"sk-toggleable__control sk-hidden--visually\" id=\"sk-estimator-id-4\" type=\"checkbox\" checked><label for=\"sk-estimator-id-4\" class=\"sk-toggleable__label sk-toggleable__label-arrow\">LinearRegression</label><div class=\"sk-toggleable__content\"><pre>LinearRegression()</pre></div></div></div></div></div>"
      ],
      "text/plain": [
       "LinearRegression()"
      ]
     },
     "execution_count": 111,
     "metadata": {},
     "output_type": "execute_result"
    }
   ],
   "source": [
    "from sklearn.linear_model import LinearRegression\n",
    "\n",
    "lr=LinearRegression()\n",
    "lr.fit(X_train, Y_train)"
   ]
  },
  {
   "cell_type": "markdown",
   "id": "612a8753",
   "metadata": {},
   "source": [
    "pickling the trained model"
   ]
  },
  {
   "cell_type": "code",
   "execution_count": 24,
   "id": "707cd382",
   "metadata": {},
   "outputs": [],
   "source": [
    "import pickle\n",
    "\n",
    "filename = 'lr_model.sav'\n",
    "pickle.dump(lr, open(filename, 'wb'))"
   ]
  },
  {
   "cell_type": "code",
   "execution_count": 112,
   "id": "d2cb845c",
   "metadata": {},
   "outputs": [
    {
     "name": "stdout",
     "output_type": "stream",
     "text": [
      "\n",
      "Regression statistics\n",
      "\n",
      "               Mean Error (ME) : 0.0000\n",
      "Root Mean Squared Error (RMSE) : 31.4989\n",
      "     Mean Absolute Error (MAE) : 16.1679\n",
      "\n",
      "Regression statistics\n",
      "\n",
      "               Mean Error (ME) : -0.0319\n",
      "Root Mean Squared Error (RMSE) : 31.3140\n",
      "     Mean Absolute Error (MAE) : 16.1393\n"
     ]
    }
   ],
   "source": [
    "from dmba import regressionSummary\n",
    "\n",
    "regressionSummary(Y_train, lr.predict(X_train))\n",
    "regressionSummary(Y_test, lr.predict(X_test))"
   ]
  },
  {
   "cell_type": "markdown",
   "id": "7a9f0d9d",
   "metadata": {},
   "source": [
    "# 3. Predicting Flight Delay Probability"
   ]
  },
  {
   "cell_type": "markdown",
   "id": "36763cab",
   "metadata": {},
   "source": [
    "## 3.1 Selecting the model"
   ]
  },
  {
   "cell_type": "markdown",
   "id": "7cb7faba",
   "metadata": {},
   "source": [
    "Select one of the trained model above from the dropdown menu below to perform the probability calculation (<u>make sure to unpickle all of the pickled trained models before executing this cell</u>)"
   ]
  },
  {
   "cell_type": "code",
   "execution_count": 14,
   "id": "adbb204b",
   "metadata": {
    "scrolled": true
   },
   "outputs": [
    {
     "data": {
      "application/vnd.jupyter.widget-view+json": {
       "model_id": "337d856fbdd4414795c688de99cc70f6",
       "version_major": 2,
       "version_minor": 0
      },
      "text/plain": [
       "interactive(children=(Dropdown(description='model', options=(('naive', MultinomialNB(alpha=0.01)), ('naive und…"
      ]
     },
     "metadata": {},
     "output_type": "display_data"
    },
    {
     "data": {
      "text/plain": [
       "<function __main__.f(model)>"
      ]
     },
     "execution_count": 14,
     "metadata": {},
     "output_type": "execute_result"
    }
   ],
   "source": [
    "from ipywidgets import *\n",
    "\n",
    "model = Dropdown(options = [('naive' ,naive_model), \n",
    "                     ('naive undersampled' ,naive_model_us), \n",
    "                     ('naive sda' ,naive_model_sda), \n",
    "                     ('random forest', rf), \n",
    "                     ('random forest undersampled',rf_u), \n",
    "                     ('random forest sda',rf_sda)])\n",
    "\n",
    "def f(model):    \n",
    "    return model\n",
    "\n",
    "interact(f, model = model) "
   ]
  },
  {
   "cell_type": "markdown",
   "id": "d25e64ad",
   "metadata": {},
   "source": [
    "## 2.2 Probablity on the entire data set"
   ]
  },
  {
   "cell_type": "markdown",
   "id": "d5abc840",
   "metadata": {},
   "source": [
    "The following produces probability of delay prediction on the entire dataset and the amount of delay<br>\n",
    "    make sure the <b>linear regression</b> model is unpickled here before being applied"
   ]
  },
  {
   "cell_type": "code",
   "execution_count": 15,
   "id": "ffd1cc66",
   "metadata": {},
   "outputs": [],
   "source": [
    "predProb_all = model.value.predict_proba(X)\n",
    "\n",
    "import pickle\n",
    "\n",
    "filename = 'lr_model.sav'\n",
    "lr = pickle.load(open(filename, 'rb'))\n",
    "delay_amount_prediction = lr.predict(X)"
   ]
  },
  {
   "cell_type": "markdown",
   "id": "7855ca21",
   "metadata": {},
   "source": [
    "The best threshold we obtained in section 2.3 is used below to make prediction on the entire dataset"
   ]
  },
  {
   "cell_type": "code",
   "execution_count": 27,
   "id": "95f25940",
   "metadata": {},
   "outputs": [],
   "source": [
    "Y = big_df['STATUS'].astype('category')\n",
    "status_prediction = [0 if a[1] < thresholds[ix] else 1 for a in  model.value.predict_proba(X)]\n",
    "\n",
    "df1 = pd.DataFrame({'actual': Y, 'prediction':status_prediction})\n",
    "df2 = pd.DataFrame(predProb_all, index=Y.index)\n",
    "df3 = pd.DataFrame({'dep delay(min)': delay_amount_prediction}, index=Y.index)\n",
    "\n",
    "df = pd.concat([big_df[predictors], df1, df2, df3], axis=1)"
   ]
  },
  {
   "cell_type": "code",
   "execution_count": 28,
   "id": "94e73af9",
   "metadata": {
    "scrolled": true
   },
   "outputs": [
    {
     "data": {
      "text/html": [
       "<div>\n",
       "<style scoped>\n",
       "    .dataframe tbody tr th:only-of-type {\n",
       "        vertical-align: middle;\n",
       "    }\n",
       "\n",
       "    .dataframe tbody tr th {\n",
       "        vertical-align: top;\n",
       "    }\n",
       "\n",
       "    .dataframe thead th {\n",
       "        text-align: right;\n",
       "    }\n",
       "</style>\n",
       "<table border=\"1\" class=\"dataframe\">\n",
       "  <thead>\n",
       "    <tr style=\"text-align: right;\">\n",
       "      <th></th>\n",
       "      <th>DAY_OF_WEEK</th>\n",
       "      <th>DEP_TIME</th>\n",
       "      <th>ORIGIN</th>\n",
       "      <th>DEST</th>\n",
       "      <th>OP_UNIQUE_CARRIER</th>\n",
       "      <th>actual</th>\n",
       "      <th>prediction</th>\n",
       "      <th>0</th>\n",
       "      <th>1</th>\n",
       "      <th>dep delay(min)</th>\n",
       "    </tr>\n",
       "  </thead>\n",
       "  <tbody>\n",
       "    <tr>\n",
       "      <th>0</th>\n",
       "      <td>7</td>\n",
       "      <td>15</td>\n",
       "      <td>DFW</td>\n",
       "      <td>TUL</td>\n",
       "      <td>AA</td>\n",
       "      <td>ONTIME</td>\n",
       "      <td>1</td>\n",
       "      <td>0.000000</td>\n",
       "      <td>1.000000</td>\n",
       "      <td>7.893317</td>\n",
       "    </tr>\n",
       "    <tr>\n",
       "      <th>1</th>\n",
       "      <td>1</td>\n",
       "      <td>15</td>\n",
       "      <td>DFW</td>\n",
       "      <td>TUL</td>\n",
       "      <td>AA</td>\n",
       "      <td>DELAYED</td>\n",
       "      <td>1</td>\n",
       "      <td>0.045054</td>\n",
       "      <td>0.954946</td>\n",
       "      <td>9.665640</td>\n",
       "    </tr>\n",
       "    <tr>\n",
       "      <th>2</th>\n",
       "      <td>2</td>\n",
       "      <td>15</td>\n",
       "      <td>DFW</td>\n",
       "      <td>TUL</td>\n",
       "      <td>AA</td>\n",
       "      <td>ONTIME</td>\n",
       "      <td>1</td>\n",
       "      <td>0.105685</td>\n",
       "      <td>0.894315</td>\n",
       "      <td>8.178922</td>\n",
       "    </tr>\n",
       "    <tr>\n",
       "      <th>3</th>\n",
       "      <td>3</td>\n",
       "      <td>15</td>\n",
       "      <td>DFW</td>\n",
       "      <td>TUL</td>\n",
       "      <td>AA</td>\n",
       "      <td>ONTIME</td>\n",
       "      <td>1</td>\n",
       "      <td>0.051124</td>\n",
       "      <td>0.948876</td>\n",
       "      <td>8.294307</td>\n",
       "    </tr>\n",
       "    <tr>\n",
       "      <th>4</th>\n",
       "      <td>4</td>\n",
       "      <td>15</td>\n",
       "      <td>DFW</td>\n",
       "      <td>TUL</td>\n",
       "      <td>AA</td>\n",
       "      <td>ONTIME</td>\n",
       "      <td>1</td>\n",
       "      <td>0.041095</td>\n",
       "      <td>0.958905</td>\n",
       "      <td>10.606389</td>\n",
       "    </tr>\n",
       "    <tr>\n",
       "      <th>...</th>\n",
       "      <td>...</td>\n",
       "      <td>...</td>\n",
       "      <td>...</td>\n",
       "      <td>...</td>\n",
       "      <td>...</td>\n",
       "      <td>...</td>\n",
       "      <td>...</td>\n",
       "      <td>...</td>\n",
       "      <td>...</td>\n",
       "      <td>...</td>\n",
       "    </tr>\n",
       "    <tr>\n",
       "      <th>6085276</th>\n",
       "      <td>4</td>\n",
       "      <td>11</td>\n",
       "      <td>DEN</td>\n",
       "      <td>GJT</td>\n",
       "      <td>XE</td>\n",
       "      <td>ONTIME</td>\n",
       "      <td>1</td>\n",
       "      <td>0.000000</td>\n",
       "      <td>1.000000</td>\n",
       "      <td>5.449885</td>\n",
       "    </tr>\n",
       "    <tr>\n",
       "      <th>6085277</th>\n",
       "      <td>5</td>\n",
       "      <td>11</td>\n",
       "      <td>DEN</td>\n",
       "      <td>GJT</td>\n",
       "      <td>XE</td>\n",
       "      <td>ONTIME</td>\n",
       "      <td>1</td>\n",
       "      <td>0.000000</td>\n",
       "      <td>1.000000</td>\n",
       "      <td>4.654993</td>\n",
       "    </tr>\n",
       "    <tr>\n",
       "      <th>6085278</th>\n",
       "      <td>6</td>\n",
       "      <td>11</td>\n",
       "      <td>DEN</td>\n",
       "      <td>GJT</td>\n",
       "      <td>XE</td>\n",
       "      <td>ONTIME</td>\n",
       "      <td>1</td>\n",
       "      <td>0.241313</td>\n",
       "      <td>0.758687</td>\n",
       "      <td>2.906883</td>\n",
       "    </tr>\n",
       "    <tr>\n",
       "      <th>6085279</th>\n",
       "      <td>1</td>\n",
       "      <td>11</td>\n",
       "      <td>DEN</td>\n",
       "      <td>GJT</td>\n",
       "      <td>XE</td>\n",
       "      <td>ONTIME</td>\n",
       "      <td>1</td>\n",
       "      <td>0.000000</td>\n",
       "      <td>1.000000</td>\n",
       "      <td>4.509136</td>\n",
       "    </tr>\n",
       "    <tr>\n",
       "      <th>6085280</th>\n",
       "      <td>7</td>\n",
       "      <td>11</td>\n",
       "      <td>DEN</td>\n",
       "      <td>GJT</td>\n",
       "      <td>XE</td>\n",
       "      <td>ONTIME</td>\n",
       "      <td>1</td>\n",
       "      <td>0.000000</td>\n",
       "      <td>1.000000</td>\n",
       "      <td>2.736813</td>\n",
       "    </tr>\n",
       "  </tbody>\n",
       "</table>\n",
       "<p>5973529 rows × 10 columns</p>\n",
       "</div>"
      ],
      "text/plain": [
       "        DAY_OF_WEEK DEP_TIME ORIGIN DEST OP_UNIQUE_CARRIER   actual  \\\n",
       "0                 7       15    DFW  TUL                AA   ONTIME   \n",
       "1                 1       15    DFW  TUL                AA  DELAYED   \n",
       "2                 2       15    DFW  TUL                AA   ONTIME   \n",
       "3                 3       15    DFW  TUL                AA   ONTIME   \n",
       "4                 4       15    DFW  TUL                AA   ONTIME   \n",
       "...             ...      ...    ...  ...               ...      ...   \n",
       "6085276           4       11    DEN  GJT                XE   ONTIME   \n",
       "6085277           5       11    DEN  GJT                XE   ONTIME   \n",
       "6085278           6       11    DEN  GJT                XE   ONTIME   \n",
       "6085279           1       11    DEN  GJT                XE   ONTIME   \n",
       "6085280           7       11    DEN  GJT                XE   ONTIME   \n",
       "\n",
       "         prediction         0         1  dep delay(min)  \n",
       "0                 1  0.000000  1.000000        7.893317  \n",
       "1                 1  0.045054  0.954946        9.665640  \n",
       "2                 1  0.105685  0.894315        8.178922  \n",
       "3                 1  0.051124  0.948876        8.294307  \n",
       "4                 1  0.041095  0.958905       10.606389  \n",
       "...             ...       ...       ...             ...  \n",
       "6085276           1  0.000000  1.000000        5.449885  \n",
       "6085277           1  0.000000  1.000000        4.654993  \n",
       "6085278           1  0.241313  0.758687        2.906883  \n",
       "6085279           1  0.000000  1.000000        4.509136  \n",
       "6085280           1  0.000000  1.000000        2.736813  \n",
       "\n",
       "[5973529 rows x 10 columns]"
      ]
     },
     "execution_count": 28,
     "metadata": {},
     "output_type": "execute_result"
    }
   ],
   "source": [
    "df"
   ]
  },
  {
   "cell_type": "markdown",
   "id": "092be2b3",
   "metadata": {},
   "source": [
    "## 2.3 P(delayed | single predictor)"
   ]
  },
  {
   "cell_type": "markdown",
   "id": "b3d91dc5",
   "metadata": {},
   "source": [
    "We can calculate the probabilty of the flight being delayed the following way"
   ]
  },
  {
   "cell_type": "markdown",
   "id": "96cbaadf",
   "metadata": {},
   "source": [
    "P(delayed | carrier, day_of_week, dep_time, dest, origin) ~ P(delayed|carrier) * ... * P(delayed|origin) = A <br>\n",
    "P(on_time | carrier, day_of_week, dep_time, dest, origin) ~ P(on_time|carrier) * ... * P(on_time|origin) = B <br>\n",
    "P(delayed | carrier, day_of_week, dep_time, dest, origin) = A/(A+B)\n"
   ]
  },
  {
   "cell_type": "markdown",
   "id": "2a50e075",
   "metadata": {},
   "source": [
    "In the following, I have created a dictionary of all the tables that have <b>P(delayed or ontime | predictor)</b> for <u>each single one of our five predictors</u>"
   ]
  },
  {
   "cell_type": "code",
   "execution_count": 18,
   "id": "46a18111",
   "metadata": {},
   "outputs": [],
   "source": [
    "big_df['t'] =1"
   ]
  },
  {
   "cell_type": "code",
   "execution_count": 19,
   "id": "d501d4f5",
   "metadata": {},
   "outputs": [],
   "source": [
    "import numpy as np\n",
    "P_df = {}\n",
    "for predictor in predictors:\n",
    "    table_name = 'Prob_Table_'+str(predictor)\n",
    "    P_df[table_name] = pd.pivot_table(big_df, values='t', index=[predictor], columns=['STATUS'], aggfunc=np.sum)\n",
    "    P_df[table_name]['%ONTIME'] = P_df[table_name]['ONTIME']/(P_df[table_name]['ONTIME'].sum()) \n",
    "    P_df[table_name]['%DELAYED'] = P_df[table_name]['DELAYED']/(P_df[table_name]['DELAYED'].sum())"
   ]
  },
  {
   "cell_type": "code",
   "execution_count": 20,
   "id": "4ab47e6d",
   "metadata": {},
   "outputs": [
    {
     "data": {
      "text/html": [
       "<div>\n",
       "<style scoped>\n",
       "    .dataframe tbody tr th:only-of-type {\n",
       "        vertical-align: middle;\n",
       "    }\n",
       "\n",
       "    .dataframe tbody tr th {\n",
       "        vertical-align: top;\n",
       "    }\n",
       "\n",
       "    .dataframe thead th {\n",
       "        text-align: right;\n",
       "    }\n",
       "</style>\n",
       "<table border=\"1\" class=\"dataframe\">\n",
       "  <thead>\n",
       "    <tr style=\"text-align: right;\">\n",
       "      <th>STATUS</th>\n",
       "      <th>DELAYED</th>\n",
       "      <th>ONTIME</th>\n",
       "      <th>%ONTIME</th>\n",
       "      <th>%DELAYED</th>\n",
       "    </tr>\n",
       "    <tr>\n",
       "      <th>DAY_OF_WEEK</th>\n",
       "      <th></th>\n",
       "      <th></th>\n",
       "      <th></th>\n",
       "      <th></th>\n",
       "    </tr>\n",
       "  </thead>\n",
       "  <tbody>\n",
       "    <tr>\n",
       "      <th>1</th>\n",
       "      <td>156721</td>\n",
       "      <td>729609</td>\n",
       "      <td>0.146812</td>\n",
       "      <td>0.156121</td>\n",
       "    </tr>\n",
       "    <tr>\n",
       "      <th>2</th>\n",
       "      <td>137074</td>\n",
       "      <td>720192</td>\n",
       "      <td>0.144917</td>\n",
       "      <td>0.136549</td>\n",
       "    </tr>\n",
       "    <tr>\n",
       "      <th>3</th>\n",
       "      <td>139098</td>\n",
       "      <td>724595</td>\n",
       "      <td>0.145803</td>\n",
       "      <td>0.138565</td>\n",
       "    </tr>\n",
       "    <tr>\n",
       "      <th>4</th>\n",
       "      <td>167705</td>\n",
       "      <td>723299</td>\n",
       "      <td>0.145542</td>\n",
       "      <td>0.167062</td>\n",
       "    </tr>\n",
       "    <tr>\n",
       "      <th>5</th>\n",
       "      <td>159604</td>\n",
       "      <td>735592</td>\n",
       "      <td>0.148016</td>\n",
       "      <td>0.158993</td>\n",
       "    </tr>\n",
       "    <tr>\n",
       "      <th>6</th>\n",
       "      <td>110038</td>\n",
       "      <td>636403</td>\n",
       "      <td>0.128057</td>\n",
       "      <td>0.109616</td>\n",
       "    </tr>\n",
       "    <tr>\n",
       "      <th>7</th>\n",
       "      <td>133606</td>\n",
       "      <td>699993</td>\n",
       "      <td>0.140853</td>\n",
       "      <td>0.133094</td>\n",
       "    </tr>\n",
       "  </tbody>\n",
       "</table>\n",
       "</div>"
      ],
      "text/plain": [
       "STATUS       DELAYED  ONTIME   %ONTIME  %DELAYED\n",
       "DAY_OF_WEEK                                     \n",
       "1             156721  729609  0.146812  0.156121\n",
       "2             137074  720192  0.144917  0.136549\n",
       "3             139098  724595  0.145803  0.138565\n",
       "4             167705  723299  0.145542  0.167062\n",
       "5             159604  735592  0.148016  0.158993\n",
       "6             110038  636403  0.128057  0.109616\n",
       "7             133606  699993  0.140853  0.133094"
      ]
     },
     "execution_count": 20,
     "metadata": {},
     "output_type": "execute_result"
    }
   ],
   "source": [
    "P_df['Prob_Table_DAY_OF_WEEK']"
   ]
  },
  {
   "cell_type": "markdown",
   "id": "01c48ec0",
   "metadata": {},
   "source": [
    "## 2.4 Probabilty drop down menu"
   ]
  },
  {
   "cell_type": "markdown",
   "id": "d89003bc",
   "metadata": {},
   "source": [
    "The code below calculates probability of delay using two different method. The method described in 3.3 and in <code>proba</code> feature of the ML models<br>\n",
    "Before proceeding to the execution of the code below<br> \n",
    "> 1. make sure that <b>secion 3.3</b> is already executed<br>\n",
    "> 2. make sure the <b>linear regression</b> model is unpickled here before being applied<br>\n",
    "> 3. make sure that the <code>ohe</code> is trained"
   ]
  },
  {
   "cell_type": "markdown",
   "id": "3933230a",
   "metadata": {},
   "source": [
    "The same optimum threshold determined in section 1.3 is used here to make prediction"
   ]
  },
  {
   "cell_type": "code",
   "execution_count": 29,
   "id": "3160fa26",
   "metadata": {},
   "outputs": [
    {
     "data": {
      "application/vnd.jupyter.widget-view+json": {
       "model_id": "11829040bff64b569be4e1cb476fb3d9",
       "version_major": 2,
       "version_minor": 0
      },
      "text/plain": [
       "interactive(children=(Dropdown(description='origin', options=('ABE', 'ABI', 'ABQ', 'ABY', 'ACK', 'ACT', 'ACV',…"
      ]
     },
     "metadata": {},
     "output_type": "display_data"
    }
   ],
   "source": [
    "from ipywidgets import *\n",
    "\n",
    "origin = Dropdown(options = sorted(big_df['ORIGIN'].unique().tolist()))\n",
    "dest = Dropdown()\n",
    "dow = Dropdown()\n",
    "carr = Dropdown()\n",
    "tod = Dropdown()\n",
    "\n",
    "grouped_df = big_df.groupby(by='ORIGIN')\n",
    "grouped_df2 = big_df.groupby(by=['ORIGIN', 'DEST'])\n",
    "grouped_df3 = big_df.groupby(by=['ORIGIN', 'DEST', 'DAY_OF_WEEK'])\n",
    "grouped_df4 = big_df.groupby(by=['ORIGIN', 'DEST', 'DAY_OF_WEEK', 'OP_UNIQUE_CARRIER'])\n",
    "                    \n",
    "# Define a function that updates the content of all dropdowns one-by-one based on what we select for the previous one\n",
    "def update(*args):\n",
    "    dest.options = sorted(grouped_df.get_group(origin.value)['DEST'].unique().tolist())\n",
    "    dow.options = sorted(grouped_df2.get_group((origin.value, dest.value))['DAY_OF_WEEK'].unique().tolist())\n",
    "    carr.options = sorted(grouped_df3.get_group((origin.value, dest.value, dow.value))['OP_UNIQUE_CARRIER'].unique().tolist())\n",
    "    tod.options = sorted(grouped_df4.get_group((origin.value, dest.value, dow.value, carr.value))['DEP_TIME'].unique().tolist())\n",
    "origin.observe(update)\n",
    "\n",
    "# Function to calculate probability and linear regression function\n",
    "def f(origin, destination, dow, airline, tod):\n",
    "    A = P_df['Prob_Table_ORIGIN'].loc[origin, '%DELAYED']*\\\n",
    "        P_df['Prob_Table_DEST'].loc[destination, '%DELAYED']*\\\n",
    "        P_df['Prob_Table_DAY_OF_WEEK'].loc[1, '%DELAYED']*\\\n",
    "        P_df['Prob_Table_OP_UNIQUE_CARRIER'].loc[airline, '%DELAYED']*\\\n",
    "        P_df['Prob_Table_DEP_TIME'].loc[tod, '%DELAYED']\n",
    "    \n",
    "    B = P_df['Prob_Table_ORIGIN'].loc[origin, '%ONTIME']*\\\n",
    "        P_df['Prob_Table_DEST'].loc[destination, '%ONTIME']*\\\n",
    "        P_df['Prob_Table_DAY_OF_WEEK'].loc[1, '%ONTIME']*\\\n",
    "        P_df['Prob_Table_OP_UNIQUE_CARRIER'].loc[airline, '%ONTIME']*\\\n",
    "        P_df['Prob_Table_DEP_TIME'].loc[tod, '%ONTIME']\n",
    "    \n",
    "    model1_P = \"{:.2f}\".format(A/(A+B))\n",
    "    model_P = model.value.predict_proba(ohe.transform([[dow,tod,origin,destination,airline]]))[0][0]\n",
    "    delay_minutes = \"{:.2f}\".format(lr.predict(ohe.transform([[dow,tod,origin,destination,airline]]))[0])\n",
    "    if model_P>=thresholds[ix]:\n",
    "        status = 'delayed'\n",
    "    else:\n",
    "        status = 'ontime'\n",
    "    model_P = \"{:.2f}\".format(model_P*100)\n",
    "    return print(f\"Probability of delay-method1:\\t {model1_P} %\", \n",
    "                 f\"Probability of delay-{model.label}:\\t {model_P} %\", \n",
    "                 f\"length of delay prediction:\\t {delay_minutes} min\",\n",
    "                 f\"predicted status:\\t {status}\",\n",
    "                 \n",
    "                 sep='\\n')\n",
    "\n",
    "\n",
    "interact(f,\n",
    "         origin = origin,\n",
    "         destination = dest,\n",
    "         dow = dow,\n",
    "         airline = carr,\n",
    "         tod = tod\n",
    "        );"
   ]
  },
  {
   "cell_type": "markdown",
   "id": "bb42b83d",
   "metadata": {},
   "source": [
    "# 4. Visualization"
   ]
  },
  {
   "cell_type": "markdown",
   "id": "8d12ecf7",
   "metadata": {},
   "source": [
    "## 3.1 Heat Map using drop down menu"
   ]
  },
  {
   "cell_type": "code",
   "execution_count": 30,
   "id": "61f6ebc8",
   "metadata": {},
   "outputs": [],
   "source": [
    "import ipywidgets as widgets\n",
    "import matplotlib.pyplot as plt\n",
    "\n",
    "big_df['ISDELAYED'] = [1 if delay>15 else 0 for delay in big_df['DEP_DELAY']]\n",
    "\n",
    "agg = big_df.groupby(by=['ORIGIN', 'DAY_OF_WEEK', 'OP_UNIQUE_CARRIER']).ISDELAYED.mean().fillna(0)\n",
    "agg = agg.reset_index()\n",
    "\n",
    "def heatmap(orig):    \n",
    "    data = pd.pivot_table(agg[agg.ORIGIN==orig], values='ISDELAYED', aggfunc=np.sum,\n",
    "                         index=['OP_UNIQUE_CARRIER'], columns=['DAY_OF_WEEK']\n",
    "                         )\n",
    "\n",
    "    import seaborn as sns\n",
    "\n",
    "    data = data[[7, 1, 2, 3, 4, 5, 6]]\n",
    "    ax = sns.heatmap(data, vmin=0, vmax=0.3\n",
    "                    ,cmap=sns.light_palette(\"navy\")\n",
    "                    )\n",
    "    ax.set_xticklabels(['Sun', 'Mon', 'Tue', 'Wed', 'Thu', 'Fri', 'Sat'])\n",
    "    plt.show()\n",
    "    "
   ]
  },
  {
   "cell_type": "code",
   "execution_count": 31,
   "id": "b7ac49a5",
   "metadata": {
    "scrolled": false
   },
   "outputs": [
    {
     "data": {
      "application/vnd.jupyter.widget-view+json": {
       "model_id": "5ffe4a18a75a484fb40a0f8f89f56b0f",
       "version_major": 2,
       "version_minor": 0
      },
      "text/plain": [
       "interactive(children=(Dropdown(description='orig', options=('ABE', 'ABI', 'ABQ', 'ABY', 'ACK', 'ACT', 'ACV', '…"
      ]
     },
     "metadata": {},
     "output_type": "display_data"
    }
   ],
   "source": [
    "import numpy as np\n",
    "\n",
    "widgets.interact(heatmap, orig=sorted(big_df['ORIGIN'].unique().tolist()));"
   ]
  }
 ],
 "metadata": {
  "kernelspec": {
   "display_name": "Python 3 (ipykernel)",
   "language": "python",
   "name": "python3"
  },
  "language_info": {
   "codemirror_mode": {
    "name": "ipython",
    "version": 3
   },
   "file_extension": ".py",
   "mimetype": "text/x-python",
   "name": "python",
   "nbconvert_exporter": "python",
   "pygments_lexer": "ipython3",
   "version": "3.9.12"
  }
 },
 "nbformat": 4,
 "nbformat_minor": 5
}
