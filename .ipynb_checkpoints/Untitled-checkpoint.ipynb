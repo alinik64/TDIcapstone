{
 "cells": [
  {
   "cell_type": "code",
   "execution_count": 6,
   "id": "74a3c556",
   "metadata": {},
   "outputs": [],
   "source": [
    "import requests"
   ]
  },
  {
   "cell_type": "code",
   "execution_count": 40,
   "id": "7a50902d",
   "metadata": {},
   "outputs": [
    {
     "name": "stderr",
     "output_type": "stream",
     "text": [
      "C:\\Users\\nikpara\\Anaconda3\\lib\\site-packages\\urllib3\\connectionpool.py:1013: InsecureRequestWarning: Unverified HTTPS request is being made to host 'www.transtats.bts.gov'. Adding certificate verification is strongly advised. See: https://urllib3.readthedocs.io/en/latest/advanced-usage.html#ssl-warnings\n",
      "  warnings.warn(\n"
     ]
    }
   ],
   "source": [
    "url = 'https://www.transtats.bts.gov/DL_SelectFields.aspx?gnoyr_VQ=FGJ&QO_fu146_anzr=b0-gvzr'\n",
    "\n",
    "header = {\n",
    "    \"Host\": \"www.transtats.bts.gov\",\n",
    "    \"Accept\" : \"text/html,application/xhtml+xml,application/xml;q=0.9,image/avif,image/webp,*/*;q=0.8\",\n",
    "    \"Accept-Encoding\" : \"gzip, deflate, br\",\n",
    "    \"Accept-Language\" : \"en-US,en;q=0.5\",\n",
    "    \"Connection\" : \"keep-alive\",\n",
    "    \"Content-Length\" : \"12357\",\n",
    "    \"Content-Type\" : \"application/x-www-form-urlencoded\",\n",
    "    \"Cookie\" : \"ASP.NET_SessionId=1dq1bn1icaysmzjkquhbpr4c; f5avraaaaaaaaaaaaaaaa_session_=JMGAIJIFHAEDLOGGFJGKACBKCMFDLFDGDODDMAFKFHBBIIFCBCOGMHMJKJIGLMMAJJODCBDJOMPOANBKOHNAEMIGPEDFEJACBGMOGBILIJNACCLIAIKMPHGJAOPMLMEK; _ga_NQ5ZN114SB=GS1.1.1654803791.1.0.1654803792.0; _ga=GA1.2.244577466.1654803792; has_js=1; _gid=GA1.2.1987533699.1654803792; _gat_gtag_UA_18660041_1=1; _gat=1; _ga=GA1.3.244577466.1654803792; _gid=GA1.3.1987533699.1654803792; _gat_b=1; __utma=261918792.244577466.1654803792.1654803792.1654803792.1; __utmb=261918792.1.10.1654803792; __utmc=261918792; __utmz=261918792.1654803792.1.1.utmcsr=(direct)|utmccn=(direct)|utmcmd=(none); __utmt_GSA_CP=1; f5avr1969959209aaaaaaaaaaaaaaaa_cspm_=KFEFBIIENAEDDAEGHDLKAMBKPNPDHMCGGGJHOAEKEHBBIIFCAOPHMPMJKJOHLMMAJJOCCBDJAPNMFDDIOHNAEMIGCEJDDNKECMELFCLIIJNACCIGNAABJCGJAOPMLMDC; QSI_HistorySession=https%3A%2F%2Fwww.transtats.bts.gov%2FDL_SelectFields.aspx%3Fgnoyr_VQ%3DFGJ%26QO_fu146_anzr%3Db0-gvzr~1654803793456\",\n",
    "    \"Host\" : \"www.transtats.bts.gov\",\n",
    "    \"Origin\" : \"https://www.transtats.bts.gov\",\n",
    "    \"Referer\" : \"https://www.transtats.bts.gov/DL_SelectFields.aspx?gnoyr_VQ=FGJ&QO_fu146_anzr=b0-gvzr\",\n",
    "    \"Sec-Fetch-Dest\" : \"document\",\n",
    "    \"Sec-Fetch-Mode\" : \"navigate\",\n",
    "    \"Sec-Fetch-Site\" : \"same-origin\",\n",
    "    \"Sec-Fetch-User\" : \"?1\",\n",
    "    \"Upgrade-Insecure-Requests\" : \"1\",\n",
    "    \"User-Agent\" : \"Mozilla/5.0 (Windows NT 10.0; Win64; x64; rv:101.0) Gecko/20100101 Firefox/101.0\"\n",
    "        }\n",
    "         \n",
    "\n",
    "Cookies = {\n",
    "    \"__utma\" : \"261918792.244577466.1654803792.1654803792.1654803792.1\",\n",
    "    \"__utmb\" : \"261918792.1.10.1654803792\",\n",
    "    \"__utmc\" : \"261918792\",\n",
    "    \"__utmt_GSA_CP\" : \"1\",\n",
    "    \"__utmz\" : \"261918792.1654803792.1.1.utmcsr=(direct)|utmccn=(direct)|utmcmd=(none)\",\n",
    "    \"_ga\" : \"GA1.3.244577466.1654803792\",\n",
    "    \"_ga_NQ5ZN114SB\" : \"GS1.1.1654803791.1.0.1654803792.0\",\n",
    "    \"_gat\" : \"1\",\n",
    "    \"_gat_b\" : \"1\",\n",
    "    \"_gat_gtag_UA_18660041_1\" : \"1\",\n",
    "    \"_gid\" : \"GA1.3.1987533699.1654803792\",\n",
    "    \"ASP.NET_SessionId\" : \"1dq1bn1icaysmzjkquhbpr4c\",\n",
    "    \"f5avr1969959209aaaaaaaaaaaaaaaa_cspm_\" : \"KFEFBIIENAEDDAEGHDLKAMBKPNPDHMCGGGJHOAEKEHBBIIFCAOPHMPMJKJOHLMMAJJOCCBDJAPNMFDDIOHNAEMIGCEJDDNKECMELFCLIIJNACCIGNAABJCGJAOPMLMDC\",\n",
    "    \"f5avraaaaaaaaaaaaaaaa_session_\" : \"JMGAIJIFHAEDLOGGFJGKACBKCMFDLFDGDODDMAFKFHBBIIFCBCOGMHMJKJIGLMMAJJODCBDJOMPOANBKOHNAEMIGPEDFEJACBGMOGBILIJNACCLIAIKMPHGJAOPMLMEK\",\n",
    "    \"has_js\" : \"1\",\n",
    "    \"QSI_HistorySession\" : \"https://www.transtats.bts.gov/DL_SelectFields.aspx?gnoyr_VQ=FGJ&QO_fu146_anzr=b0-gvzr~1654803793456\",\n",
    "        }    \n",
    "    \n",
    "body ={\n",
    "    \"__EVENTTARGET\" : \"\",\n",
    "    \"__EVENTARGUMENT\" : \"\",\n",
    "    \"__LASTFOCUS\" : \"\",\n",
    "    \"__VIEWSTATE\" : \"AM3fPCt92uKmm5xn73oTbLqjKgFRFjDR7gAsnKhLi7by6PGpDb2QyrEoz8XlPL1KGR4hgso6kTzGsTpAARSK7McXg0WAKVekw/jGx8Th4KOCf4t+KSucMv+8KY9AcLsNoKvt3sxelVJhb9+D4Mp0eX8ZIM1jNK9TmtrAEIqeK7tOy1wfawYzDt+BJ8Oi1c0lrhJO5yRqPLF0CrZsrRfySvRGXPkYeULbiTSdMKvZPo6tNNCCrM26Gqm+bxROlETV/DzJmt1CZZSpJeImQf7yk9rgPXdJQC5SapB0tpfKXC1vEPFY2YCTEx62qJGo0U+kObYDCkcoqDA/hMDyqv3U51qedjWPS1LBi1UfRdTUKLEsnxejTXE3worbxiorJHqgtVk0YzvziAc5re/TRxND9zJxdV/9ilaHwIAAyQJBd/MTZKNmrAq0TQszGOGGh3ON0WPnp/OB4tGAXy/HEcVkjVtn4xYJR8Gklnk6wfVmg41w5PdyR17JszGLoX7HVTu…DvDbEpfPQaEdytnidJmW1MVtrm+zNk55pbQONexVLtx69WWOPTosrQXO9PLrWp5wlqBJV+5VTKEXzXLgkd2oZtq6X0e39VfQ63pdSZpLC7DjfQUNhx+f2OXJkqGa32LvGQjE5ullILmRVwZP4dhX5GyGGAQLBL/pmsVb9/NfYSjM0Lm/wRYJjILDz5tZoJYHu7+koYxVrdvJQ08vQCl9kEbA5sB8CXP+CqOXZlKpC9wxR3i+sRi0MYqAyl++Y0ntCyyCk63xSQZsd2Wz5COp0IshRQy9lW2Cn46qr7ChP8AOSWKde4ugTX5L4dAhx0ES+BnxL/AKT9EN35/+5/DygP1XPLI7RdbVj8Il5mnkhYSGzD7lTr+gpTwtM0PK2CrNuEsPHUfXc8v6Wh2vWJSx5kum/JlEJQdu/INtpY6UaRPqUEANuNtN0mjHIytSYhj6O4ZjwZA6qut25e5batErEe4HXP6YGmyZKXv/ve2vmDglChuXt8enTPqhMSHA==\",\n",
    "    \"__VIEWSTATEGENERATOR\" : \"82CE8F70\",\n",
    "    \"__EVENTVALIDATION\" : \"3GVI+hs61XY7Az7FXg5aQzKV3pFiSYeAA44lIJOuBUmgzj3Vd94H/U+V+gQYpw5b001XL91/ngPMswPd+6V6SO1fe6nPLf2B89xqfA9DX6Fdyq1iacsuS25CLWm4T4B74dduZ6wpgt0o+yH45BpvFsfVf3We2oIOK1o8Tb582ODb1SPW1El2UgpHbhV4o3vkku2F4MYFz9kQqdaRFA5J5vOsDxNJ7n0a3SLhv45WlEblVcexliRk4MSRAY8O3uuHD3FmKuSkU+q+A8RrARLXFFJ5/m83qdRl7iaJ09n6BIGsMfAy190Yc6Bj9f5MikJlLU19sCtfcT2YUwxG5V67+aEB91CI7PqfyanfmxoT4KRkkHXRXAsh04Hw+Ut/9AFUzLx2SB5+McBFFrSmvlvVBh1fuLUhJOxG4jhEAVpMbaJ2Fozyzn+KQe7aomUa+kq3ozAv9OHk3dgIkNID8EjIp2gXgIOrm5upq9r3H8nkBK90gKPTlNS2MeyidHEHbNy…U2Pk03HtXdAvqrz9/qYNk9AC6q0SSDogmOblRuvH1fT91Yw7M2dDvpLVW3XyMasNKjfXDSQ7Hm03BcdRvPu3SGonIDoUy+GnllGCacnQ2V58y3mkWRPBr4t6IraMhTF7FQjFSE7BAkNCdlrr2hjDNOC8tgyfPcx4BOaAyMHcy66ZVOeO2Tlql9VyXPdy/aA/0AmpFJc1JwFwhR+vSbLPisdPvLw7ibTfLrQr73rAh9+IlcdUMSEe/oGAJSjP39MndgGXZfGFRveV44xt1FfpiXBDFsFHcdUR8Q4ai1L9t9o0BLLUfjJAUmfHAcZ3r4NIZrm/xejdI/qtTuFf15VKBlAZms7dn72bK2aPexfWZQ5nwij/nOEXD9+mCUtdnAZsNfrhWo0Pmp1fRKssNOwLl5D16oiXIvVq/bo13gwGSQ6YW+FkC09E45nnvqCmXM3BXCe0zjmRvoC25Adbl2dXrwsd9CxuQQ1M94x3YIshIbrJOcIUJnOBZikvvAx1Q=\",\n",
    "    \"txtSearch\" : \"\",\n",
    "    \"cboGeography\" : \"All\",\n",
    "    \"cboYear\" : \"2022\",\n",
    "    \"cboPeriod\" : \"1\",\n",
    "    \"btnDownload\" : \"Download\",\n",
    "    \"YEAR\" : \"on\",\n",
    "    \"QUARTER\" : \"on\",\n",
    "    \"MONTH\" : \"on\",\n",
    "    \"DAY_OF_MONTH\" : \"on\",\n",
    "    \"DAY_OF_WEEK\" : \"on\",\n",
    "    \"ORIGIN_AIRPORT_ID\" : \"on\",\n",
    "    \"ORIGIN_AIRPORT_SEQ_ID\" : \"on\",\n",
    "    \"ORIGIN_CITY_MARKET_ID\" : \"on\",\n",
    "    \"DEST_AIRPORT_ID\" : \"on\",\n",
    "    \"DEST_AIRPORT_SEQ_ID\" : \"on\",\n",
    "    \"DEST_CITY_MARKET_ID\" : \"on\",\n",
    "        }\n",
    "\n",
    "data = \"__EVENTTARGET=&__EVENTARGUMENT=&__LASTFOCUS=&__VIEWSTATE=AM3fPCt92uKmm5xn73oTbLqjKgFRFjDR7gAsnKhLi7by6PGpDb2QyrEoz8XlPL1KGR4hgso6kTzGsTpAARSK7McXg0WAKVekw%2FjGx8Th4KOCf4t%2BKSucMv%2B8KY9AcLsNoKvt3sxelVJhb9%2BD4Mp0eX8ZIM1jNK9TmtrAEIqeK7tOy1wfawYzDt%2BBJ8Oi1c0lrhJO5yRqPLF0CrZsrRfySvRGXPkYeULbiTSdMKvZPo6tNNCCrM26Gqm%2BbxROlETV%2FDzJmt1CZZSpJeImQf7yk9rgPXdJQC5SapB0tpfKXC1vEPFY2YCTEx62qJGo0U%2BkObYDCkcoqDA%2FhMDyqv3U51qedjWPS1LBi1UfRdTUKLEsnxejTXE3worbxiorJHqgtVk0YzvziAc5re%2FTRxND9zJxdV%2F9ilaHwIAAyQJBd%2FMTZKNmrAq0TQszGOGGh3ON0WPnp%2FOB4tGAXy%2FHEcVkjVtn4xYJR8Gklnk6wfVmg41w5PdyR17JszGLoX7HVTu4f4R%2BxE6yed0GtNsIcacGXaVv3c%2Bh6CrnpWrfW0Jq7jn6VcsCK9Z2nB7QD2E8f2X07YZV%2BuUn%2BGSx6dZLVYR20He2Kil7drroANPkmSZm3ql8kGPcIdvNMzSvQXUYT7cq0FVlO9cR%2BuIzvi4Zfpl3t2vskZ6Al3MktExu6oGuQN9Zb%2BEJ5QrL5mAS%2B3Um5PuxnccPZgxYVAzfzDGgNJHau0kTAyweVBEHKflkkbKZx1mootmBdGWY8cvK7brikjKuX49rb4YBD%2B0X%2Bw8lSuCjG0BI%2FNtqrjFMlkjIriLOKngaK8vOOrdedJJO0Ote3ul66qq7qbLwBLRpds2Xy8o4m8kgfDoIMtKFiBtBH2LI9noazx012p3TsFQqU9AlyRvjLH61BD6su3CMTeXyXaZTFjDPVsjye%2FM%2FYIvEU1vA6qdhVAAcGxKjr0n6j3Sv2Bq%2F0Ui1Qccp72Gf7DXN7Vmbh%2FNl0RQql%2ByhX4Cf1P7zKMYAMoVijl99F5lPJ%2Fwagvlb8SBeBUz1i1hT%2FD9%2FySXA7PL2i4s15HMxLZ544APyszEIXRFKKjGk%2BN4cJZ9nRsyMtW7rgHn48htlyzdvRmkc9fTYeMId2iNGIHGHH8WbCpyVkK1EJvdsuEoQZaBpaTkp46%2B0wy%2FN9a1vlF6RUJxSU2GEy9aPQpz%2Bcxgp%2FVOzjBxYbW0PeLtcxWMEid67e9XKL8DLg8kGsGCuvvPffHElOYk8nkakuHb5alTWxbJChURUVmcBgnxp2rplWirf5Sm6BMIGsw6H8G8zJg5Poe09MZyna3VOPgqnF9eXr84xv4SCuyvDX44sCObNRM761xSUz%2FaRM%2BsNdunttBlyC3ZL0TBiQmpBy%2FExIDcQPr7KivHq7%2B3tbbaz7fRFdWLpUmUu1rgPQEghqWojzJbeLAOAigI%2FgU1AaanS5PDqPYnsnIz3rmCj7NaihU0R2seNNJALPP33WaXlEzdLAL4b1UCh3fVGzPy5%2FcO9UPeDd7lIuhtuAFJvym7RuBhFrmA8mfwtLvwMqGwW80qgYcQHUmeYSZNPx2JFj0UHMVHp4vWJCXi6%2FqiK0EfzUkylwYan6JOrtCTwvkBQfGypEsGUpHgeUygEj6Bo3kSbgFx91ovLQNLtdNAY80kCKB1cToV26lwwBKWAqV7538V1VRHzXYxoU1riqQr%2FiB1bQRLxK3K9AeD5CZFlNml4fqHj4I10CiCy26yuo8KFvJ2JjEwk94GR7PFIB2LfhaVEmBMiAeAfezKe2d%2Fw9JfTf04xw5aXM%2BiHqDVsNB11IkGhIm%2Bt3dvqD1%2BSDAREcDfbxbbpgUHbfubc6RUN3jS01tmLF0snSUfWSDwYH0FToHZxuEzo54jNiYS4XaXe1itaEM1O7mOL6K9aydAdkHI3IA%2FJB6B%2BneSf3bokxhG1J8gQY%2BSbfR8LsHcsx3XPxLeUSMP%2B37ZOPJAWtjVlUUraEBgVWpV87KA7XW7FLM88UqRrTxaRGNo%2Fj6wt0FYUQ3bOyPhoXHM1dkjv6XZ4jFc8CQUjSftdHIaScta6XmkK4cfKpEvVOFLR7IXqNa6kswsQOXW4rwb5AtElQjNY%2Bdz%2BwHK4o%2FfU85TcOax9yPU8BvJJlv2g8dWMInNy32EIMoSCppiqWLR160GeQu8QtCYoAqtkgompz3LrriOyV6xR4xhcVDNXxbXxsYHJPcypcoqq54sWEhW%2FdUujsHxIJEAsTZl%2FIDhtDbRQAeJSEoUGeEL7G0SEY5HgcIpPIeULvRJnYumQWi4nRfdVkI7gCTMyr6F19gHMT2i%2FYRJq9772LhkcpGaF%2BDTpAGJKvvsnRa0hDWITSnjjsbNBeWWSqWeuoLmwgd7noy90YshNy3kfAx3lwjBTVavlNwSy%2FiC8xDH0CW7m81wfEY96g0vzSp48xfZ1qJSmZSU5i0S7jx2%2FwwOy1ADvd4%2BQV1v2E89Nwh2PKZNHQgucv94D1GvRVhlBKVPkHcPqs1PjVJEjfHhjgRsrww4EtDn3OkIHHTwpIC1PffhZi6Tgo5TtovGsg3J%2BHEqQUoTKhdgbE04GyCejubl%2FS8I7qoSJ68pBMt%2BLBRE%2F8yK4N4XRzUHV8kVYz1NxGU%2BUiSbVLYcy6xAkUBFyG7umKL%2FtFG%2BEM3lJEzE8hrQWrbXUwKhCLHi1UiYn%2BBGV4s4Yj%2BSVTYMkP6FP5dgtjvNjjGaNkqvpUYVtxhYXXYChg5s0THDnkxuUIC%2F%2F3Gxhv%2FAQWgfn5WXKwyDkgkuJY0SqM4%2Bl4Qurt6yTNw%2BgJrGCnIDLGv0rrCh0VlU2e%2BUYmlKZ1x9Sdy%2BfFj7jf2w7y3LRcdQ057Qn8INJfWwS9Ml3Pp9KX7L2Zoa4RByeqgsOvGO9Cs%2FkFjaiL0dw95w2nyCBDhhvX%2FW9VHVHjFJPiS48xT54%2BBKYy9YySf8gJ6nPegFpGcRcXbPq9J0sodnaEv1SCY4ySQjOyKLKg%2BY%2F%2BOack5IXv7pibbU7AYMoRzEjvPQjJw48ewyGmnDlE4kJ1ZUWHaIPwUegruwA1rep%2FfBk%2F93rWZIQUIwt58rHGvudAjoxQZT%2BlNFag3Zqsco4tOfa%2FhH6MkFgv%2FXu5b5GyeRiK15pe3FXlL0t5fcJjYVHAPvc5FrpuD%2Bn801XpP78vckBYP2MRXLVvKXA2DGrbZbqaNOgGzr9RsGRh13HVM%2FN0KqIgFXv4pXR71SGo%2FAxTFFmTSJs8ZOJJpedQQqSY%2BDs%2BAoE3D0yE7oMecTg49KMWkY1Ln3xvYPzYC3D%2BeRoGKGbsOMcHXHAU7FGQ42VhfufjaEdS7%2FmTZCYGF%2F2p69CHyLnO2RY5MXjMz4drWrfJdyF0Do1KdH%2FXa4W%2B0vO1TGomkvVu108Ip%2FNyRPS%2FclHT1k1h%2BlhzOUSCk0TBxsiqC1eMQoV%2BfAlWGTM1U%2BhMUiCF6%2BFmdEIkAifTjuVPyGpFMHU3RUf23%2F8EhAX9U3sSt6Bvc0PDukW1%2FAdBld%2FxZN0JE8f0Ads32IPfcjzFYfRwxDNYfXZuAbK5WdPPRnx%2Bmqds9hVoYbSdHB1amAxT3OwyD211ZbcRbrc%2FRl3IvePc9pPM%2BgYQr1nCJo1RKqEWL9jLL4n3UtpVuDbUDVs5uJgdHCzQt54seAVjxCTZ%2Fsrp2GS4jSEgP3FY%2F0TIiA8kHcO3vIeRRqjbUtkJfW4Ar8IkGPMH278xLIM0fDd5LT76QLbSNSFdqWQtdVy4ekpnwbRhPeCND%2FiiB8AMQ8lynVmCp6Z87RQKka%2B9qYA8HJl%2FuMfQ4sh6V%2FZjHjIEOdCXj9YuwyHaJC7dMTGiE653kklKAtNetRI9k7%2BieoKeIQ5ZgWAqW0vlQyLXkXrG8%2BrUjOAlqP7ASjz8iCpUrE%2BJx0MC8md3HAynnUcR7Rv%2F%2BMNZ56CgMqzRQuIWXcwb%2FOtSaYeyuMGh1Bkl0KX8zd1m39qh%2BvCihGh8bU2oxmhmB4P8GmTCDQ9NBcIybhNprkTHLnVolEKFog3CaYKA%2F77GfBm2kiLQmg5KDz6dTw3Y2JP9VWUmADFl1e6LWtjb9aq8sS%2FU1YFXuoFYdVqTtYUzMZPb0JOH08A%2FmpjlPDCe8qsvfriXS%2BTyBoigyZcM0vU8%2BGu2AVbdPHAnWwfy2COqdamEkrStRq2vhnMmhISMAeDkreCfU9z41AkcIXTWqavFlrt84XBfI0GG9ZIg%2Boxe2ppp9mIqZ5in5GqF0sLeMeKsMBX23TQ5d7p5QgpbjBkaQ8mIO5hDVbCtQoEGTEyfWJmQhcZvS7Z4OECQPtpX%2BTgHNjUx1AJWxifiK6SvZZLwerIv7VsPAh78OhZuQXbDkbtLXOjhLRwbRaono5Tyn4DzuXB8xkCfmtFopWHP8AfKC%2FgnTWL1mPDeBMuHMkgKUiHXtQylmrDlzMkEha%2BqGDp2Yy%2FkgQnl6M5StOFODUOrLHhkcoCB%2BEV7E2JIFKxlZBHUJtKm8UYgMEDehYM7pkYRjfG005siTPjJtT4kn9krz3vKZNA30eNDxJ%2FF3C07U5J55TXpd45RJQX1rizuKaB6uJ1oPXB%2FgFUeHkcJh2rE%2BEWK4xi0PD81EX6KeSEBIA%2FaYUSGn3HXjFp8fVmnesuOrWArRTtrxgedrSPqdKc3EohCwAOKTyzdgj%2FZAzIMawivIruxT1VQ4FtEAlCZwzNrnVu2dHHimzQmCe5xj3k94JdzXebddriNZE5sWC3d%2FAOm8%2FJiTgPJ2XVqRz9o77iO1FMelfbRnTZpefp5TAd6ooODG%2FG15H26yL2o%2FKWo5QwSJaOu8DSyDDKBqFxQmsLzgAaXXqSbTxnJgoqPVESzNZ%2BdlEijUva5Y%2FZPutGGVE0ePmFAuLuSxPXsTduafqchOR0FsABGgL2IxsvQoxF5OTJY1qV5XSazQFrOAqJEp3VVb1RnDlVYjxc8FTNoGVNWOF5OcT87WPTfba1SaZxM%2B4Wbt4giat%2BBGn5bfBG2IGivADq2h4fddfjuNDRkvmed8rjnvtQCX45J6zc6LgI3ARCqLF8uHuvMOtYAciyivfCS7GfmsITse0tgMcEe51hCmZNdKoUYhC8P6NmBbcXvTygSHhYgSREVDgVHwcCvlPD1NcWqcdf%2F2pGz4ZXJhJS%2Bd%2Bu1%2BHgWArdLCKWdWxiLjivLjY0zj80bM9E%2BwfS7SY2Vb6%2Ba1JpWI7mF0nBPwvtvinTIZeb2a4J0h2Wu%2B7zkUl6crh3BrP4%2FOzRE%2F%2BLu7Is3TsSLGAm7lir9pkryouNaIjpYEO4ycocxif461uNq6zwz6FNt%2BpiocIJ1v2mZfvh%2BSvaiAGuJU0CY%2F8fxjdc%2BHD5HCj6IPmZreTk1oBnlG5l6kJB%2B3ztwv67Lt6CLM%2B%2FakA%2B%2BG0D90Ch8B7QwFc0FU7hK6RAJiTLTpTKYYucfHlEilfIK5WRjwC3fW8kd07NkEb1jIPM6XKaaZLZ3uUYKGaQKc0JRpIagNxdvPTciMBI0TaRnt6pd7FgZap4x4tgAGRJni2TGWFiB8CKw8kRWAu0u2ZT28TNbTb%2FELbG8a4uv8hkjM18KMsRTtJPES95%2Bqt%2FvGErNAthW%2BPCGKoikrjcLh%2F1LBf5aT%2FRF%2FuCRssUpTiyn22eH1MuleR3luQ9UXCUXf1FDw4BQLL90qLJxI2OUxlmeeuLgc9a9Rh7V71cUp6%2FHNuAacDedjZABRzBiW5ujFGZNovhJoM24WYuaBBwSDPbOK5xe2mlvvxWz7iVYobU0dFHQxVcU1NvZisaTsANPuZSODyx8Ip9Pe%2FlGmibE12nqmHsf4ruO%2BQ2hLy%2Fu78aQlpFxYPS3icYjmAG1%2F6BEdyDeqBpR%2BBshQobUbyp7ScOGqKLPSrl4tb%2FwIUTiN9Pc6bHUtbOjV961Jh5vlt1y1IdkhXImnK0DPjzTjO5rqjCo3MRiw9MBY44pnq6mD1A2XAzGbry2IXGlvQYcn5TFvdSvEXXkkufN5xUj8PGDJvSlm3S5hGffYBJbHGSkrOYkdPktBbUy4DvDbEpfPQaEdytnidJmW1MVtrm%2BzNk55pbQONexVLtx69WWOPTosrQXO9PLrWp5wlqBJV%2B5VTKEXzXLgkd2oZtq6X0e39VfQ63pdSZpLC7DjfQUNhx%2Bf2OXJkqGa32LvGQjE5ullILmRVwZP4dhX5GyGGAQLBL%2FpmsVb9%2FNfYSjM0Lm%2FwRYJjILDz5tZoJYHu7%2BkoYxVrdvJQ08vQCl9kEbA5sB8CXP%2BCqOXZlKpC9wxR3i%2BsRi0MYqAyl%2B%2BY0ntCyyCk63xSQZsd2Wz5COp0IshRQy9lW2Cn46qr7ChP8AOSWKde4ugTX5L4dAhx0ES%2BBnxL%2FAKT9EN35%2F%2B5%2FDygP1XPLI7RdbVj8Il5mnkhYSGzD7lTr%2BgpTwtM0PK2CrNuEsPHUfXc8v6Wh2vWJSx5kum%2FJlEJQdu%2FINtpY6UaRPqUEANuNtN0mjHIytSYhj6O4ZjwZA6qut25e5batErEe4HXP6YGmyZKXv%2Fve2vmDglChuXt8enTPqhMSHA%3D%3D&__VIEWSTATEGENERATOR=82CE8F70&__EVENTVALIDATION=3GVI%2Bhs61XY7Az7FXg5aQzKV3pFiSYeAA44lIJOuBUmgzj3Vd94H%2FU%2BV%2BgQYpw5b001XL91%2FngPMswPd%2B6V6SO1fe6nPLf2B89xqfA9DX6Fdyq1iacsuS25CLWm4T4B74dduZ6wpgt0o%2ByH45BpvFsfVf3We2oIOK1o8Tb582ODb1SPW1El2UgpHbhV4o3vkku2F4MYFz9kQqdaRFA5J5vOsDxNJ7n0a3SLhv45WlEblVcexliRk4MSRAY8O3uuHD3FmKuSkU%2Bq%2BA8RrARLXFFJ5%2Fm83qdRl7iaJ09n6BIGsMfAy190Yc6Bj9f5MikJlLU19sCtfcT2YUwxG5V67%2BaEB91CI7PqfyanfmxoT4KRkkHXRXAsh04Hw%2BUt%2F9AFUzLx2SB5%2BMcBFFrSmvlvVBh1fuLUhJOxG4jhEAVpMbaJ2Fozyzn%2BKQe7aomUa%2Bkq3ozAv9OHk3dgIkNID8EjIp2gXgIOrm5upq9r3H8nkBK90gKPTlNS2MeyidHEHbNyRD0keIHrg%2BDQcgTC5EOObfZqIOthSehW7l6z9oAGDYdhLx6mnkPnkhid0nXaazLIfc%2B4iPwuJbz292evJHTTJ%2FX6rUKnEz9P9%2BjaL3spMFZlv8RAw7rnXz3OOjYVxuQMEJl4TINphWkM2%2FGXJMwozvEQI4c15eaHaom9y1g2XpY62QlBFByc7JcJSxTbvEgmoTPtSpFRpP8cQB7aUIih5EudwRrOF7XGI6T6o5X42Wo73yn%2BdVUrFyXDlZGh2gHnTOo2Oh99vXK3VWaVz7fuguXu67T0LkG2J9B%2BRBBFSB%2BqnMXvrXnLqEsU9x8sJbRPP3Gjy8XVJfVdllK35zluPz3FbwOy1u8Z6POGFqp36%2BeJK4Nxb9TTJIZ6DMjckVCeiYAZAV0cXwgZ6Zof4Zl%2FDcRhftY1ffgztnRyeoFTNUs8Gg6DMTZ5141j5Y7Bl3mx53Fq3f56UtpSC9hEOcP%2BlW0QPVZW8j0AjwvfK4kDgl70Cf21XN4NFnIqiNMYonwfYhL4mSnVLpwaNYQ6fdAQxK1carI1xt%2Fh9PnV0v43F%2FsarWFZWzjNerWBvaAb%2BDopDI%2FI8VI8lmixA%2FJLZ6hI4sCmAkx5o9cGKiKV0r4k6yhHNlNeEE9%2Fn9dMr7GVhWNqtK95TQv9jY97qCO%2By%2B3NDM9WWkTgoaQI2mFSLvCDiG2DnLbdSWb%2FDD8vwlrgSs%2BcHTzEKXKM5TaU5oq%2FP7w3wXhVmXcvbpsYUGLyuCWZZugm2T3DfjOrGn%2F2si60uItIiBMEervF34DKX%2BtHvAfawxz9TJppfboh%2B09hCalQHHwrG1XdqGNnBEDLEUO7wqyZiGnmWbewySwB9rUBn25qGBFoD6GRxZeA9%2BC0bCz5ElLZjxXngh6psg5fZ6UGm%2BbIrJrfkG94%2B%2ByFBnUMF%2BPXwaQL1x1VHRbImLBiEDJywazBc67X35FCM%2Bp3U7A0J%2F%2BDIb11C%2BmorRuyUbWQzTV%2FzJpMnARv0PJ0X10S%2BehV6yPz7n%2BRoZ6EFkWCxeIN1LtJ2WdGoZOe8kIytdyuAsndRjHj9wVHfHS%2B2N53EccSLMMBlBJLrPwDvklZcJijQ1MUEm6%2BK%2FOIHV464plg8BFDiQ9g%2FGgHWcR5SnMNWdB1ar6Nq4Fjuv2zW0S4dBsnkO12XLlXcvC1VulQE6C65k13qilmtV0%2BBX1EaM3J3%2B685G36TzdlJMXSlSsg5E7m%2FkJsX6kGxTpmFQd9mjwEmTNIT5dlQa5%2BntEh00orEnYFk1b2yFTzVr%2B6gVmppalp8%2BiN%2Fk76v3%2F7BmaUMItZU2jt2A198kaf%2B8M%2FL4VwC6ZQfsDv%2BIaPwubOraJSqnUvo0qrjW%2FUDGFXrTbmvYIhYSVYF0VKcgEj7cMVigXgHNvuWEle%2F9QSldDqEX7KUgOyjd6FUL3o0yLdxNDaAiXteMkpRBvHWEPQuAa2a0C1Aan9hFXuvd8vLUDm86yj6RV87a977u1nUeNFCFLx0REcNazF1mZPiGKVcSiTKK8Pizkpz%2BKTsaYOvMLqEQkH2B7o4y536Egr5qr0yH4aUhwFEMZXXyExmqyUY5riAVCkIZ6DtH0PQxbfQ0nkbSEl4BjuMgLT09IBm1H5AqAa%2BZgyqcF06ooBojA6%2BzX9Gw3tHceE6HfgiS7eb%2Bh3YJc6gOgFhYGRv4Lh8bX9Rb5wlNJfj3R5iJSD8S92JKNPfumD4GNqZDrk%2Fx8YLDbvmRlu1kQkiPBH1WIh1WpqoSVYyTZrm%2BDcxdvWrGK4rWaG3El6froXXxQ4MxOLam0jMj9LWfweOlsG%2BMmwaxHoXEPk0JfPP1Zz0MwMkXkwunJRn7AD9FJWEmLQx7ioILlixqA1%2Bmc7tuywS9Z1iWfqTH6TeSzp%2BvhsLGOqTNDTEu9hW1mp47TfaAU6GSZzeuUUTLiVbDgCdBYI1k%2F3ZY0Qv332YTPS2jVmT72kOjwW3VX0J%2B7nOhJp0C5ip0N3Xqag%2Fu3dvjXyMxphK5BUjCEMl9uB2nH30sX4MN08kfsgNsV32f7pVqHjyZLdioSDpkLEXiYIxandphobLW7r9TkfESutG1ut93bylbFLojHYU%2FVLKMewci68jiSRoyOKTgbJpFKuBqvA315Xn2TXzm2LTWOz6ZxLEF1Qsq849bc3KzaWOyEPx%2BPzGfjm3a6ef7gCelk3slOhFqC8CVkOf0eoNTmzXyhv87OZWA0Zw2S4q6Z0oO3xOYfjpfEcYlB%2BTXCczqhR74%2FD4W0faAJS3daM2N1Zbl8vau5ZCqbh0R9mKeROzHehoJMvpznnWlZPeg3EW2qsdM6f3BESkbYHid%2BIlWENOwjscQmoVGahANpz6uRyP%2BpMc5nh0oKN08spyK%2F4DVFMoiGkH1RJdYooJl0bQdGanzJmI2OY1KitrvRrlPwImSBDYsUZ2hZFVEtgBldjjgUD6qx4newrScw1zn3uais8R%2BrzzmZlqulzCdX8oQDulPj47eSP1TxAQiJJ%2FBfQRYWOuNXCzRg%2FweTWEQyy7sy81YOkAF6f8VkVFqXMVLu%2FGZCoTU38yv0v%2F0CBcSux%2BxGO1FKMsAfooOncGUTzs9iNJakaQqk4jC9xPYkzT%2FHm41ryPfNTJ35dhlPS%2FB9nM2sZI9FhjpXZXV6hAYZHHufifjnYGaW%2FFeEkN52I%2FirkC7B1K01gFo0kZUP50RZys3%2BA8%2BDy0q1KzA%2FrW2RJigrtnZ%2FMZDHiZvIUR8WwxxRvtkJtYXnt%2B3gEpAZPLmm4VhWYRSxi3RzYuXcrkBzmrrtKHJgSv8I9BElCWZPsPFGDGeYiHff%2BmDNp9C4Jo9un7svcoa1MYMhqDGn%2FEQu1A%2F60WKvvDqr1PZg5lLWeuNlDNza50RjuGNkKuzGLFHwYoaPGK4dsqsXF2j1bP0ZVxQLs%2BQhhZuiRPgZLY4pwW1IjzNnP6UV2AqVdfpfkTZXFJsv1se8%2FAmKEdq%2B1OjkeBkn23V%2FF9vwU7Qxmi6nCx7%2BkFGZq64%2BE9JubtpO0L40VymvJ37%2B7NPMkJi%2F6%2F26VbTPg3mzrHL3q5k5%2F7LSUelIhdtAvAEK8W7ph4q0CLa%2BPymOxnqfCJjXvJv8cM%2FnSmpIXpWHiRA6JqvfGnr%2BgkP4cFXStUCG6QE%2BIa%2BZv7l014JEu%2BrY7rwhbGNmF5we6hPJ7MI13E8bm5B4LiF4h9XKXywkmKyetWlBMXndViDeoLlc6NiY77CmQn0meKpob%2BFsJtTidYL6ND6m1jMv4z4GlBa91XA8n3CjOzTQjXbBG1GQtCCEacvBa5VC98EqtNL6Fj7vCPvzkOGxPwVOY9svXfFxKFpJJQj34HAvqsg1ATrvN%2F9xUd9hcYJjdYD0woVr019WpQx5RBYEjlM2sTLzQDDTeMOvZzLdbzuGRil8bPUKaPXdpgXpGlBEdkI03CpJbrqD%2Fn33QnZSUJuwE4keW1sPPijKyFj993E1oF5IRW%2BP14BeHTZevHwmXuaCUTjA1%2BJvshNapS9%2F3AId7Wwav0%2F96wzRkbsKMJwpC8HJIXiz22vUgcDTWlntfd8tZHmIWTBn09PoUjkDkwCJr8yAn%2B9JMEaSlS0oFbT4coGwuB%2FPcSNom%2FYTRTMCABRQzNnRywEzHxx8V5%2FZFLD%2FHjuG8I%2B2s8a%2BVkTWuLuUC6YnGZWMUOmP8qoSzDoT5CKEWokXKLgqVlNFrl60un0hfQx3n7L8k0Cmqi2MxOQdejXuBVFaVr5G3IEu3zlc6FTOy2yqRe39RsaL131UQgcyU4WYBt50DZCp%2BICQMYgsU2Pk03HtXdAvqrz9%2FqYNk9AC6q0SSDogmOblRuvH1fT91Yw7M2dDvpLVW3XyMasNKjfXDSQ7Hm03BcdRvPu3SGonIDoUy%2BGnllGCacnQ2V58y3mkWRPBr4t6IraMhTF7FQjFSE7BAkNCdlrr2hjDNOC8tgyfPcx4BOaAyMHcy66ZVOeO2Tlql9VyXPdy%2FaA%2F0AmpFJc1JwFwhR%2BvSbLPisdPvLw7ibTfLrQr73rAh9%2BIlcdUMSEe%2FoGAJSjP39MndgGXZfGFRveV44xt1FfpiXBDFsFHcdUR8Q4ai1L9t9o0BLLUfjJAUmfHAcZ3r4NIZrm%2FxejdI%2FqtTuFf15VKBlAZms7dn72bK2aPexfWZQ5nwij%2FnOEXD9%2BmCUtdnAZsNfrhWo0Pmp1fRKssNOwLl5D16oiXIvVq%2Fbo13gwGSQ6YW%2BFkC09E45nnvqCmXM3BXCe0zjmRvoC25Adbl2dXrwsd9CxuQQ1M94x3YIshIbrJOcIUJnOBZikvvAx1Q%3D&txtSearch=&cboGeography=All&cboYear=2022&cboPeriod=1&btnDownload=Download&YEAR=on&QUARTER=on&MONTH=on&DAY_OF_MONTH=on&DAY_OF_WEEK=on&ORIGIN_AIRPORT_ID=on&ORIGIN_AIRPORT_SEQ_ID=on&ORIGIN_CITY_MARKET_ID=on&DEST_AIRPORT_ID=on&DEST_AIRPORT_SEQ_ID=on&DEST_CITY_MARKET_ID=on\"\n",
    "data2 = \"txtSearch=&cboGeography=All&cboYear=2022&cboPeriod=1&btnDownload=Download&YEAR=on&QUARTER=on&MONTH=on&DAY_OF_MONTH=on&DAY_OF_WEEK=on&ORIGIN_AIRPORT_ID=on&ORIGIN_AIRPORT_SEQ_ID=on&ORIGIN_CITY_MARKET_ID=on&DEST_AIRPORT_ID=on&DEST_AIRPORT_SEQ_ID=on&DEST_CITY_MARKET_ID=on\"\n",
    "\n",
    "\n",
    "\n",
    "x = requests.post(url, headers = header, data = data, verify = False )"
   ]
  },
  {
   "cell_type": "code",
   "execution_count": 41,
   "id": "a37eaff8",
   "metadata": {},
   "outputs": [],
   "source": [
    "with open('foo.zip','wb') as file:\n",
    "    file.write(x.content)"
   ]
  },
  {
   "cell_type": "code",
   "execution_count": null,
   "id": "b1d57913",
   "metadata": {},
   "outputs": [],
   "source": [
    "for y in range(2012,2020):\n",
    "    for m in range(3):\n",
    "        print(\"year = {yy}, month = {mm}\".format(yy = \"2012\", mm = m))"
   ]
  },
  {
   "cell_type": "code",
   "execution_count": null,
   "id": "45fef9dc",
   "metadata": {},
   "outputs": [],
   "source": []
  }
 ],
 "metadata": {
  "kernelspec": {
   "display_name": "Python 3",
   "language": "python",
   "name": "python3"
  },
  "language_info": {
   "codemirror_mode": {
    "name": "ipython",
    "version": 3
   },
   "file_extension": ".py",
   "mimetype": "text/x-python",
   "name": "python",
   "nbconvert_exporter": "python",
   "pygments_lexer": "ipython3",
   "version": "3.8.8"
  }
 },
 "nbformat": 4,
 "nbformat_minor": 5
}
